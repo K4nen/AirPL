{
 "cells": [
  {
   "cell_type": "markdown",
   "source": [
    "# Pour le polluant PM10"
   ],
   "metadata": {
    "collapsed": false
   },
   "id": "d51cef157e88e82e"
  },
  {
   "cell_type": "markdown",
   "source": [
    "### On importe les bibliothèques"
   ],
   "metadata": {
    "collapsed": false
   },
   "id": "a9e6d16654b73117"
  },
  {
   "cell_type": "code",
   "execution_count": 1,
   "id": "initial_id",
   "metadata": {
    "collapsed": true,
    "ExecuteTime": {
     "end_time": "2024-05-15T08:10:24.596847Z",
     "start_time": "2024-05-15T08:10:24.563621Z"
    }
   },
   "outputs": [],
   "source": [
    "import requests\n",
    "import pandas as pd\n",
    "import matplotlib.pyplot as plt\n",
    "import seaborn as sns"
   ]
  },
  {
   "cell_type": "markdown",
   "source": [
    "### Conversion des données en DataFrame"
   ],
   "metadata": {
    "collapsed": false
   },
   "id": "60663cd80dde4072"
  },
  {
   "cell_type": "code",
   "outputs": [],
   "source": [
    "import requests\n",
    "import pandas as pd\n",
    "\n",
    "# Récupérer les données\n",
    "url = \"https://data.airpl.org/api/v1/mesure/journaliere/\"\n",
    "params = {\n",
    "    \"code_configuration_de_mesure__code_point_de_prelevement__code_polluant\": 24,\n",
    "    \"date_heure_tu__range\": \"2024-3-1,2024-3-31\",\n",
    "    \"code_configuration_de_mesure__code_point_de_prelevement__code_station__code_commune__code_departement__in\": \"44,49,53,72,85\",\n",
    "    \"export\": \"json\"\n",
    "}\n",
    "\n",
    "response = requests.get(url, params=params)\n",
    "\n",
    "if response.status_code == 200:\n",
    "    data = response.json()\n",
    "    dfPM10 = pd.DataFrame(data['results'])  # Adapter selon la structure des données JSON\n",
    "\n",
    "    # Sauvegarder le DataFrame pour utilisation ultérieure\n",
    "    dfPM10.to_pickle('PM10.pkl')\n",
    "else:\n",
    "    print(f\"Erreur {response.status_code}: {response.text}\")\n"
   ],
   "metadata": {
    "collapsed": false,
    "ExecuteTime": {
     "end_time": "2024-05-15T08:11:05.663700Z",
     "start_time": "2024-05-15T08:10:24.598058Z"
    }
   },
   "id": "69648de17f07082b",
   "execution_count": 2
  },
  {
   "cell_type": "code",
   "outputs": [
    {
     "name": "stdout",
     "output_type": "stream",
     "text": [
      "id                               object\n",
      "code_polluant                    object\n",
      "code_point_de_prelevement        object\n",
      "code_station                     object\n",
      "nom_station                      object\n",
      "nom_commune                      object\n",
      "code_commune                     object\n",
      "departement_code                 object\n",
      "departement_nom                  object\n",
      "code_zone_affichage               int64\n",
      "date_heure_tu                    object\n",
      "date_heure_local                 object\n",
      "valeur_originale                float64\n",
      "valeur                          float64\n",
      "validite                           bool\n",
      "code_configuration_de_mesure     object\n",
      "dtype: object\n"
     ]
    }
   ],
   "source": [
    "# Charger le DataFrame depuis le fichier sauvegardé\n",
    "dfPM10 = pd.read_pickle('PM10.pkl')\n",
    "\n",
    "# Afficher les types de chaque colonne\n",
    "print(dfPM10.dtypes)\n"
   ],
   "metadata": {
    "collapsed": false,
    "ExecuteTime": {
     "end_time": "2024-05-15T08:11:05.668148Z",
     "start_time": "2024-05-15T08:11:05.662606Z"
    }
   },
   "id": "f719470f49210aa5",
   "execution_count": 3
  },
  {
   "cell_type": "markdown",
   "source": [
    "## Analyse et correction du dataset"
   ],
   "metadata": {
    "collapsed": false
   },
   "id": "38e254b9d217c078"
  },
  {
   "cell_type": "markdown",
   "source": [
    "### Types et valeurs manquantes par variable"
   ],
   "metadata": {
    "collapsed": false
   },
   "id": "9ce7f7fbf11af231"
  },
  {
   "cell_type": "code",
   "outputs": [
    {
     "data": {
      "text/plain": "(589, 16)"
     },
     "execution_count": 4,
     "metadata": {},
     "output_type": "execute_result"
    }
   ],
   "source": [
    "dfPM10.shape"
   ],
   "metadata": {
    "collapsed": false,
    "ExecuteTime": {
     "end_time": "2024-05-15T08:11:05.678084Z",
     "start_time": "2024-05-15T08:11:05.667454Z"
    }
   },
   "id": "7a303c5463714e0c",
   "execution_count": 4
  },
  {
   "cell_type": "code",
   "outputs": [
    {
     "name": "stdout",
     "output_type": "stream",
     "text": [
      "<class 'pandas.core.frame.DataFrame'>\n",
      "RangeIndex: 589 entries, 0 to 588\n",
      "Data columns (total 16 columns):\n",
      " #   Column                        Non-Null Count  Dtype  \n",
      "---  ------                        --------------  -----  \n",
      " 0   id                            589 non-null    object \n",
      " 1   code_polluant                 589 non-null    object \n",
      " 2   code_point_de_prelevement     589 non-null    object \n",
      " 3   code_station                  589 non-null    object \n",
      " 4   nom_station                   589 non-null    object \n",
      " 5   nom_commune                   589 non-null    object \n",
      " 6   code_commune                  589 non-null    object \n",
      " 7   departement_code              589 non-null    object \n",
      " 8   departement_nom               589 non-null    object \n",
      " 9   code_zone_affichage           589 non-null    int64  \n",
      " 10  date_heure_tu                 589 non-null    object \n",
      " 11  date_heure_local              589 non-null    object \n",
      " 12  valeur_originale              576 non-null    float64\n",
      " 13  valeur                        576 non-null    float64\n",
      " 14  validite                      589 non-null    bool   \n",
      " 15  code_configuration_de_mesure  589 non-null    object \n",
      "dtypes: bool(1), float64(2), int64(1), object(12)\n",
      "memory usage: 69.7+ KB\n"
     ]
    }
   ],
   "source": [
    "dfPM10.info()"
   ],
   "metadata": {
    "collapsed": false,
    "ExecuteTime": {
     "end_time": "2024-05-15T08:11:05.755973Z",
     "start_time": "2024-05-15T08:11:05.677156Z"
    }
   },
   "id": "1f95a7f308714bf7",
   "execution_count": 5
  },
  {
   "cell_type": "code",
   "outputs": [
    {
     "data": {
      "text/plain": "id                               0\ncode_polluant                    0\ncode_point_de_prelevement        0\ncode_station                     0\nnom_station                      0\nnom_commune                      0\ncode_commune                     0\ndepartement_code                 0\ndepartement_nom                  0\ncode_zone_affichage              0\ndate_heure_tu                    0\ndate_heure_local                 0\nvaleur_originale                13\nvaleur                          13\nvalidite                         0\ncode_configuration_de_mesure     0\ndtype: int64"
     },
     "execution_count": 6,
     "metadata": {},
     "output_type": "execute_result"
    }
   ],
   "source": [
    "dfPM10.isnull().sum()"
   ],
   "metadata": {
    "collapsed": false,
    "ExecuteTime": {
     "end_time": "2024-05-15T08:11:05.756374Z",
     "start_time": "2024-05-15T08:11:05.698032Z"
    }
   },
   "id": "13fec31304850d00",
   "execution_count": 6
  },
  {
   "cell_type": "markdown",
   "source": [
    "Observations : \n",
    "- On remarque que pour les colonnes \"valeur_originale\" et \"valeur\" on a quelques lignes vides (13), mais aucune colonne entièrement vide\n",
    "- Les types des différentes colonnes semblent cohérant par rapport à ce qu'elles affichent"
   ],
   "metadata": {
    "collapsed": false
   },
   "id": "ddd04a28f2e53067"
  },
  {
   "cell_type": "code",
   "outputs": [],
   "source": [],
   "metadata": {
    "collapsed": false,
    "ExecuteTime": {
     "end_time": "2024-05-15T08:11:05.756524Z",
     "start_time": "2024-05-15T08:11:05.700499Z"
    }
   },
   "id": "36a0ed39b4a8f3ea",
   "execution_count": 6
  }
 ],
 "metadata": {
  "kernelspec": {
   "display_name": "Python 3",
   "language": "python",
   "name": "python3"
  },
  "language_info": {
   "codemirror_mode": {
    "name": "ipython",
    "version": 2
   },
   "file_extension": ".py",
   "mimetype": "text/x-python",
   "name": "python",
   "nbconvert_exporter": "python",
   "pygments_lexer": "ipython2",
   "version": "2.7.6"
  }
 },
 "nbformat": 4,
 "nbformat_minor": 5
}
