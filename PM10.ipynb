{
 "cells": [
  {
   "cell_type": "markdown",
   "source": [
    "# Pour le polluant PM10"
   ],
   "metadata": {
    "collapsed": false
   },
   "id": "d51cef157e88e82e"
  },
  {
   "cell_type": "markdown",
   "source": [
    "### On importe les bibliothèques"
   ],
   "metadata": {
    "collapsed": false
   },
   "id": "a9e6d16654b73117"
  },
  {
   "cell_type": "code",
   "id": "initial_id",
   "metadata": {
    "collapsed": true,
    "ExecuteTime": {
     "end_time": "2024-05-25T15:19:51.752085Z",
     "start_time": "2024-05-25T15:19:51.470135Z"
    }
   },
   "source": [
    "import requests\n",
    "import pandas as pd\n",
    "import matplotlib.pyplot as plt\n",
    "import seaborn as sns"
   ],
   "outputs": [],
   "execution_count": 2
  },
  {
   "cell_type": "markdown",
   "source": [
    "### Conversion des données en DataFrame"
   ],
   "metadata": {
    "collapsed": false
   },
   "id": "60663cd80dde4072"
  },
  {
   "cell_type": "code",
   "source": [
    "\n",
    "# URL de base\n",
    "url = \"https://data.airpl.org/api/v1/mesure/horaire/\"\n",
    "\n",
    "# Paramètres de base de la requête\n",
    "base_params = {\n",
    "    \"code_configuration_de_mesure__code_point_de_prelevement__code_polluant\": 24,\n",
    "    \"date_heure_tu__range\": \"2024-1-1,2024-3-31 23:00:00\",\n",
    "    \"code_configuration_de_mesure__code_point_de_prelevement__code_station__code_commune__code_departement__in\": \"44,49,53,72,85\",\n",
    "    \"export\": \"json\"\n",
    "}\n",
    "# Limite de résultats par requête\n",
    "limit = 1000\n",
    "offset = 0\n",
    "\n",
    "# DataFrame pour stocker tous les résultats\n",
    "dfPM10 = pd.DataFrame()\n",
    "\n",
    "while True:\n",
    "    # Mettre à jour les paramètres avec la limite et l'offset\n",
    "    params = base_params.copy()\n",
    "    params.update({\n",
    "        \"limit\": limit,\n",
    "        \"offset\": offset\n",
    "    })\n",
    "    \n",
    "    # Récupérer les données\n",
    "    response = requests.get(url, params=params)\n",
    "    \n",
    "    if response.status_code == 200:\n",
    "        data = response.json()\n",
    "        df_results = pd.DataFrame(data['results'])  # Adapter selon la structure des données JSON\n",
    "        \n",
    "        # Ajouter les résultats au DataFrame principal\n",
    "        dfPM10 = pd.concat([dfPM10, df_results], ignore_index=True)\n",
    "        \n",
    "        # Vérifier si le nombre de résultats récupérés est inférieur à la limite\n",
    "        if len(df_results) < limit:\n",
    "            break  # Arrêter la boucle si tous les enregistrements ont été récupérés\n",
    "        \n",
    "        # Mettre à jour l'offset pour la prochaine itération\n",
    "        offset += limit\n",
    "    else:\n",
    "        print(f\"Erreur {response.status_code}: {response.text}\")\n",
    "        break\n",
    "\n",
    "print(f\"Total records retrieved: {len(dfPM10)}\")\n",
    "\n",
    "# Sauvegarder le DataFrame pour utilisation ultérieure\n",
    "dfPM10.to_pickle('PM10.pkl')\n",
    "\n",
    "# Afficher les premières lignes du DataFrame\n",
    "print(dfPM10.head())\n"
   ],
   "metadata": {
    "collapsed": false,
    "ExecuteTime": {
     "end_time": "2024-05-25T15:20:39.362347Z",
     "start_time": "2024-05-25T15:19:52.739634Z"
    }
   },
   "id": "69648de17f07082b",
   "outputs": [
    {
     "name": "stdout",
     "output_type": "stream",
     "text": [
      "Total records retrieved: 41770\n",
      "                                  id code_polluant code_point_de_prelevement  \\\n",
      "0  2024-03-31 23:00:00FR23003_PM10_1            24              FR23003_PM10   \n",
      "1  2024-03-31 23:00:00FR23068_PM10_4            24              FR23068_PM10   \n",
      "2  2024-03-31 23:00:00FR23070_PM10_3            24              FR23070_PM10   \n",
      "3  2024-03-31 23:00:00FR23078_PM10_2            24              FR23078_PM10   \n",
      "4  2024-03-31 23:00:00FR23107_PM10_4            24              FR23107_PM10   \n",
      "\n",
      "  code_station               nom_station               nom_commune  \\\n",
      "0      FR23003              LA MEGRETAIS                    Donges   \n",
      "1      FR23068                   FROSSAY                   Frossay   \n",
      "2      FR23070  SAINT ETIENNE DE MONTLUC  Saint-Etienne-De-Montluc   \n",
      "3      FR23078             SAINT EXUPERY                    Cholet   \n",
      "4      FR23107            LA CHAUVINIERE                    Nantes   \n",
      "\n",
      "  code_commune departement_code   departement_nom  code_zone_affichage  \\\n",
      "0        44052               44  Loire-Atlantique                    3   \n",
      "1        44061               44  Loire-Atlantique                    3   \n",
      "2        44158               44  Loire-Atlantique                    3   \n",
      "3        49099               49    Maine-et-Loire                    4   \n",
      "4        44109               44  Loire-Atlantique                    1   \n",
      "\n",
      "          date_heure_tu           date_heure_local  valeur_originale  valeur  \\\n",
      "0  2024-03-31T23:00:00Z  2024-04-01T01:00:00+02:00             7.925     7.9   \n",
      "1  2024-03-31T23:00:00Z  2024-04-01T01:00:00+02:00             4.650     4.7   \n",
      "2  2024-03-31T23:00:00Z  2024-04-01T01:00:00+02:00             9.250     9.3   \n",
      "3  2024-03-31T23:00:00Z  2024-04-01T01:00:00+02:00               NaN     NaN   \n",
      "4  2024-03-31T23:00:00Z  2024-04-01T01:00:00+02:00             8.825     8.8   \n",
      "\n",
      "  validite code_configuration_de_mesure  \n",
      "0     True               FR23003_PM10_1  \n",
      "1     True               FR23068_PM10_4  \n",
      "2     True               FR23070_PM10_3  \n",
      "3    False               FR23078_PM10_2  \n",
      "4     True               FR23107_PM10_4  \n"
     ]
    }
   ],
   "execution_count": 3
  },
  {
   "cell_type": "code",
   "source": [
    "# Charger le DataFrame depuis le fichier sauvegardé\n",
    "dfPM10 = pd.read_pickle('PM10.pkl')\n",
    "\n",
    "# Afficher les types de chaque colonne\n",
    "print(dfPM10.dtypes)\n"
   ],
   "metadata": {
    "collapsed": false,
    "ExecuteTime": {
     "end_time": "2024-05-25T15:20:47.329427Z",
     "start_time": "2024-05-25T15:20:47.285954Z"
    }
   },
   "id": "f719470f49210aa5",
   "outputs": [
    {
     "name": "stdout",
     "output_type": "stream",
     "text": [
      "id                               object\n",
      "code_polluant                    object\n",
      "code_point_de_prelevement        object\n",
      "code_station                     object\n",
      "nom_station                      object\n",
      "nom_commune                      object\n",
      "code_commune                     object\n",
      "departement_code                 object\n",
      "departement_nom                  object\n",
      "code_zone_affichage               int64\n",
      "date_heure_tu                    object\n",
      "date_heure_local                 object\n",
      "valeur_originale                float64\n",
      "valeur                          float64\n",
      "validite                         object\n",
      "code_configuration_de_mesure     object\n",
      "dtype: object\n"
     ]
    }
   ],
   "execution_count": 4
  },
  {
   "cell_type": "markdown",
   "source": [
    "## Analyse et correction du dataset"
   ],
   "metadata": {
    "collapsed": false
   },
   "id": "38e254b9d217c078"
  },
  {
   "cell_type": "markdown",
   "source": [
    "### Types et valeurs manquantes par variable"
   ],
   "metadata": {
    "collapsed": false
   },
   "id": "9ce7f7fbf11af231"
  },
  {
   "cell_type": "code",
   "source": [
    "dfPM10.shape"
   ],
   "metadata": {
    "collapsed": false,
    "ExecuteTime": {
     "end_time": "2024-05-25T15:20:51.925336Z",
     "start_time": "2024-05-25T15:20:51.921270Z"
    }
   },
   "id": "7a303c5463714e0c",
   "outputs": [
    {
     "data": {
      "text/plain": [
       "(41770, 16)"
      ]
     },
     "execution_count": 5,
     "metadata": {},
     "output_type": "execute_result"
    }
   ],
   "execution_count": 5
  },
  {
   "cell_type": "code",
   "source": [
    "dfPM10.info()"
   ],
   "metadata": {
    "collapsed": false,
    "ExecuteTime": {
     "end_time": "2024-05-25T15:20:52.377415Z",
     "start_time": "2024-05-25T15:20:52.359547Z"
    }
   },
   "id": "1f95a7f308714bf7",
   "outputs": [
    {
     "name": "stdout",
     "output_type": "stream",
     "text": [
      "<class 'pandas.core.frame.DataFrame'>\n",
      "RangeIndex: 41770 entries, 0 to 41769\n",
      "Data columns (total 16 columns):\n",
      " #   Column                        Non-Null Count  Dtype  \n",
      "---  ------                        --------------  -----  \n",
      " 0   id                            41770 non-null  object \n",
      " 1   code_polluant                 41770 non-null  object \n",
      " 2   code_point_de_prelevement     41770 non-null  object \n",
      " 3   code_station                  41770 non-null  object \n",
      " 4   nom_station                   41770 non-null  object \n",
      " 5   nom_commune                   41770 non-null  object \n",
      " 6   code_commune                  41770 non-null  object \n",
      " 7   departement_code              41770 non-null  object \n",
      " 8   departement_nom               41770 non-null  object \n",
      " 9   code_zone_affichage           41770 non-null  int64  \n",
      " 10  date_heure_tu                 41770 non-null  object \n",
      " 11  date_heure_local              41770 non-null  object \n",
      " 12  valeur_originale              40781 non-null  float64\n",
      " 13  valeur                        40774 non-null  float64\n",
      " 14  validite                      41763 non-null  object \n",
      " 15  code_configuration_de_mesure  41770 non-null  object \n",
      "dtypes: float64(2), int64(1), object(13)\n",
      "memory usage: 5.1+ MB\n"
     ]
    }
   ],
   "execution_count": 6
  },
  {
   "cell_type": "code",
   "source": [
    "dfPM10.isnull().sum()"
   ],
   "metadata": {
    "collapsed": false,
    "ExecuteTime": {
     "end_time": "2024-05-25T15:20:53.736891Z",
     "start_time": "2024-05-25T15:20:53.723279Z"
    }
   },
   "id": "13fec31304850d00",
   "outputs": [
    {
     "data": {
      "text/plain": [
       "id                                0\n",
       "code_polluant                     0\n",
       "code_point_de_prelevement         0\n",
       "code_station                      0\n",
       "nom_station                       0\n",
       "nom_commune                       0\n",
       "code_commune                      0\n",
       "departement_code                  0\n",
       "departement_nom                   0\n",
       "code_zone_affichage               0\n",
       "date_heure_tu                     0\n",
       "date_heure_local                  0\n",
       "valeur_originale                989\n",
       "valeur                          996\n",
       "validite                          7\n",
       "code_configuration_de_mesure      0\n",
       "dtype: int64"
      ]
     },
     "execution_count": 7,
     "metadata": {},
     "output_type": "execute_result"
    }
   ],
   "execution_count": 7
  },
  {
   "cell_type": "markdown",
   "source": [
    "Observations : \n",
    "- On remarque que pour les colonnes \"valeur_originale\" et \"valeur\" et validite on a quelques lignes vides, mais aucune colonne entièrement vide"
   ],
   "metadata": {
    "collapsed": false
   },
   "id": "ddd04a28f2e53067"
  },
  {
   "cell_type": "markdown",
   "source": [
    "## Visualiser les différentes données de chaque colonne"
   ],
   "metadata": {
    "collapsed": false
   },
   "id": "4e8c777dbe691230"
  },
  {
   "cell_type": "code",
   "source": [
    "for col in dfPM10.select_dtypes('float64'):\n",
    "    print(f'{col :-<20} {dfPM10[col].unique()}')"
   ],
   "metadata": {
    "collapsed": false,
    "ExecuteTime": {
     "end_time": "2024-05-25T15:20:56.475213Z",
     "start_time": "2024-05-25T15:20:56.470210Z"
    }
   },
   "id": "6e5039c254124cec",
   "outputs": [
    {
     "name": "stdout",
     "output_type": "stream",
     "text": [
      "valeur_originale---- [ 7.925     4.65      9.25     ... 32.100002 29.349998 51.150002]\n",
      "valeur-------------- [7.90e+00 4.70e+00 9.30e+00      nan 8.80e+00 8.70e+00 6.70e+00 6.20e+00\n",
      " 7.30e+00 8.90e+00 8.50e+00 7.40e+00 7.10e+00 1.00e+01 1.50e+01 9.50e+00\n",
      " 1.40e+01 1.10e+01 7.50e+00 6.60e+00 9.60e+00 6.30e+00 4.80e+00 9.40e+00\n",
      " 1.20e+01 8.30e+00 7.20e+00 1.30e+01 8.60e+00 9.80e+00 1.90e+00 5.00e+00\n",
      " 8.00e+00 7.00e+00 5.90e+00 4.30e-01 9.20e+00 5.40e+00 6.90e+00 5.60e+00\n",
      " 4.40e+00 9.10e+00 5.30e+00 4.30e+00 6.40e+00 6.10e+00 3.50e+00 5.70e+00\n",
      " 5.10e+00 2.70e+00 3.70e+00 3.60e+00 4.00e+00 4.60e+00 3.00e+00 6.80e+00\n",
      " 3.40e+00 3.30e+00 3.20e+00 3.80e+00 2.60e+00 3.10e+00 5.50e+00 2.90e+00\n",
      " 2.50e+00 3.90e+00 2.10e+00 2.80e+00 5.20e+00 8.20e+00 1.70e+00 4.20e+00\n",
      " 4.10e+00 2.40e+00 1.80e+00 7.80e+00 8.40e+00 2.00e+00 4.50e+00 2.40e+01\n",
      " 6.00e+00 7.60e+00 8.10e+00 5.80e+00 4.90e+00 7.70e+00 6.50e+00 0.00e+00\n",
      " 2.20e+00 2.30e+00 9.00e+00 3.80e-01 1.60e+00 9.30e-01 1.30e+00 1.50e+00\n",
      " 5.30e-01 1.60e+01 1.80e+01 2.80e+01 2.10e+01 1.40e+00 9.90e+00 1.70e+01\n",
      " 2.00e+01 3.10e+01 1.90e+01 2.30e+01 2.90e+01 2.20e+01 9.70e+00 2.50e-01\n",
      " 3.00e-01 1.10e+00 3.40e+01 7.00e+01 2.60e+01 2.50e+01 2.70e+01 5.00e-02\n",
      " 2.50e-02 8.00e-01 6.70e-02 4.00e-01 3.70e+01 3.20e+01 4.10e+01 4.50e-01\n",
      " 3.90e+01 3.30e+01 5.60e+01 3.00e+01 3.60e+01 3.50e+01 8.40e+01 4.40e+01\n",
      " 6.80e+01 3.80e+01 4.30e+01 4.80e+01 1.20e+00 4.00e+01 4.20e+01 4.70e+01\n",
      " 4.50e+01 5.50e+01 5.70e+01 6.10e+01 5.40e+01 1.29e+02 8.50e-01 1.00e+00\n",
      " 2.80e-01 9.40e+01 1.03e+02 6.50e+01 4.60e+01 5.00e+01 6.90e+01 5.30e+01\n",
      " 5.80e+01 1.50e-01 1.00e-01 9.00e-01 4.90e+01 5.10e+01 9.50e-01 9.80e-01\n",
      " 5.70e-01 7.00e-01 7.50e-01 5.00e-01 6.30e-01 8.90e+01 7.90e+01 8.30e-01\n",
      " 7.80e-01 1.30e-01 3.50e-01 6.00e-01 7.30e-01 2.00e-01 1.80e-01 7.50e-02\n",
      " 5.20e+01 6.60e+01 6.00e+01 6.40e+01 5.90e+01 6.20e+01 6.30e+01 6.70e+01\n",
      " 2.30e-01 7.40e+01 8.80e+01 7.80e+01 1.02e+02 9.60e+01 7.10e+01 8.70e+01\n",
      " 7.60e+01 8.00e+01]\n"
     ]
    }
   ],
   "execution_count": 8
  },
  {
   "cell_type": "code",
   "source": [
    "for col in dfPM10.select_dtypes('int64'):\n",
    "    print(f'{col :-<20} {dfPM10[col].unique()}')"
   ],
   "metadata": {
    "collapsed": false,
    "ExecuteTime": {
     "end_time": "2024-05-25T15:20:57.979771Z",
     "start_time": "2024-05-25T15:20:57.976856Z"
    }
   },
   "id": "ff221140811b6ec5",
   "outputs": [
    {
     "name": "stdout",
     "output_type": "stream",
     "text": [
      "code_zone_affichage- [ 3  4  1  2  5  6 13  7 11  8]\n"
     ]
    }
   ],
   "execution_count": 9
  },
  {
   "cell_type": "code",
   "source": [
    "for col in dfPM10.select_dtypes('object'):\n",
    "    print(f'{col :-<20} {dfPM10[col].unique()}')"
   ],
   "metadata": {
    "collapsed": false,
    "ExecuteTime": {
     "end_time": "2024-05-25T15:20:58.536937Z",
     "start_time": "2024-05-25T15:20:58.503452Z"
    }
   },
   "id": "d8ef9123eadc98b9",
   "outputs": [
    {
     "name": "stdout",
     "output_type": "stream",
     "text": [
      "id------------------ ['2024-03-31 23:00:00FR23003_PM10_1' '2024-03-31 23:00:00FR23068_PM10_4'\n",
      " '2024-03-31 23:00:00FR23070_PM10_3' ...\n",
      " '2024-01-01 00:00:00FR23242_PM10_1' '2024-01-01 00:00:00FR23249_PM10_1'\n",
      " '2024-01-01 00:00:00FR23251_PM10_1']\n",
      "code_polluant------- ['24']\n",
      "code_point_de_prelevement ['FR23003_PM10' 'FR23068_PM10' 'FR23070_PM10' 'FR23078_PM10'\n",
      " 'FR23107_PM10' 'FR23110_PM10' 'FR23120_PM10' 'FR23123_PM10'\n",
      " 'FR23124_PM10' 'FR23152_PM10' 'FR23177_PM10' 'FR23178_PM10'\n",
      " 'FR23182_PM10' 'FR23188_PM10' 'FR23238_PM10' 'FR23239_PM10'\n",
      " 'FR23242_PM10' 'FR23249_PM10' 'FR23251_PM10']\n",
      "code_station-------- ['FR23003' 'FR23068' 'FR23070' 'FR23078' 'FR23107' 'FR23110' 'FR23120'\n",
      " 'FR23123' 'FR23124' 'FR23152' 'FR23177' 'FR23178' 'FR23182' 'FR23188'\n",
      " 'FR23238' 'FR23239' 'FR23242' 'FR23249' 'FR23251']\n",
      "nom_station--------- ['LA MEGRETAIS' 'FROSSAY' 'SAINT ETIENNE DE MONTLUC' 'SAINT EXUPERY'\n",
      " 'LA CHAUVINIERE' 'LEON BLUM' 'BEAUX ARTS' 'MAZAGRAN' 'LA TARDIERE'\n",
      " 'DELACROIX' \"SAINT DENIS D'ANJOU\" 'PARSCAU DU PLESSIS' 'SOURCES'\n",
      " 'CIM BOUTEILLERIE' 'TRENTEMOULT' 'LES COUETS' 'ROI RENE' 'CAMEE'\n",
      " 'FRERES GONCOURT']\n",
      "nom_commune--------- ['Donges' 'Frossay' 'Saint-Etienne-De-Montluc' 'Cholet' 'Nantes'\n",
      " 'Saint-Nazaire' 'Angers' 'Laval' 'La Tardière' 'La Roche-Sur-Yon'\n",
      " \"Saint-Denis-D'Anjou\" 'Le Mans' 'Rezé' 'Bouguenais' 'Montoir-De-Bretagne']\n",
      "code_commune-------- ['44052' '44061' '44158' '49099' '44109' '44184' '49007' '53130' '85289'\n",
      " '85191' '53210' '72181' '44143' '44020' '44103']\n",
      "departement_code---- ['44' '49' '53' '85' '72']\n",
      "departement_nom----- ['Loire-Atlantique' 'Maine-et-Loire' 'Mayenne' 'Vendée' 'Sarthe']\n",
      "date_heure_tu------- ['2024-03-31T23:00:00Z' '2024-03-31T22:00:00Z' '2024-03-31T21:00:00Z' ...\n",
      " '2024-01-01T02:00:00Z' '2024-01-01T01:00:00Z' '2024-01-01T00:00:00Z']\n",
      "date_heure_local---- ['2024-04-01T01:00:00+02:00' '2024-04-01T00:00:00+02:00'\n",
      " '2024-03-31T23:00:00+02:00' ... '2024-01-01T03:00:00+01:00'\n",
      " '2024-01-01T02:00:00+01:00' '2024-01-01T01:00:00+01:00']\n",
      "validite------------ [True False None]\n",
      "code_configuration_de_mesure ['FR23003_PM10_1' 'FR23068_PM10_4' 'FR23070_PM10_3' 'FR23078_PM10_2'\n",
      " 'FR23107_PM10_4' 'FR23110_PM10_3' 'FR23120_PM10_4' 'FR23123_PM10_2'\n",
      " 'FR23124_PM10_4' 'FR23152_PM10_4' 'FR23177_PM10_4' 'FR23178_PM10_3'\n",
      " 'FR23182_PM10_3' 'FR23188_PM10_4' 'FR23238_PM10_A' 'FR23239_PM10_A'\n",
      " 'FR23242_PM10_1' 'FR23249_PM10_1' 'FR23251_PM10_1' 'FR23124_PM10_3']\n"
     ]
    }
   ],
   "execution_count": 10
  },
  {
   "cell_type": "markdown",
   "source": [
    "Observations : \n",
    "- on remarque que pour les colonnes de type float64, pour les colonnes \"valeur_originale\" et \"valeur\", des valeurs ne sont pas correctes car il y à une présence de \"nan\" et \"-999.\".\n",
    "- Nous allons donc supprimer les lignes ou ces dernières sont présentes, et donc supprimer toutes les valeurs qui seront négatives pour englober.\n",
    "\n",
    "Certaines colonnes ne semblent pas être du bon types, il faut donc les changer : \n",
    "- code_polluant : object --> int64\n",
    "- code_commune : object --> int64\n",
    "- departement_code : object --> int64"
   ],
   "metadata": {
    "collapsed": false
   },
   "id": "9cdda7775597b3df"
  },
  {
   "cell_type": "markdown",
   "source": [
    "### Supression des valeurs \"nan\" et \"-999\" pour les colonnes \"valeur_originale\" et \"valeur\""
   ],
   "metadata": {
    "collapsed": false
   },
   "id": "42af12d21d103f73"
  },
  {
   "cell_type": "code",
   "source": [
    "# Supprimer les lignes comportant des valeurs \"NaN\" dans les colonnes \"valeur\" et \"valeur_originale\"\n",
    "dfPM10.dropna(subset=['valeur', 'valeur_originale'], inplace=True)\n",
    "    \n",
    "# Supprimer les lignes comportant des valeurs négatives dans les colonnes \"valeur\" et \"valeur_originale\"\n",
    "dfPM10 = dfPM10[(dfPM10['valeur'] >= 0) & (dfPM10['valeur_originale'] >= 0)]"
   ],
   "metadata": {
    "collapsed": false,
    "ExecuteTime": {
     "end_time": "2024-05-25T15:21:00.327447Z",
     "start_time": "2024-05-25T15:21:00.310164Z"
    }
   },
   "id": "465b6190cd0b59bc",
   "outputs": [],
   "execution_count": 11
  },
  {
   "cell_type": "code",
   "source": [
    "for col in dfPM10.select_dtypes('float64'):\n",
    "    print(f'{col :-<20} {dfPM10[col].unique()}')"
   ],
   "metadata": {
    "collapsed": false,
    "ExecuteTime": {
     "end_time": "2024-05-25T15:21:00.743434Z",
     "start_time": "2024-05-25T15:21:00.739031Z"
    }
   },
   "id": "5ba8beb53c713804",
   "outputs": [
    {
     "name": "stdout",
     "output_type": "stream",
     "text": [
      "valeur_originale---- [ 7.925     4.65      9.25     ... 32.100002 29.349998 51.150002]\n",
      "valeur-------------- [7.90e+00 4.70e+00 9.30e+00 8.80e+00 8.70e+00 6.70e+00 6.20e+00 7.30e+00\n",
      " 8.90e+00 8.50e+00 7.40e+00 7.10e+00 1.00e+01 1.50e+01 9.50e+00 1.40e+01\n",
      " 1.10e+01 7.50e+00 6.60e+00 9.60e+00 6.30e+00 4.80e+00 9.40e+00 1.20e+01\n",
      " 8.30e+00 7.20e+00 1.30e+01 8.60e+00 9.80e+00 1.90e+00 5.00e+00 8.00e+00\n",
      " 7.00e+00 5.90e+00 4.30e-01 9.20e+00 5.40e+00 6.90e+00 5.60e+00 4.40e+00\n",
      " 9.10e+00 5.30e+00 4.30e+00 6.40e+00 6.10e+00 3.50e+00 5.70e+00 5.10e+00\n",
      " 2.70e+00 3.70e+00 3.60e+00 4.00e+00 4.60e+00 3.00e+00 6.80e+00 3.40e+00\n",
      " 3.30e+00 3.20e+00 3.80e+00 2.60e+00 3.10e+00 5.50e+00 2.90e+00 2.50e+00\n",
      " 3.90e+00 2.10e+00 2.80e+00 5.20e+00 8.20e+00 1.70e+00 4.20e+00 4.10e+00\n",
      " 2.40e+00 1.80e+00 7.80e+00 8.40e+00 2.00e+00 4.50e+00 2.40e+01 6.00e+00\n",
      " 7.60e+00 8.10e+00 5.80e+00 4.90e+00 7.70e+00 6.50e+00 0.00e+00 2.20e+00\n",
      " 2.30e+00 9.00e+00 3.80e-01 1.60e+00 9.30e-01 1.30e+00 1.50e+00 5.30e-01\n",
      " 1.60e+01 1.80e+01 2.80e+01 2.10e+01 1.40e+00 9.90e+00 1.70e+01 2.00e+01\n",
      " 3.10e+01 1.90e+01 2.30e+01 2.90e+01 2.20e+01 9.70e+00 2.50e-01 3.00e-01\n",
      " 1.10e+00 3.40e+01 7.00e+01 2.60e+01 2.50e+01 2.70e+01 5.00e-02 2.50e-02\n",
      " 8.00e-01 6.70e-02 4.00e-01 3.70e+01 3.20e+01 4.10e+01 4.50e-01 3.90e+01\n",
      " 3.30e+01 5.60e+01 3.00e+01 3.60e+01 3.50e+01 8.40e+01 4.40e+01 6.80e+01\n",
      " 3.80e+01 4.30e+01 4.80e+01 1.20e+00 4.00e+01 4.20e+01 4.70e+01 4.50e+01\n",
      " 5.50e+01 5.70e+01 6.10e+01 5.40e+01 1.29e+02 8.50e-01 1.00e+00 2.80e-01\n",
      " 9.40e+01 1.03e+02 6.50e+01 4.60e+01 5.00e+01 6.90e+01 5.30e+01 5.80e+01\n",
      " 1.50e-01 1.00e-01 9.00e-01 4.90e+01 5.10e+01 9.50e-01 9.80e-01 5.70e-01\n",
      " 7.00e-01 7.50e-01 5.00e-01 6.30e-01 8.90e+01 7.90e+01 8.30e-01 7.80e-01\n",
      " 1.30e-01 3.50e-01 6.00e-01 7.30e-01 2.00e-01 1.80e-01 7.50e-02 5.20e+01\n",
      " 6.60e+01 6.00e+01 6.40e+01 5.90e+01 6.20e+01 6.30e+01 6.70e+01 2.30e-01\n",
      " 7.40e+01 8.80e+01 7.80e+01 1.02e+02 9.60e+01 7.10e+01 8.70e+01 7.60e+01\n",
      " 8.00e+01]\n"
     ]
    }
   ],
   "execution_count": 12
  },
  {
   "cell_type": "markdown",
   "source": [
    "### Changement de type pour les colonnes : \n",
    "- code_polluant : object --> int64\n",
    "- code_commune : object --> int64\n",
    "- departement_code : object --> int64"
   ],
   "metadata": {
    "collapsed": false
   },
   "id": "22d82c38c9d685ec"
  },
  {
   "cell_type": "code",
   "source": [
    "# Vérifier si les colonnes existent dans le DataFrame\n",
    "colonnes_a_convertir = ['code_commune', 'departement_code', 'code_polluant']\n",
    "\n",
    "# Convertir les colonnes en int64\n",
    "for col in colonnes_a_convertir:\n",
    "    if col in dfPM10.columns:\n",
    "        dfPM10[col] = dfPM10[col].astype('int64')\n",
    "\n",
    "# Afficher les types de colonnes pour vérifier les conversions\n",
    "print(dfPM10.dtypes)\n"
   ],
   "metadata": {
    "collapsed": false,
    "ExecuteTime": {
     "end_time": "2024-05-25T15:21:01.589619Z",
     "start_time": "2024-05-25T15:21:01.580359Z"
    }
   },
   "id": "3fd6dae297c2963c",
   "outputs": [
    {
     "name": "stdout",
     "output_type": "stream",
     "text": [
      "id                               object\n",
      "code_polluant                     int64\n",
      "code_point_de_prelevement        object\n",
      "code_station                     object\n",
      "nom_station                      object\n",
      "nom_commune                      object\n",
      "code_commune                      int64\n",
      "departement_code                  int64\n",
      "departement_nom                  object\n",
      "code_zone_affichage               int64\n",
      "date_heure_tu                    object\n",
      "date_heure_local                 object\n",
      "valeur_originale                float64\n",
      "valeur                          float64\n",
      "validite                         object\n",
      "code_configuration_de_mesure     object\n",
      "dtype: object\n"
     ]
    }
   ],
   "execution_count": 13
  },
  {
   "metadata": {
    "ExecuteTime": {
     "end_time": "2024-05-25T15:21:01.962770Z",
     "start_time": "2024-05-25T15:21:01.942268Z"
    }
   },
   "cell_type": "code",
   "source": [
    "from unidecode import unidecode\n",
    "\n",
    "# Convertir les valeurs de la colonne 'nom_commune' en minuscules et supprimer les accents\n",
    "dfPM10['nom_commune'] = dfPM10['nom_commune'].apply(lambda x: unidecode(x).lower())\n",
    "\n",
    "# Afficher les premières lignes pour vérifier les modifications\n",
    "print(dfPM10.head())\n"
   ],
   "id": "afdae7c156dc10ac",
   "outputs": [
    {
     "name": "stdout",
     "output_type": "stream",
     "text": [
      "                                  id  code_polluant code_point_de_prelevement  \\\n",
      "0  2024-03-31 23:00:00FR23003_PM10_1             24              FR23003_PM10   \n",
      "1  2024-03-31 23:00:00FR23068_PM10_4             24              FR23068_PM10   \n",
      "2  2024-03-31 23:00:00FR23070_PM10_3             24              FR23070_PM10   \n",
      "4  2024-03-31 23:00:00FR23107_PM10_4             24              FR23107_PM10   \n",
      "5  2024-03-31 23:00:00FR23110_PM10_3             24              FR23110_PM10   \n",
      "\n",
      "  code_station               nom_station               nom_commune  \\\n",
      "0      FR23003              LA MEGRETAIS                    donges   \n",
      "1      FR23068                   FROSSAY                   frossay   \n",
      "2      FR23070  SAINT ETIENNE DE MONTLUC  saint-etienne-de-montluc   \n",
      "4      FR23107            LA CHAUVINIERE                    nantes   \n",
      "5      FR23110                 LEON BLUM             saint-nazaire   \n",
      "\n",
      "   code_commune  departement_code   departement_nom  code_zone_affichage  \\\n",
      "0         44052                44  Loire-Atlantique                    3   \n",
      "1         44061                44  Loire-Atlantique                    3   \n",
      "2         44158                44  Loire-Atlantique                    3   \n",
      "4         44109                44  Loire-Atlantique                    1   \n",
      "5         44184                44  Loire-Atlantique                    2   \n",
      "\n",
      "          date_heure_tu           date_heure_local  valeur_originale  valeur  \\\n",
      "0  2024-03-31T23:00:00Z  2024-04-01T01:00:00+02:00             7.925     7.9   \n",
      "1  2024-03-31T23:00:00Z  2024-04-01T01:00:00+02:00             4.650     4.7   \n",
      "2  2024-03-31T23:00:00Z  2024-04-01T01:00:00+02:00             9.250     9.3   \n",
      "4  2024-03-31T23:00:00Z  2024-04-01T01:00:00+02:00             8.825     8.8   \n",
      "5  2024-03-31T23:00:00Z  2024-04-01T01:00:00+02:00             8.650     8.7   \n",
      "\n",
      "  validite code_configuration_de_mesure  \n",
      "0     True               FR23003_PM10_1  \n",
      "1     True               FR23068_PM10_4  \n",
      "2     True               FR23070_PM10_3  \n",
      "4     True               FR23107_PM10_4  \n",
      "5     True               FR23110_PM10_3  \n"
     ]
    }
   ],
   "execution_count": 14
  }
 ],
 "metadata": {
  "kernelspec": {
   "display_name": "Python 3",
   "language": "python",
   "name": "python3"
  },
  "language_info": {
   "codemirror_mode": {
    "name": "ipython",
    "version": 2
   },
   "file_extension": ".py",
   "mimetype": "text/x-python",
   "name": "python",
   "nbconvert_exporter": "python",
   "pygments_lexer": "ipython2",
   "version": "2.7.6"
  }
 },
 "nbformat": 4,
 "nbformat_minor": 5
}
