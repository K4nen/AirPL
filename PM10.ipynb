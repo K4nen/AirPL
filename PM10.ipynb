{
 "cells": [
  {
   "cell_type": "markdown",
   "source": [
    "# Pour le polluant PM10"
   ],
   "metadata": {
    "collapsed": false
   },
   "id": "d51cef157e88e82e"
  },
  {
   "cell_type": "markdown",
   "source": [
    "### On importe les bibliothèques"
   ],
   "metadata": {
    "collapsed": false
   },
   "id": "a9e6d16654b73117"
  },
  {
   "cell_type": "code",
   "execution_count": 15,
   "id": "initial_id",
   "metadata": {
    "collapsed": true,
    "ExecuteTime": {
     "end_time": "2024-05-22T12:37:00.145918Z",
     "start_time": "2024-05-22T12:37:00.070162Z"
    }
   },
   "outputs": [],
   "source": [
    "import requests\n",
    "import pandas as pd\n",
    "import matplotlib.pyplot as plt\n",
    "import seaborn as sns"
   ]
  },
  {
   "cell_type": "markdown",
   "source": [
    "### Conversion des données en DataFrame"
   ],
   "metadata": {
    "collapsed": false
   },
   "id": "60663cd80dde4072"
  },
  {
   "cell_type": "code",
   "outputs": [
    {
     "name": "stdout",
     "output_type": "stream",
     "text": [
      "Total records retrieved: 41770\n",
      "                                  id code_polluant code_point_de_prelevement  \\\n",
      "0  2024-03-31 23:00:00FR23003_PM10_1            24              FR23003_PM10   \n",
      "1  2024-03-31 23:00:00FR23068_PM10_4            24              FR23068_PM10   \n",
      "2  2024-03-31 23:00:00FR23070_PM10_3            24              FR23070_PM10   \n",
      "3  2024-03-31 23:00:00FR23078_PM10_2            24              FR23078_PM10   \n",
      "4  2024-03-31 23:00:00FR23107_PM10_4            24              FR23107_PM10   \n",
      "\n",
      "  code_station               nom_station               nom_commune  \\\n",
      "0      FR23003              LA MEGRETAIS                    Donges   \n",
      "1      FR23068                   FROSSAY                   Frossay   \n",
      "2      FR23070  SAINT ETIENNE DE MONTLUC  Saint-Etienne-De-Montluc   \n",
      "3      FR23078             SAINT EXUPERY                    Cholet   \n",
      "4      FR23107            LA CHAUVINIERE                    Nantes   \n",
      "\n",
      "  code_commune departement_code   departement_nom  code_zone_affichage  \\\n",
      "0        44052               44  Loire-Atlantique                    3   \n",
      "1        44061               44  Loire-Atlantique                    3   \n",
      "2        44158               44  Loire-Atlantique                    3   \n",
      "3        49099               49    Maine-et-Loire                    4   \n",
      "4        44109               44  Loire-Atlantique                    1   \n",
      "\n",
      "          date_heure_tu           date_heure_local  valeur_originale  valeur  \\\n",
      "0  2024-03-31T23:00:00Z  2024-04-01T01:00:00+02:00             7.925     7.9   \n",
      "1  2024-03-31T23:00:00Z  2024-04-01T01:00:00+02:00             4.650     4.7   \n",
      "2  2024-03-31T23:00:00Z  2024-04-01T01:00:00+02:00             9.250     9.3   \n",
      "3  2024-03-31T23:00:00Z  2024-04-01T01:00:00+02:00               NaN     NaN   \n",
      "4  2024-03-31T23:00:00Z  2024-04-01T01:00:00+02:00             8.825     8.8   \n",
      "\n",
      "  validite code_configuration_de_mesure  \n",
      "0     True               FR23003_PM10_1  \n",
      "1     True               FR23068_PM10_4  \n",
      "2     True               FR23070_PM10_3  \n",
      "3    False               FR23078_PM10_2  \n",
      "4     True               FR23107_PM10_4  \n"
     ]
    }
   ],
   "source": [
    "\n",
    "# URL de base\n",
    "url = \"https://data.airpl.org/api/v1/mesure/horaire/\"\n",
    "\n",
    "# Paramètres de base de la requête\n",
    "base_params = {\n",
    "    \"code_configuration_de_mesure__code_point_de_prelevement__code_polluant\": 24,\n",
    "    \"date_heure_tu__range\": \"2024-1-1,2024-3-31 23:00:00\",\n",
    "    \"code_configuration_de_mesure__code_point_de_prelevement__code_station__code_commune__code_departement__in\": \"44,49,53,72,85\",\n",
    "    \"export\": \"json\"\n",
    "}\n",
    "# Limite de résultats par requête\n",
    "limit = 1000\n",
    "offset = 0\n",
    "\n",
    "# DataFrame pour stocker tous les résultats\n",
    "dfPM10 = pd.DataFrame()\n",
    "\n",
    "while True:\n",
    "    # Mettre à jour les paramètres avec la limite et l'offset\n",
    "    params = base_params.copy()\n",
    "    params.update({\n",
    "        \"limit\": limit,\n",
    "        \"offset\": offset\n",
    "    })\n",
    "    \n",
    "    # Récupérer les données\n",
    "    response = requests.get(url, params=params)\n",
    "    \n",
    "    if response.status_code == 200:\n",
    "        data = response.json()\n",
    "        df_results = pd.DataFrame(data['results'])  # Adapter selon la structure des données JSON\n",
    "        \n",
    "        # Ajouter les résultats au DataFrame principal\n",
    "        dfPM10 = pd.concat([dfPM10, df_results], ignore_index=True)\n",
    "        \n",
    "        # Vérifier si le nombre de résultats récupérés est inférieur à la limite\n",
    "        if len(df_results) < limit:\n",
    "            break  # Arrêter la boucle si tous les enregistrements ont été récupérés\n",
    "        \n",
    "        # Mettre à jour l'offset pour la prochaine itération\n",
    "        offset += limit\n",
    "    else:\n",
    "        print(f\"Erreur {response.status_code}: {response.text}\")\n",
    "        break\n",
    "\n",
    "print(f\"Total records retrieved: {len(dfPM10)}\")\n",
    "\n",
    "# Sauvegarder le DataFrame pour utilisation ultérieure\n",
    "dfPM10.to_pickle('PM10.pkl')\n",
    "\n",
    "# Afficher les premières lignes du DataFrame\n",
    "print(dfPM10.head())\n"
   ],
   "metadata": {
    "collapsed": false,
    "ExecuteTime": {
     "end_time": "2024-05-22T14:12:02.532737Z",
     "start_time": "2024-05-22T14:11:09.029516Z"
    }
   },
   "id": "69648de17f07082b",
   "execution_count": 59
  },
  {
   "cell_type": "code",
   "outputs": [
    {
     "name": "stdout",
     "output_type": "stream",
     "text": [
      "id                               object\n",
      "code_polluant                    object\n",
      "code_point_de_prelevement        object\n",
      "code_station                     object\n",
      "nom_station                      object\n",
      "nom_commune                      object\n",
      "code_commune                     object\n",
      "departement_code                 object\n",
      "departement_nom                  object\n",
      "code_zone_affichage               int64\n",
      "date_heure_tu                    object\n",
      "date_heure_local                 object\n",
      "valeur_originale                float64\n",
      "valeur                          float64\n",
      "validite                         object\n",
      "code_configuration_de_mesure     object\n",
      "dtype: object\n"
     ]
    }
   ],
   "source": [
    "# Charger le DataFrame depuis le fichier sauvegardé\n",
    "dfPM10 = pd.read_pickle('PM10.pkl')\n",
    "\n",
    "# Afficher les types de chaque colonne\n",
    "print(dfPM10.dtypes)\n"
   ],
   "metadata": {
    "collapsed": false,
    "ExecuteTime": {
     "end_time": "2024-05-22T14:12:15.566170Z",
     "start_time": "2024-05-22T14:12:15.500208Z"
    }
   },
   "id": "f719470f49210aa5",
   "execution_count": 60
  },
  {
   "cell_type": "markdown",
   "source": [
    "## Analyse et correction du dataset"
   ],
   "metadata": {
    "collapsed": false
   },
   "id": "38e254b9d217c078"
  },
  {
   "cell_type": "markdown",
   "source": [
    "### Types et valeurs manquantes par variable"
   ],
   "metadata": {
    "collapsed": false
   },
   "id": "9ce7f7fbf11af231"
  },
  {
   "cell_type": "code",
   "outputs": [
    {
     "data": {
      "text/plain": "(41770, 16)"
     },
     "execution_count": 61,
     "metadata": {},
     "output_type": "execute_result"
    }
   ],
   "source": [
    "dfPM10.shape"
   ],
   "metadata": {
    "collapsed": false,
    "ExecuteTime": {
     "end_time": "2024-05-22T14:12:17.316188Z",
     "start_time": "2024-05-22T14:12:17.314093Z"
    }
   },
   "id": "7a303c5463714e0c",
   "execution_count": 61
  },
  {
   "cell_type": "code",
   "outputs": [
    {
     "name": "stdout",
     "output_type": "stream",
     "text": [
      "<class 'pandas.core.frame.DataFrame'>\n",
      "RangeIndex: 41770 entries, 0 to 41769\n",
      "Data columns (total 16 columns):\n",
      " #   Column                        Non-Null Count  Dtype  \n",
      "---  ------                        --------------  -----  \n",
      " 0   id                            41770 non-null  object \n",
      " 1   code_polluant                 41770 non-null  object \n",
      " 2   code_point_de_prelevement     41770 non-null  object \n",
      " 3   code_station                  41770 non-null  object \n",
      " 4   nom_station                   41770 non-null  object \n",
      " 5   nom_commune                   41770 non-null  object \n",
      " 6   code_commune                  41770 non-null  object \n",
      " 7   departement_code              41770 non-null  object \n",
      " 8   departement_nom               41770 non-null  object \n",
      " 9   code_zone_affichage           41770 non-null  int64  \n",
      " 10  date_heure_tu                 41770 non-null  object \n",
      " 11  date_heure_local              41770 non-null  object \n",
      " 12  valeur_originale              40781 non-null  float64\n",
      " 13  valeur                        40774 non-null  float64\n",
      " 14  validite                      41763 non-null  object \n",
      " 15  code_configuration_de_mesure  41770 non-null  object \n",
      "dtypes: float64(2), int64(1), object(13)\n",
      "memory usage: 5.1+ MB\n"
     ]
    }
   ],
   "source": [
    "dfPM10.info()"
   ],
   "metadata": {
    "collapsed": false,
    "ExecuteTime": {
     "end_time": "2024-05-22T14:12:22.328750Z",
     "start_time": "2024-05-22T14:12:22.279370Z"
    }
   },
   "id": "1f95a7f308714bf7",
   "execution_count": 62
  },
  {
   "cell_type": "code",
   "outputs": [
    {
     "data": {
      "text/plain": "id                                0\ncode_polluant                     0\ncode_point_de_prelevement         0\ncode_station                      0\nnom_station                       0\nnom_commune                       0\ncode_commune                      0\ndepartement_code                  0\ndepartement_nom                   0\ncode_zone_affichage               0\ndate_heure_tu                     0\ndate_heure_local                  0\nvaleur_originale                989\nvaleur                          996\nvalidite                          7\ncode_configuration_de_mesure      0\ndtype: int64"
     },
     "execution_count": 63,
     "metadata": {},
     "output_type": "execute_result"
    }
   ],
   "source": [
    "dfPM10.isnull().sum()"
   ],
   "metadata": {
    "collapsed": false,
    "ExecuteTime": {
     "end_time": "2024-05-22T14:12:23.075056Z",
     "start_time": "2024-05-22T14:12:23.066002Z"
    }
   },
   "id": "13fec31304850d00",
   "execution_count": 63
  },
  {
   "cell_type": "markdown",
   "source": [
    "Observations : \n",
    "- On remarque que pour les colonnes \"valeur_originale\" et \"valeur\" et validite on a quelques lignes vides, mais aucune colonne entièrement vide"
   ],
   "metadata": {
    "collapsed": false
   },
   "id": "ddd04a28f2e53067"
  },
  {
   "cell_type": "markdown",
   "source": [
    "## Visualiser les différentes données de chaque colonne"
   ],
   "metadata": {
    "collapsed": false
   },
   "id": "4e8c777dbe691230"
  },
  {
   "cell_type": "code",
   "outputs": [
    {
     "name": "stdout",
     "output_type": "stream",
     "text": [
      "valeur_originale---- [ 7.925     4.65      9.25     ... 32.100002 29.349998 51.150002]\n",
      "valeur-------------- [7.90e+00 4.70e+00 9.30e+00      nan 8.80e+00 8.70e+00 6.70e+00 6.20e+00\n",
      " 7.30e+00 8.90e+00 8.50e+00 7.40e+00 7.10e+00 1.00e+01 1.50e+01 9.50e+00\n",
      " 1.40e+01 1.10e+01 7.50e+00 6.60e+00 9.60e+00 6.30e+00 4.80e+00 9.40e+00\n",
      " 1.20e+01 8.30e+00 7.20e+00 1.30e+01 8.60e+00 9.80e+00 1.90e+00 5.00e+00\n",
      " 8.00e+00 7.00e+00 5.90e+00 4.30e-01 9.20e+00 5.40e+00 6.90e+00 5.60e+00\n",
      " 4.40e+00 9.10e+00 5.30e+00 4.30e+00 6.40e+00 6.10e+00 3.50e+00 5.70e+00\n",
      " 5.10e+00 2.70e+00 3.70e+00 3.60e+00 4.00e+00 4.60e+00 3.00e+00 6.80e+00\n",
      " 3.40e+00 3.30e+00 3.20e+00 3.80e+00 2.60e+00 3.10e+00 5.50e+00 2.90e+00\n",
      " 2.50e+00 3.90e+00 2.10e+00 2.80e+00 5.20e+00 8.20e+00 1.70e+00 4.20e+00\n",
      " 4.10e+00 2.40e+00 1.80e+00 7.80e+00 8.40e+00 2.00e+00 4.50e+00 2.40e+01\n",
      " 6.00e+00 7.60e+00 8.10e+00 5.80e+00 4.90e+00 7.70e+00 6.50e+00 0.00e+00\n",
      " 2.20e+00 2.30e+00 9.00e+00 3.80e-01 1.60e+00 9.30e-01 1.30e+00 1.50e+00\n",
      " 5.30e-01 1.60e+01 1.80e+01 2.80e+01 2.10e+01 1.40e+00 9.90e+00 1.70e+01\n",
      " 2.00e+01 3.10e+01 1.90e+01 2.30e+01 2.90e+01 2.20e+01 9.70e+00 2.50e-01\n",
      " 3.00e-01 1.10e+00 3.40e+01 7.00e+01 2.60e+01 2.50e+01 2.70e+01 5.00e-02\n",
      " 2.50e-02 8.00e-01 6.70e-02 4.00e-01 3.70e+01 3.20e+01 4.10e+01 4.50e-01\n",
      " 3.90e+01 3.30e+01 5.60e+01 3.00e+01 3.60e+01 3.50e+01 8.40e+01 4.40e+01\n",
      " 6.80e+01 3.80e+01 4.30e+01 4.80e+01 1.20e+00 4.00e+01 4.20e+01 4.70e+01\n",
      " 4.50e+01 5.50e+01 5.70e+01 6.10e+01 5.40e+01 1.29e+02 8.50e-01 1.00e+00\n",
      " 2.80e-01 9.40e+01 1.03e+02 6.50e+01 4.60e+01 5.00e+01 6.90e+01 5.30e+01\n",
      " 5.80e+01 1.50e-01 1.00e-01 9.00e-01 4.90e+01 5.10e+01 9.50e-01 9.80e-01\n",
      " 5.70e-01 7.00e-01 7.50e-01 5.00e-01 6.30e-01 8.90e+01 7.90e+01 8.30e-01\n",
      " 7.80e-01 1.30e-01 3.50e-01 6.00e-01 7.30e-01 2.00e-01 1.80e-01 7.50e-02\n",
      " 5.20e+01 6.60e+01 6.00e+01 6.40e+01 5.90e+01 6.20e+01 6.30e+01 6.70e+01\n",
      " 2.30e-01 7.40e+01 8.80e+01 7.80e+01 1.02e+02 9.60e+01 7.10e+01 8.70e+01\n",
      " 7.60e+01 8.00e+01]\n"
     ]
    }
   ],
   "source": [
    "for col in dfPM10.select_dtypes('float64'):\n",
    "    print(f'{col :-<20} {dfPM10[col].unique()}')"
   ],
   "metadata": {
    "collapsed": false,
    "ExecuteTime": {
     "end_time": "2024-05-22T14:12:34.099046Z",
     "start_time": "2024-05-22T14:12:34.080212Z"
    }
   },
   "id": "6e5039c254124cec",
   "execution_count": 64
  },
  {
   "cell_type": "code",
   "outputs": [
    {
     "name": "stdout",
     "output_type": "stream",
     "text": [
      "code_zone_affichage- [ 3  4  1  2  5  6 13  7 11  8]\n"
     ]
    }
   ],
   "source": [
    "for col in dfPM10.select_dtypes('int64'):\n",
    "    print(f'{col :-<20} {dfPM10[col].unique()}')"
   ],
   "metadata": {
    "collapsed": false,
    "ExecuteTime": {
     "end_time": "2024-05-22T14:12:52.655431Z",
     "start_time": "2024-05-22T14:12:52.646162Z"
    }
   },
   "id": "ff221140811b6ec5",
   "execution_count": 67
  },
  {
   "cell_type": "code",
   "outputs": [
    {
     "name": "stdout",
     "output_type": "stream",
     "text": [
      "id------------------ ['2024-03-31 23:00:00FR23003_PM10_1' '2024-03-31 23:00:00FR23068_PM10_4'\n",
      " '2024-03-31 23:00:00FR23070_PM10_3' ...\n",
      " '2024-01-01 00:00:00FR23242_PM10_1' '2024-01-01 00:00:00FR23249_PM10_1'\n",
      " '2024-01-01 00:00:00FR23251_PM10_1']\n",
      "code_polluant------- ['24']\n",
      "code_point_de_prelevement ['FR23003_PM10' 'FR23068_PM10' 'FR23070_PM10' 'FR23078_PM10'\n",
      " 'FR23107_PM10' 'FR23110_PM10' 'FR23120_PM10' 'FR23123_PM10'\n",
      " 'FR23124_PM10' 'FR23152_PM10' 'FR23177_PM10' 'FR23178_PM10'\n",
      " 'FR23182_PM10' 'FR23188_PM10' 'FR23238_PM10' 'FR23239_PM10'\n",
      " 'FR23242_PM10' 'FR23249_PM10' 'FR23251_PM10']\n",
      "code_station-------- ['FR23003' 'FR23068' 'FR23070' 'FR23078' 'FR23107' 'FR23110' 'FR23120'\n",
      " 'FR23123' 'FR23124' 'FR23152' 'FR23177' 'FR23178' 'FR23182' 'FR23188'\n",
      " 'FR23238' 'FR23239' 'FR23242' 'FR23249' 'FR23251']\n",
      "nom_station--------- ['LA MEGRETAIS' 'FROSSAY' 'SAINT ETIENNE DE MONTLUC' 'SAINT EXUPERY'\n",
      " 'LA CHAUVINIERE' 'LEON BLUM' 'BEAUX ARTS' 'MAZAGRAN' 'LA TARDIERE'\n",
      " 'DELACROIX' \"SAINT DENIS D'ANJOU\" 'PARSCAU DU PLESSIS' 'SOURCES'\n",
      " 'CIM BOUTEILLERIE' 'TRENTEMOULT' 'LES COUETS' 'ROI RENE' 'CAMEE'\n",
      " 'FRERES GONCOURT']\n",
      "nom_commune--------- ['Donges' 'Frossay' 'Saint-Etienne-De-Montluc' 'Cholet' 'Nantes'\n",
      " 'Saint-Nazaire' 'Angers' 'Laval' 'La Tardière' 'La Roche-Sur-Yon'\n",
      " \"Saint-Denis-D'Anjou\" 'Le Mans' 'Rezé' 'Bouguenais' 'Montoir-De-Bretagne']\n",
      "code_commune-------- ['44052' '44061' '44158' '49099' '44109' '44184' '49007' '53130' '85289'\n",
      " '85191' '53210' '72181' '44143' '44020' '44103']\n",
      "departement_code---- ['44' '49' '53' '85' '72']\n",
      "departement_nom----- ['Loire-Atlantique' 'Maine-et-Loire' 'Mayenne' 'Vendée' 'Sarthe']\n",
      "date_heure_tu------- ['2024-03-31T23:00:00Z' '2024-03-31T22:00:00Z' '2024-03-31T21:00:00Z' ...\n",
      " '2024-01-01T02:00:00Z' '2024-01-01T01:00:00Z' '2024-01-01T00:00:00Z']\n",
      "date_heure_local---- ['2024-04-01T01:00:00+02:00' '2024-04-01T00:00:00+02:00'\n",
      " '2024-03-31T23:00:00+02:00' ... '2024-01-01T03:00:00+01:00'\n",
      " '2024-01-01T02:00:00+01:00' '2024-01-01T01:00:00+01:00']\n",
      "validite------------ [True False None]\n",
      "code_configuration_de_mesure ['FR23003_PM10_1' 'FR23068_PM10_4' 'FR23070_PM10_3' 'FR23078_PM10_2'\n",
      " 'FR23107_PM10_4' 'FR23110_PM10_3' 'FR23120_PM10_4' 'FR23123_PM10_2'\n",
      " 'FR23124_PM10_4' 'FR23152_PM10_4' 'FR23177_PM10_4' 'FR23178_PM10_3'\n",
      " 'FR23182_PM10_3' 'FR23188_PM10_4' 'FR23238_PM10_A' 'FR23239_PM10_A'\n",
      " 'FR23242_PM10_1' 'FR23249_PM10_1' 'FR23251_PM10_1' 'FR23124_PM10_3']\n"
     ]
    }
   ],
   "source": [
    "for col in dfPM10.select_dtypes('object'):\n",
    "    print(f'{col :-<20} {dfPM10[col].unique()}')"
   ],
   "metadata": {
    "collapsed": false,
    "ExecuteTime": {
     "end_time": "2024-05-22T14:12:53.677037Z",
     "start_time": "2024-05-22T14:12:53.628480Z"
    }
   },
   "id": "d8ef9123eadc98b9",
   "execution_count": 68
  },
  {
   "cell_type": "markdown",
   "source": [
    "Observations : \n",
    "- on remarque que pour les colonnes de type float64, pour les colonnes \"valeur_originale\" et \"valeur\", des valeurs ne sont pas correctes car il y à une présence de \"nan\" et \"-999.\".\n",
    "- Nous allons donc supprimer les lignes ou ces dernières sont présentes, et donc supprimer toutes les valeurs qui seront négatives pour englober.\n",
    "\n",
    "Certaines colonnes ne semblent pas être du bon types, il faut donc les changer : \n",
    "- code_polluant : object --> int64\n",
    "- code_commune : object --> int64\n",
    "- departement_code : object --> int64"
   ],
   "metadata": {
    "collapsed": false
   },
   "id": "9cdda7775597b3df"
  },
  {
   "cell_type": "markdown",
   "source": [
    "### Supression des valeurs \"nan\" et \"-999\" pour les colonnes \"valeur_originale\" et \"valeur\""
   ],
   "metadata": {
    "collapsed": false
   },
   "id": "42af12d21d103f73"
  },
  {
   "cell_type": "code",
   "outputs": [],
   "source": [
    "# Supprimer les lignes comportant des valeurs \"NaN\" dans les colonnes \"valeur\" et \"valeur_originale\"\n",
    "dfPM10.dropna(subset=['valeur', 'valeur_originale'], inplace=True)\n",
    "    \n",
    "# Supprimer les lignes comportant des valeurs négatives dans les colonnes \"valeur\" et \"valeur_originale\"\n",
    "dfPM10 = dfPM10[(dfPM10['valeur'] >= 0) & (dfPM10['valeur_originale'] >= 0)]"
   ],
   "metadata": {
    "collapsed": false,
    "ExecuteTime": {
     "end_time": "2024-05-22T14:13:08.878052Z",
     "start_time": "2024-05-22T14:13:08.839694Z"
    }
   },
   "id": "465b6190cd0b59bc",
   "execution_count": 69
  },
  {
   "cell_type": "code",
   "outputs": [
    {
     "name": "stdout",
     "output_type": "stream",
     "text": [
      "valeur_originale---- [ 7.925     4.65      9.25     ... 32.100002 29.349998 51.150002]\n",
      "valeur-------------- [7.90e+00 4.70e+00 9.30e+00 8.80e+00 8.70e+00 6.70e+00 6.20e+00 7.30e+00\n",
      " 8.90e+00 8.50e+00 7.40e+00 7.10e+00 1.00e+01 1.50e+01 9.50e+00 1.40e+01\n",
      " 1.10e+01 7.50e+00 6.60e+00 9.60e+00 6.30e+00 4.80e+00 9.40e+00 1.20e+01\n",
      " 8.30e+00 7.20e+00 1.30e+01 8.60e+00 9.80e+00 1.90e+00 5.00e+00 8.00e+00\n",
      " 7.00e+00 5.90e+00 4.30e-01 9.20e+00 5.40e+00 6.90e+00 5.60e+00 4.40e+00\n",
      " 9.10e+00 5.30e+00 4.30e+00 6.40e+00 6.10e+00 3.50e+00 5.70e+00 5.10e+00\n",
      " 2.70e+00 3.70e+00 3.60e+00 4.00e+00 4.60e+00 3.00e+00 6.80e+00 3.40e+00\n",
      " 3.30e+00 3.20e+00 3.80e+00 2.60e+00 3.10e+00 5.50e+00 2.90e+00 2.50e+00\n",
      " 3.90e+00 2.10e+00 2.80e+00 5.20e+00 8.20e+00 1.70e+00 4.20e+00 4.10e+00\n",
      " 2.40e+00 1.80e+00 7.80e+00 8.40e+00 2.00e+00 4.50e+00 2.40e+01 6.00e+00\n",
      " 7.60e+00 8.10e+00 5.80e+00 4.90e+00 7.70e+00 6.50e+00 0.00e+00 2.20e+00\n",
      " 2.30e+00 9.00e+00 3.80e-01 1.60e+00 9.30e-01 1.30e+00 1.50e+00 5.30e-01\n",
      " 1.60e+01 1.80e+01 2.80e+01 2.10e+01 1.40e+00 9.90e+00 1.70e+01 2.00e+01\n",
      " 3.10e+01 1.90e+01 2.30e+01 2.90e+01 2.20e+01 9.70e+00 2.50e-01 3.00e-01\n",
      " 1.10e+00 3.40e+01 7.00e+01 2.60e+01 2.50e+01 2.70e+01 5.00e-02 2.50e-02\n",
      " 8.00e-01 6.70e-02 4.00e-01 3.70e+01 3.20e+01 4.10e+01 4.50e-01 3.90e+01\n",
      " 3.30e+01 5.60e+01 3.00e+01 3.60e+01 3.50e+01 8.40e+01 4.40e+01 6.80e+01\n",
      " 3.80e+01 4.30e+01 4.80e+01 1.20e+00 4.00e+01 4.20e+01 4.70e+01 4.50e+01\n",
      " 5.50e+01 5.70e+01 6.10e+01 5.40e+01 1.29e+02 8.50e-01 1.00e+00 2.80e-01\n",
      " 9.40e+01 1.03e+02 6.50e+01 4.60e+01 5.00e+01 6.90e+01 5.30e+01 5.80e+01\n",
      " 1.50e-01 1.00e-01 9.00e-01 4.90e+01 5.10e+01 9.50e-01 9.80e-01 5.70e-01\n",
      " 7.00e-01 7.50e-01 5.00e-01 6.30e-01 8.90e+01 7.90e+01 8.30e-01 7.80e-01\n",
      " 1.30e-01 3.50e-01 6.00e-01 7.30e-01 2.00e-01 1.80e-01 7.50e-02 5.20e+01\n",
      " 6.60e+01 6.00e+01 6.40e+01 5.90e+01 6.20e+01 6.30e+01 6.70e+01 2.30e-01\n",
      " 7.40e+01 8.80e+01 7.80e+01 1.02e+02 9.60e+01 7.10e+01 8.70e+01 7.60e+01\n",
      " 8.00e+01]\n"
     ]
    }
   ],
   "source": [
    "for col in dfPM10.select_dtypes('float64'):\n",
    "    print(f'{col :-<20} {dfPM10[col].unique()}')"
   ],
   "metadata": {
    "collapsed": false,
    "ExecuteTime": {
     "end_time": "2024-05-22T14:13:09.620550Z",
     "start_time": "2024-05-22T14:13:09.594987Z"
    }
   },
   "id": "5ba8beb53c713804",
   "execution_count": 70
  },
  {
   "cell_type": "markdown",
   "source": [
    "### Changement de type pour les colonnes : \n",
    "- code_polluant : object --> int64\n",
    "- code_commune : object --> int64\n",
    "- departement_code : object --> int64"
   ],
   "metadata": {
    "collapsed": false
   },
   "id": "22d82c38c9d685ec"
  },
  {
   "cell_type": "code",
   "outputs": [
    {
     "name": "stdout",
     "output_type": "stream",
     "text": [
      "id                               object\n",
      "code_polluant                     int64\n",
      "code_point_de_prelevement        object\n",
      "code_station                     object\n",
      "nom_station                      object\n",
      "nom_commune                      object\n",
      "code_commune                      int64\n",
      "departement_code                  int64\n",
      "departement_nom                  object\n",
      "code_zone_affichage               int64\n",
      "date_heure_tu                    object\n",
      "date_heure_local                 object\n",
      "valeur_originale                float64\n",
      "valeur                          float64\n",
      "validite                         object\n",
      "code_configuration_de_mesure     object\n",
      "dtype: object\n"
     ]
    }
   ],
   "source": [
    "# Vérifier si les colonnes existent dans le DataFrame\n",
    "colonnes_a_convertir = ['code_commune', 'departement_code', 'code_polluant']\n",
    "\n",
    "# Convertir les colonnes en int64\n",
    "for col in colonnes_a_convertir:\n",
    "    if col in dfPM10.columns:\n",
    "        dfPM10[col] = dfPM10[col].astype('int64')\n",
    "\n",
    "# Afficher les types de colonnes pour vérifier les conversions\n",
    "print(dfPM10.dtypes)\n"
   ],
   "metadata": {
    "collapsed": false,
    "ExecuteTime": {
     "end_time": "2024-05-22T14:13:11.821359Z",
     "start_time": "2024-05-22T14:13:11.806003Z"
    }
   },
   "id": "3fd6dae297c2963c",
   "execution_count": 71
  },
  {
   "cell_type": "markdown",
   "source": [
    "## Comparaison avec les valeurs de seuils"
   ],
   "metadata": {
    "collapsed": false
   },
   "id": "293b9939d4b6f34"
  },
  {
   "cell_type": "markdown",
   "source": [
    "Nous faisons le choix dans un premier temps de ne traiter que les données mensuelles, en prenant en granularité les données mensuelles, de manière à comparer les trimestres des différentes années"
   ],
   "metadata": {
    "collapsed": false
   },
   "id": "1942909655004231"
  },
  {
   "cell_type": "code",
   "outputs": [
    {
     "name": "stdout",
     "output_type": "stream",
     "text": [
      "Objectif de qualité PM10 : 30 µg/m3 (en moyenne annuelle)\n",
      "Valeur limite annuelle PM10 : 40 µg/m3 (en moyenne annuelle)\n"
     ]
    }
   ],
   "source": [
    "# Définition des seuils pour les particules PM10 en µg/m3\n",
    "OBJECTIF_QUALITE_PM10 = 30  # en moyenne annuelle\n",
    "VALEUR_LIMITE_ANNUELLE_PM10 = 40  # en moyenne annuelle\n",
    "\n",
    "# Afficher les seuils définis\n",
    "print(f\"Objectif de qualité PM10 : {OBJECTIF_QUALITE_PM10} µg/m3 (en moyenne annuelle)\")\n",
    "print(f\"Valeur limite annuelle PM10 : {VALEUR_LIMITE_ANNUELLE_PM10} µg/m3 (en moyenne annuelle)\")\n"
   ],
   "metadata": {
    "collapsed": false,
    "ExecuteTime": {
     "end_time": "2024-05-22T14:13:13.616287Z",
     "start_time": "2024-05-22T14:13:13.611896Z"
    }
   },
   "id": "36a0ed39b4a8f3ea",
   "execution_count": 72
  },
  {
   "cell_type": "markdown",
   "source": [
    "Création d'une variable cible qui vaut 1 si la valeur est supérieure au seuil et 0 sinon\n",
    "On ajoute ces colonnes au dataframe"
   ],
   "metadata": {
    "collapsed": false
   },
   "id": "6b5a37acbe5b3d18"
  },
  {
   "cell_type": "code",
   "outputs": [
    {
     "name": "stdout",
     "output_type": "stream",
     "text": [
      "                                  id  code_polluant code_point_de_prelevement  \\\n",
      "0  2024-03-31 23:00:00FR23003_PM10_1             24              FR23003_PM10   \n",
      "1  2024-03-31 23:00:00FR23068_PM10_4             24              FR23068_PM10   \n",
      "2  2024-03-31 23:00:00FR23070_PM10_3             24              FR23070_PM10   \n",
      "4  2024-03-31 23:00:00FR23107_PM10_4             24              FR23107_PM10   \n",
      "5  2024-03-31 23:00:00FR23110_PM10_3             24              FR23110_PM10   \n",
      "\n",
      "  code_station               nom_station               nom_commune  \\\n",
      "0      FR23003              LA MEGRETAIS                    Donges   \n",
      "1      FR23068                   FROSSAY                   Frossay   \n",
      "2      FR23070  SAINT ETIENNE DE MONTLUC  Saint-Etienne-De-Montluc   \n",
      "4      FR23107            LA CHAUVINIERE                    Nantes   \n",
      "5      FR23110                 LEON BLUM             Saint-Nazaire   \n",
      "\n",
      "   code_commune  departement_code   departement_nom  code_zone_affichage  \\\n",
      "0         44052                44  Loire-Atlantique                    3   \n",
      "1         44061                44  Loire-Atlantique                    3   \n",
      "2         44158                44  Loire-Atlantique                    3   \n",
      "4         44109                44  Loire-Atlantique                    1   \n",
      "5         44184                44  Loire-Atlantique                    2   \n",
      "\n",
      "              date_heure_tu           date_heure_local  valeur_originale  \\\n",
      "0 2024-03-31 23:00:00+00:00  2024-04-01T01:00:00+02:00             7.925   \n",
      "1 2024-03-31 23:00:00+00:00  2024-04-01T01:00:00+02:00             4.650   \n",
      "2 2024-03-31 23:00:00+00:00  2024-04-01T01:00:00+02:00             9.250   \n",
      "4 2024-03-31 23:00:00+00:00  2024-04-01T01:00:00+02:00             8.825   \n",
      "5 2024-03-31 23:00:00+00:00  2024-04-01T01:00:00+02:00             8.650   \n",
      "\n",
      "   valeur validite code_configuration_de_mesure  cible_objectif_qualite_PM10  \\\n",
      "0     7.9     True               FR23003_PM10_1                            0   \n",
      "1     4.7     True               FR23068_PM10_4                            0   \n",
      "2     9.3     True               FR23070_PM10_3                            0   \n",
      "4     8.8     True               FR23107_PM10_4                            0   \n",
      "5     8.7     True               FR23110_PM10_3                            0   \n",
      "\n",
      "   cible_valeur_limite_annuelle_PM10  \n",
      "0                                  0  \n",
      "1                                  0  \n",
      "2                                  0  \n",
      "4                                  0  \n",
      "5                                  0  \n"
     ]
    }
   ],
   "source": [
    "# Convertir les colonnes de date en format datetime\n",
    "dfPM10['date_heure_tu'] = pd.to_datetime(dfPM10['date_heure_tu'])\n",
    "\n",
    "# Ajouter des colonnes de comparaison avec les seuils (variable cible)\n",
    "dfPM10['cible_objectif_qualite_PM10'] = (dfPM10['valeur'] > OBJECTIF_QUALITE_PM10).astype(int)\n",
    "dfPM10['cible_valeur_limite_annuelle_PM10'] = (dfPM10['valeur'] > VALEUR_LIMITE_ANNUELLE_PM10).astype(int)\n",
    "\n",
    "# Afficher les premières lignes du DataFrame avec les nouvelles colonnes de comparaison\n",
    "print(dfPM10.head())\n",
    "\n",
    "# Sauvegarder le DataFrame avec les nouvelles colonnes de comparaison\n",
    "dfPM10.to_pickle('PM10_with_comparison.pkl')\n"
   ],
   "metadata": {
    "collapsed": false,
    "ExecuteTime": {
     "end_time": "2024-05-22T14:13:14.568295Z",
     "start_time": "2024-05-22T14:13:14.508384Z"
    }
   },
   "id": "4b8cdb6040084726",
   "execution_count": 73
  },
  {
   "cell_type": "markdown",
   "source": [
    "### Distribution des variables cibles : "
   ],
   "metadata": {
    "collapsed": false
   },
   "id": "edd2e7777e3f18eb"
  },
  {
   "cell_type": "code",
   "outputs": [
    {
     "name": "stdout",
     "output_type": "stream",
     "text": [
      "cible_objectif_qualite_PM10\n",
      "0    38108\n",
      "1     2666\n",
      "Name: count, dtype: int64\n",
      "cible_valeur_limite_annuelle_PM10\n",
      "0    39943\n",
      "1      831\n",
      "Name: count, dtype: int64\n"
     ]
    }
   ],
   "source": [
    "# Afficher le nombre de valeurs 0 et 1 dans la colonne 'cible_objectif_qualite_PM10'\n",
    "print(dfPM10['cible_objectif_qualite_PM10'].value_counts())\n",
    "print(dfPM10['cible_valeur_limite_annuelle_PM10'].value_counts())\n"
   ],
   "metadata": {
    "collapsed": false,
    "ExecuteTime": {
     "end_time": "2024-05-22T14:13:23.908039Z",
     "start_time": "2024-05-22T14:13:23.904147Z"
    }
   },
   "id": "b17b2b4411a8c94d",
   "execution_count": 74
  },
  {
   "cell_type": "markdown",
   "source": [
    "Observations : on remarque ici qu'aucune valeur ne dépasse le seuil, nous avons donc fait le choix de modifier ce dernier de manière arbitraire pour rendre l'exercice plus intéressant, toutes les valeurs seront donc divisées par 2\n",
    "De plus pour visualiser les résultats par mois, on décide de créer une valeur de seuil mensuelle nommé \"OBJECTIF_QUALITE_PM10_MENSUEL\" et qui aura pour valeur 35 (car la moyenne annuelle étant à 30 et la valeur limite annuelle étant à 40 on prend l'entre deux) qu'on va venir diviser par 2 pour avoir des résultats, on va prendre 18 pour arrondir à la valeur au-dessus"
   ],
   "metadata": {
    "collapsed": false
   },
   "id": "6f451cc0ba25696c"
  },
  {
   "cell_type": "code",
   "outputs": [
    {
     "name": "stdout",
     "output_type": "stream",
     "text": [
      "Objectif de qualité PM10 : 15 µg/m3 (en moyenne annuelle)\n",
      "Valeur limite annuelle PM10 : 20 µg/m3 (en moyenne annuelle)\n",
      "Objectif de qualité PM10 mensuelle : 18 µg/m3 (en moyenne mensuelle)\n"
     ]
    }
   ],
   "source": [
    "# Définition des nouveaux seuils pour les particules PM10 en µg/m3\n",
    "OBJECTIF_QUALITE_PM10 = 15  # en moyenne annuelle\n",
    "VALEUR_LIMITE_ANNUELLE_PM10 = 20  # en moyenne annuelle\n",
    "OBJECTIF_QUALITE_PM10_MENSUEL = 18 #en moyenne mensuelle\n",
    "\n",
    "# Afficher les nouveaux seuils définis\n",
    "print(f\"Objectif de qualité PM10 : {OBJECTIF_QUALITE_PM10} µg/m3 (en moyenne annuelle)\")\n",
    "print(f\"Valeur limite annuelle PM10 : {VALEUR_LIMITE_ANNUELLE_PM10} µg/m3 (en moyenne annuelle)\")\n",
    "print(f\"Objectif de qualité PM10 mensuelle : {OBJECTIF_QUALITE_PM10_MENSUEL} µg/m3 (en moyenne mensuelle)\")"
   ],
   "metadata": {
    "collapsed": false,
    "ExecuteTime": {
     "end_time": "2024-05-22T14:13:30.225657Z",
     "start_time": "2024-05-22T14:13:30.223675Z"
    }
   },
   "id": "a7fa3a9d0e31c101",
   "execution_count": 75
  },
  {
   "cell_type": "code",
   "outputs": [
    {
     "name": "stdout",
     "output_type": "stream",
     "text": [
      "                                  id  code_polluant code_point_de_prelevement  \\\n",
      "0  2024-03-31 23:00:00FR23003_PM10_1             24              FR23003_PM10   \n",
      "1  2024-03-31 23:00:00FR23068_PM10_4             24              FR23068_PM10   \n",
      "2  2024-03-31 23:00:00FR23070_PM10_3             24              FR23070_PM10   \n",
      "4  2024-03-31 23:00:00FR23107_PM10_4             24              FR23107_PM10   \n",
      "5  2024-03-31 23:00:00FR23110_PM10_3             24              FR23110_PM10   \n",
      "\n",
      "  code_station               nom_station               nom_commune  \\\n",
      "0      FR23003              LA MEGRETAIS                    Donges   \n",
      "1      FR23068                   FROSSAY                   Frossay   \n",
      "2      FR23070  SAINT ETIENNE DE MONTLUC  Saint-Etienne-De-Montluc   \n",
      "4      FR23107            LA CHAUVINIERE                    Nantes   \n",
      "5      FR23110                 LEON BLUM             Saint-Nazaire   \n",
      "\n",
      "   code_commune  departement_code   departement_nom  code_zone_affichage  \\\n",
      "0         44052                44  Loire-Atlantique                    3   \n",
      "1         44061                44  Loire-Atlantique                    3   \n",
      "2         44158                44  Loire-Atlantique                    3   \n",
      "4         44109                44  Loire-Atlantique                    1   \n",
      "5         44184                44  Loire-Atlantique                    2   \n",
      "\n",
      "              date_heure_tu           date_heure_local  valeur_originale  \\\n",
      "0 2024-03-31 23:00:00+00:00  2024-04-01T01:00:00+02:00             7.925   \n",
      "1 2024-03-31 23:00:00+00:00  2024-04-01T01:00:00+02:00             4.650   \n",
      "2 2024-03-31 23:00:00+00:00  2024-04-01T01:00:00+02:00             9.250   \n",
      "4 2024-03-31 23:00:00+00:00  2024-04-01T01:00:00+02:00             8.825   \n",
      "5 2024-03-31 23:00:00+00:00  2024-04-01T01:00:00+02:00             8.650   \n",
      "\n",
      "   valeur validite code_configuration_de_mesure  cible_objectif_qualite_PM10  \\\n",
      "0     7.9     True               FR23003_PM10_1                            0   \n",
      "1     4.7     True               FR23068_PM10_4                            0   \n",
      "2     9.3     True               FR23070_PM10_3                            0   \n",
      "4     8.8     True               FR23107_PM10_4                            0   \n",
      "5     8.7     True               FR23110_PM10_3                            0   \n",
      "\n",
      "   cible_valeur_limite_annuelle_PM10  cible_objectif_qualite_PM10_mensuelle  \n",
      "0                                  0                                      0  \n",
      "1                                  0                                      0  \n",
      "2                                  0                                      0  \n",
      "4                                  0                                      0  \n",
      "5                                  0                                      0  \n"
     ]
    }
   ],
   "source": [
    "# Convertir les colonnes de date en format datetime\n",
    "dfPM10['date_heure_tu'] = pd.to_datetime(dfPM10['date_heure_tu'])\n",
    "\n",
    "# Ajouter des colonnes de comparaison avec les seuils (variable cible)\n",
    "dfPM10['cible_objectif_qualite_PM10'] = (dfPM10['valeur'] > OBJECTIF_QUALITE_PM10).astype(int)\n",
    "dfPM10['cible_valeur_limite_annuelle_PM10'] = (dfPM10['valeur'] > VALEUR_LIMITE_ANNUELLE_PM10).astype(int)\n",
    "dfPM10['cible_objectif_qualite_PM10_mensuelle'] = (dfPM10['valeur'] > OBJECTIF_QUALITE_PM10_MENSUEL).astype(int)\n",
    "\n",
    "# Afficher les premières lignes du DataFrame avec les nouvelles colonnes de comparaison\n",
    "print(dfPM10.head())\n",
    "\n",
    "# Sauvegarder le DataFrame avec les nouvelles colonnes de comparaison\n",
    "dfPM10.to_pickle('PM10_with_comparison.pkl')"
   ],
   "metadata": {
    "collapsed": false,
    "ExecuteTime": {
     "end_time": "2024-05-22T14:13:31.635670Z",
     "start_time": "2024-05-22T14:13:31.499980Z"
    }
   },
   "id": "a2348003b1e5d9b6",
   "execution_count": 76
  },
  {
   "cell_type": "code",
   "outputs": [
    {
     "name": "stdout",
     "output_type": "stream",
     "text": [
      "cible_objectif_qualite_PM10\n",
      "0    27350\n",
      "1    13424\n",
      "Name: count, dtype: int64\n",
      "cible_valeur_limite_annuelle_PM10\n",
      "0    32695\n",
      "1     8079\n",
      "Name: count, dtype: int64\n",
      "cible_objectif_qualite_PM10_mensuelle\n",
      "0    30917\n",
      "1     9857\n",
      "Name: count, dtype: int64\n"
     ]
    }
   ],
   "source": [
    "# Afficher le nombre de valeurs 0 et 1 dans la colonne 'cible_objectif_qualite_PM10'\n",
    "print(dfPM10['cible_objectif_qualite_PM10'].value_counts())\n",
    "print(dfPM10['cible_valeur_limite_annuelle_PM10'].value_counts())\n",
    "print(dfPM10['cible_objectif_qualite_PM10_mensuelle'].value_counts())\n"
   ],
   "metadata": {
    "collapsed": false,
    "ExecuteTime": {
     "end_time": "2024-05-22T14:13:32.297640Z",
     "start_time": "2024-05-22T14:13:32.282975Z"
    }
   },
   "id": "30a18729e2598863",
   "execution_count": 77
  },
  {
   "cell_type": "markdown",
   "source": [
    "Observations : \n",
    "- Les variables cible_objectif_qualite_PM10 et cible_objectif_qualite_PM10_mensuelle sont plutot équilibrés, il y à donc un problème sur l'objectif qualité PM10, avec beaucoup d'alertes\n",
    "- La variable cible_valeur_limite_annuelle_PM10 est plutot déséquilibré, l'indice semble donc plutôt correcte."
   ],
   "metadata": {
    "collapsed": false
   },
   "id": "9ebe523927044656"
  },
  {
   "cell_type": "markdown",
   "source": [
    "## Visualisation des données par des graphiques"
   ],
   "metadata": {
    "collapsed": false
   },
   "id": "d6d309fe76d3652d"
  },
  {
   "cell_type": "markdown",
   "source": [
    "Graphique pour voir par année, quand est-ce qu'on à dépassé le seuil de cible_objectif_qualité_PM10 (valeur de seuil = 15, en rouge quand depassé)"
   ],
   "metadata": {
    "collapsed": false
   },
   "id": "dbb7e9332d2b66f2"
  },
  {
   "cell_type": "code",
   "outputs": [
    {
     "data": {
      "text/plain": "<Figure size 1000x500 with 1 Axes>",
      "image/png": "[encoded data removed]"
     },
     "metadata": {},
     "output_type": "display_data"
    }
   ],
   "source": [
    "# Grouper les données par année\n",
    "dfPM10['année'] = dfPM10['date_heure_tu'].dt.year\n",
    "annual_means = dfPM10.groupby('année')['valeur'].mean().reset_index()\n",
    "\n",
    "# Créer la colonne indiquant si la moyenne annuelle dépasse le seuil\n",
    "annual_means['depasse_seuil'] = (annual_means['valeur'] > OBJECTIF_QUALITE_PM10).astype(int)\n",
    "\n",
    "# Créer le diagramme en bâtons\n",
    "plt.figure(figsize=(10, 5))\n",
    "colors = ['red' if x == 1 else 'blue' for x in annual_means['depasse_seuil']]\n",
    "plt.bar(annual_means['année'], annual_means['valeur'], color=colors)\n",
    "plt.axhline(y=OBJECTIF_QUALITE_PM10, color='green', linestyle='--', linewidth=2, label=f'Seuil {OBJECTIF_QUALITE_PM10_MENSUEL}')\n",
    "plt.xlabel('Année')\n",
    "plt.ylabel('Moyenne annuelle PM10')\n",
    "plt.title('Moyennes annuelles des valeurs PM10')\n",
    "plt.xticks(annual_means['année'])\n",
    "plt.show()\n"
   ],
   "metadata": {
    "collapsed": false,
    "ExecuteTime": {
     "end_time": "2024-05-22T14:13:35.425679Z",
     "start_time": "2024-05-22T14:13:35.320638Z"
    }
   },
   "id": "57bedd4de90c8c01",
   "execution_count": 78
  },
  {
   "cell_type": "markdown",
   "source": [
    "Graphique pour voir par année, quand est-ce qu'on à dépassé le seuil de la valeur limite annuelle (valeur de seuil = 20, en rouge quand depassé)"
   ],
   "metadata": {
    "collapsed": false
   },
   "id": "cadd481835c0241b"
  },
  {
   "cell_type": "code",
   "outputs": [
    {
     "data": {
      "text/plain": "<Figure size 1000x500 with 1 Axes>",
      "image/png": "[encoded data removed]"
     },
     "metadata": {},
     "output_type": "display_data"
    }
   ],
   "source": [
    "# Créer la colonne indiquant si la moyenne annuelle dépasse le seuil\n",
    "annual_means['depasse_seuil'] = (annual_means['valeur'] > VALEUR_LIMITE_ANNUELLE_PM10).astype(int)\n",
    "\n",
    "# Créer le diagramme en bâtons\n",
    "plt.figure(figsize=(10, 5))\n",
    "colors = ['red' if x == 1 else 'blue' for x in annual_means['depasse_seuil']]\n",
    "plt.bar(annual_means['année'], annual_means['valeur'], color=colors)\n",
    "plt.axhline(y=VALEUR_LIMITE_ANNUELLE_PM10, color='green', linestyle='--', linewidth=2, label=f'Seuil {VALEUR_LIMITE_ANNUELLE_PM10}')\n",
    "plt.xlabel('Année')\n",
    "plt.ylabel('Moyenne annuelle PM10')\n",
    "plt.title('Moyennes annuelles des valeurs PM10')\n",
    "plt.xticks(annual_means['année'])\n",
    "plt.legend()\n",
    "plt.show()\n"
   ],
   "metadata": {
    "collapsed": false,
    "ExecuteTime": {
     "end_time": "2024-05-22T14:13:38.058745Z",
     "start_time": "2024-05-22T14:13:37.977057Z"
    }
   },
   "id": "ab39ff63171e8418",
   "execution_count": 79
  },
  {
   "cell_type": "markdown",
   "source": [
    "#### Fusion des 2 graphiques, si un des seuils est dépassé, la colonne devient rouge"
   ],
   "metadata": {
    "collapsed": false
   },
   "id": "f4f88cd35e20718d"
  },
  {
   "cell_type": "code",
   "outputs": [
    {
     "data": {
      "text/plain": "<Figure size 1000x500 with 1 Axes>",
      "image/png": "[encoded data removed]"
     },
     "metadata": {},
     "output_type": "display_data"
    }
   ],
   "source": [
    "# Créer la colonne indiquant si la moyenne annuelle dépasse le seuil\n",
    "annual_means['depasse_seuil'] = ((annual_means['valeur'] > OBJECTIF_QUALITE_PM10).astype(int) |\n",
    "                                (annual_means['valeur'] > OBJECTIF_QUALITE_PM10).astype(int))\n",
    "\n",
    "# Créer le diagramme en bâtons\n",
    "plt.figure(figsize=(10, 5))\n",
    "colors = ['red' if x == 1 else 'blue' for x in annual_means['depasse_seuil']]\n",
    "plt.bar(annual_means['année'], annual_means['valeur'], color=colors)\n",
    "plt.axhline(y=OBJECTIF_QUALITE_PM10, color='green', linestyle='--', linewidth=2, label=f'Seuil {OBJECTIF_QUALITE_PM10_MENSUEL}')\n",
    "plt.axhline(y=VALEUR_LIMITE_ANNUELLE_PM10, color='orange', linestyle='--', linewidth=2, label=f'Seuil {VALEUR_LIMITE_ANNUELLE_PM10}')\n",
    "plt.xlabel('Année')\n",
    "plt.ylabel('Moyenne annuelle PM10')\n",
    "plt.title('Moyennes annuelles des valeurs PM10')\n",
    "plt.xticks(annual_means['année'])\n",
    "plt.legend()\n",
    "plt.show()"
   ],
   "metadata": {
    "collapsed": false,
    "ExecuteTime": {
     "end_time": "2024-05-22T14:13:39.593763Z",
     "start_time": "2024-05-22T14:13:39.505280Z"
    }
   },
   "id": "1e32986ccc547a66",
   "execution_count": 80
  },
  {
   "cell_type": "markdown",
   "source": [
    "Graphique pour voir par année et par mois, quand est-ce qu'on à dépassé le seuil de cible_objectif_qualité_PM10_mensuel (valeur de seuil = 18, en rouge quand depassé)"
   ],
   "metadata": {
    "collapsed": false
   },
   "id": "11c71890ee5e3e78"
  },
  {
   "cell_type": "code",
   "outputs": [
    {
     "data": {
      "text/plain": "<Figure size 1000x500 with 1 Axes>",
      "image/png": "[encoded data removed]"
     },
     "metadata": {},
     "output_type": "display_data"
    }
   ],
   "source": [
    "import calendar\n",
    "\n",
    "# Grouper les données par année et mois\n",
    "dfPM10['année'] = dfPM10['date_heure_tu'].dt.year\n",
    "dfPM10['mois'] = dfPM10['date_heure_tu'].dt.month\n",
    "grouped = dfPM10.groupby(['année', 'mois'])[['valeur']].mean().reset_index()\n",
    "\n",
    "# Créer la colonne indiquant si la moyenne mensuelle dépasse le seuil\n",
    "grouped['depasse_seuil'] = (grouped['valeur'] > OBJECTIF_QUALITE_PM10_MENSUEL).astype(int)\n",
    "\n",
    "# Créer le diagramme en bâtons pour chaque année\n",
    "for year in grouped['année'].unique():\n",
    "    plt.figure(figsize=(10, 5))\n",
    "    subset = grouped[grouped['année'] == year]\n",
    "    colors = ['red' if x == 1 else 'blue' for x in subset['depasse_seuil']]\n",
    "    months = [calendar.month_name[m] for m in subset['mois']]\n",
    "    plt.bar(months, subset['valeur'], color=colors)\n",
    "    plt.axhline(y=OBJECTIF_QUALITE_PM10_MENSUEL, color='green', linestyle='--', linewidth=2, label=f'Seuil {OBJECTIF_QUALITE_PM10_MENSUEL}')\n",
    "    plt.xlabel('Mois')\n",
    "    plt.ylabel('Valeur moyenne mensuelle PM10')\n",
    "    plt.title(f'Valeurs moyennes mensuelles PM10 pour l\\'année {year}')\n",
    "    plt.xticks(rotation=45)\n",
    "    plt.show()\n"
   ],
   "metadata": {
    "collapsed": false,
    "ExecuteTime": {
     "end_time": "2024-05-22T14:13:41.100975Z",
     "start_time": "2024-05-22T14:13:41.009881Z"
    }
   },
   "id": "2e3356e0434a942d",
   "execution_count": 81
  },
  {
   "cell_type": "markdown",
   "source": [
    "## Ajout d'alerte quand les variables de seuils sont dépassées"
   ],
   "metadata": {
    "collapsed": false
   },
   "id": "5961e6792628d96c"
  },
  {
   "cell_type": "markdown",
   "source": [
    "### Pour les valeurs de seuils annuels"
   ],
   "metadata": {
    "collapsed": false
   },
   "id": "34329f5ff50faa6c"
  },
  {
   "cell_type": "code",
   "outputs": [
    {
     "name": "stdout",
     "output_type": "stream",
     "text": [
      "Aucune alerte pour l'Objectif de Qualité annuel.\n",
      "Aucune alerte pour la Valeur Limite annuelle.\n"
     ]
    }
   ],
   "source": [
    "# Convertir les colonnes de date en format datetime si ce n'est pas déjà fait\n",
    "dfPM10['date_heure_tu'] = pd.to_datetime(dfPM10['date_heure_tu'])\n",
    "\n",
    "# Grouper les données par année\n",
    "dfPM10['année'] = dfPM10['date_heure_tu'].dt.year\n",
    "grouped = dfPM10.groupby('année')[['valeur']].mean().reset_index()\n",
    "\n",
    "# Arrondir les valeurs moyennes à un chiffre après la virgule\n",
    "grouped['valeur'] = grouped['valeur'].round(1)\n",
    "\n",
    "# Créer la colonne indiquant si la moyenne annuelle dépasse un des seuils\n",
    "grouped['depasse_objectif_qualite'] = grouped['valeur'] > OBJECTIF_QUALITE_PM10\n",
    "grouped['depasse_valeur_limite'] = grouped['valeur'] > VALEUR_LIMITE_ANNUELLE_PM10\n",
    "\n",
    "# Regrouper les alertes par type\n",
    "alertes_qualite = grouped[grouped['depasse_objectif_qualite']]\n",
    "alertes_limite = grouped[grouped['depasse_valeur_limite']]\n",
    "\n",
    "# Afficher les alertes par type pour les moyennes annuelles\n",
    "if not alertes_qualite.empty:\n",
    "    print(\"Alertes pour l'Objectif de Qualité annuel:\")\n",
    "    for index, row in alertes_qualite.iterrows():\n",
    "        print(f\"Alerte: Valeur moyenne annuelle {row['valeur']} dépasse l'Objectif de Qualité annuel ({OBJECTIF_QUALITE_PM10} µg/m3) en {row['année']}\")\n",
    "else:\n",
    "    print(\"Aucune alerte pour l'Objectif de Qualité annuel.\")\n",
    "\n",
    "if not alertes_limite.empty:\n",
    "    print(\"\\nAlertes pour la Valeur Limite annuelle:\")\n",
    "    for index, row in alertes_limite.iterrows():\n",
    "        print(f\"Alerte: Valeur moyenne annuelle {row['valeur']} dépasse la Valeur Limite annuelle ({VALEUR_LIMITE_ANNUELLE_PM10} µg/m3) en {row['année']}\")\n",
    "else:\n",
    "    print(\"Aucune alerte pour la Valeur Limite annuelle.\")\n"
   ],
   "metadata": {
    "collapsed": false,
    "ExecuteTime": {
     "end_time": "2024-05-22T14:13:42.788646Z",
     "start_time": "2024-05-22T14:13:42.766378Z"
    }
   },
   "id": "1c400ce6e78d96fc",
   "execution_count": 82
  },
  {
   "cell_type": "markdown",
   "source": [
    "### Pour les valeurs de seuils mensuels"
   ],
   "metadata": {
    "collapsed": false
   },
   "id": "cb5f0062f0527697"
  },
  {
   "cell_type": "code",
   "outputs": [
    {
     "name": "stdout",
     "output_type": "stream",
     "text": [
      "Aucune alerte pour l'Objectif de Qualité mensuel.\n"
     ]
    }
   ],
   "source": [
    "# Convertir les colonnes de date en format datetime si ce n'est pas déjà fait\n",
    "dfPM10['date_heure_tu'] = pd.to_datetime(dfPM10['date_heure_tu'])\n",
    "\n",
    "# Grouper les données par année et mois\n",
    "dfPM10['année'] = dfPM10['date_heure_tu'].dt.year\n",
    "dfPM10['mois'] = dfPM10['date_heure_tu'].dt.month\n",
    "grouped = dfPM10.groupby(['année', 'mois'])[['valeur']].mean().reset_index()\n",
    "\n",
    "# Arrondir les valeurs moyennes à un chiffre après la virgule\n",
    "grouped['valeur'] = grouped['valeur'].round(1)\n",
    "\n",
    "# Créer la colonne indiquant si la moyenne mensuelle dépasse le seuil\n",
    "grouped['depasse_objectif_qualite'] = grouped['valeur'] > OBJECTIF_QUALITE_PM10_MENSUEL\n",
    "\n",
    "# Extraire les mois en lettres\n",
    "grouped['mois_lettres'] = grouped['mois'].apply(lambda x: calendar.month_name[x])\n",
    "\n",
    "# Regrouper les alertes par type\n",
    "alertes_qualite = grouped[grouped['depasse_objectif_qualite']]\n",
    "\n",
    "# Afficher les alertes par type pour les moyennes mensuelles\n",
    "if not alertes_qualite.empty:\n",
    "    print(\"Alertes pour l'Objectif de Qualité mensuel:\")\n",
    "    for index, row in alertes_qualite.iterrows():\n",
    "        print(f\"Alerte: Valeur moyenne {row['valeur']} dépasse l'Objectif de Qualité mensuel ({OBJECTIF_QUALITE_PM10_MENSUEL} µg/m3) en {row['mois_lettres']} {row['année']}\")\n",
    "else:\n",
    "    print(\"Aucune alerte pour l'Objectif de Qualité mensuel.\")\n"
   ],
   "metadata": {
    "collapsed": false,
    "ExecuteTime": {
     "end_time": "2024-05-22T14:13:43.607726Z",
     "start_time": "2024-05-22T14:13:43.601351Z"
    }
   },
   "id": "40ae6f395f0ae1cd",
   "execution_count": 83
  },
  {
   "cell_type": "code",
   "outputs": [],
   "source": [],
   "metadata": {
    "collapsed": false,
    "ExecuteTime": {
     "end_time": "2024-05-22T14:13:44.073927Z",
     "start_time": "2024-05-22T14:13:44.059922Z"
    }
   },
   "id": "c036e7f148b5abbb",
   "execution_count": 83
  },
  {
   "cell_type": "code",
   "outputs": [],
   "source": [],
   "metadata": {
    "collapsed": false
   },
   "id": "247727bbfaf1c682"
  }
 ],
 "metadata": {
  "kernelspec": {
   "display_name": "Python 3",
   "language": "python",
   "name": "python3"
  },
  "language_info": {
   "codemirror_mode": {
    "name": "ipython",
    "version": 2
   },
   "file_extension": ".py",
   "mimetype": "text/x-python",
   "name": "python",
   "nbconvert_exporter": "python",
   "pygments_lexer": "ipython2",
   "version": "2.7.6"
  }
 },
 "nbformat": 4,
 "nbformat_minor": 5
}
