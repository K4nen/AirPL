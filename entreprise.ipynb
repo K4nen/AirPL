{
 "cells": [
  {
   "cell_type": "markdown",
   "source": [
    "# Jeu de données entreprise\n",
    "\n",
    "Voici le script pour récupérer les colonnes spécifiques siret, categorieentreprise, sectionetablissement, et geolocetablissement, tout en sélectionnant uniquement les enregistrements avec l'état administratif \"Actif\" dans la colonne etatadministratifetablissement :"
   ],
   "metadata": {
    "collapsed": false
   },
   "id": "8df259eb3e265f17"
  },
  {
   "cell_type": "code",
   "source": [
    "import requests\n",
    "import pandas as pd\n",
    "import matplotlib.pyplot as plt\n",
    "import seaborn as sns"
   ],
   "metadata": {
    "collapsed": false,
    "ExecuteTime": {
     "end_time": "2024-05-25T15:25:15.668298Z",
     "start_time": "2024-05-25T15:25:15.412636Z"
    }
   },
   "id": "6939101b6bbb3a21",
   "outputs": [],
   "execution_count": 3
  },
  {
   "cell_type": "code",
   "source": [
    "url3 = \"https://data.paysdelaloire.fr/api/explore/v2.1/catalog/datasets/120027016_base-sirene-v3-ss/exports/json?\"\n",
    "\n",
    "where = (\n",
    "     \"etatadministratifetablissement = 'Actif' AND (\"\n",
    "        \"libellecommuneetablissement = 'DONGES' OR \"\n",
    "        \"libellecommuneetablissement = 'FROSSAY' OR \"\n",
    "        \"libellecommuneetablissement = 'SAINT-ETIENNE-DE-MONTLUC' OR \"\n",
    "        \"libellecommuneetablissement = 'CHOLET' OR \"\n",
    "        \"libellecommuneetablissement = 'NANTES' OR \"\n",
    "        \"libellecommuneetablissement = 'SAINT-NAZAIRE' OR \"\n",
    "        \"libellecommuneetablissement = 'ANGERS' OR \"\n",
    "        \"libellecommuneetablissement = 'LAVAL' OR \"\n",
    "        \"libellecommuneetablissement = 'LA TARDIERE' OR \"\n",
    "        \"libellecommuneetablissement = 'LA ROCHE-SUR-YON' OR \"\n",
    "        \"libellecommuneetablissement = 'LE MANS' OR \"\n",
    "        \"libellecommuneetablissement = 'REZE' OR \"\n",
    "        \"libellecommuneetablissement = 'BOUGUENAIS' OR \"\n",
    "        \"libellecommuneetablissement = 'MONTOIR-DE-BRETAGNE')\"\n",
    ")\n",
    "\n",
    "select = 'siret, categorieentreprise, sectionetablissement, libellecommuneetablissement ,geolocetablissement, etatadministratifetablissement'\n",
    "limit = 300000\n",
    "\n",
    "\n",
    "\n",
    "dfEtp = pd.DataFrame()\n",
    "\n",
    "while True:\n",
    "    # Paramètres de la requête\n",
    "    params = {\n",
    "        'select': select,\n",
    "        'where': where,\n",
    "        'limit': limit\n",
    "    }\n",
    "    \n",
    "\n",
    "    response = requests.get(url3, params=params)\n",
    "    if response.status_code != 200:\n",
    "        print(f\"Erreur: {response.status_code}\")\n",
    "        print(response.text)\n",
    "    \n",
    "    data = response.json()\n",
    "    if isinstance(data, list):\n",
    "        df_results = pd.json_normalize(data)\n",
    "        dfEtp = pd.concat([dfEtp, df_results], ignore_index=True)\n",
    "    \n",
    "    if len(data) < limit:\n",
    "        break  # Arrêter la boucle si tous les enregistrements ont été récupérés\n",
    "    \n",
    "print(dfEtp.shape)\n",
    "print(dfEtp.head())"
   ],
   "metadata": {
    "collapsed": false,
    "ExecuteTime": {
     "end_time": "2024-05-25T15:53:14.815205Z",
     "start_time": "2024-05-25T15:52:37.852036Z"
    }
   },
   "id": "2d7facd2e50595cf",
   "outputs": [
    {
     "name": "stdout",
     "output_type": "stream",
     "text": [
      "(213275, 8)\n",
      "            siret categorieentreprise  \\\n",
      "0  48883215500029                 PME   \n",
      "1  39331063600021                 PME   \n",
      "2  84379749900012                 PME   \n",
      "3  81927682500018                None   \n",
      "4  49477092800047                None   \n",
      "\n",
      "                                sectionetablissement  \\\n",
      "0  Commerce ; réparation d'automobiles et de moto...   \n",
      "1  Activités spécialisées, scientifiques et techn...   \n",
      "2                                       Construction   \n",
      "3                             Activités immobilières   \n",
      "4                             Activités immobilières   \n",
      "\n",
      "  libellecommuneetablissement etatadministratifetablissement  \\\n",
      "0                      ANGERS                          Actif   \n",
      "1                      ANGERS                          Actif   \n",
      "2                      ANGERS                          Actif   \n",
      "3                      CHOLET                          Actif   \n",
      "4                      ANGERS                          Actif   \n",
      "\n",
      "   geolocetablissement.lon  geolocetablissement.lat  geolocetablissement  \n",
      "0                -0.553265                47.471902                  NaN  \n",
      "1                -0.547919                47.477067                  NaN  \n",
      "2                -0.533756                47.464819                  NaN  \n",
      "3                -0.880637                47.062723                  NaN  \n",
      "4                -0.539614                47.461088                  NaN  \n"
     ]
    }
   ],
   "execution_count": 19
  },
  {
   "metadata": {
    "ExecuteTime": {
     "end_time": "2024-05-25T15:53:38.960559Z",
     "start_time": "2024-05-25T15:53:38.958389Z"
    }
   },
   "cell_type": "code",
   "source": "dfEtp = dfEtp.head(40000)",
   "id": "2c079eb1adfa4972",
   "outputs": [],
   "execution_count": 20
  },
  {
   "cell_type": "code",
   "source": [
    "print(dfEtp['libellecommuneetablissement'].value_counts())\n"
   ],
   "metadata": {
    "collapsed": false,
    "ExecuteTime": {
     "end_time": "2024-05-25T15:53:40.293200Z",
     "start_time": "2024-05-25T15:53:40.279250Z"
    }
   },
   "id": "f82dc4703903e52",
   "outputs": [
    {
     "name": "stdout",
     "output_type": "stream",
     "text": [
      "libellecommuneetablissement\n",
      "NANTES                      40609\n",
      "ANGERS                      16267\n",
      "LE MANS                     13256\n",
      "SAINT-NAZAIRE                6211\n",
      "LA ROCHE-SUR-YON             5599\n",
      "LAVAL                        5452\n",
      "CHOLET                       5079\n",
      "REZE                         3928\n",
      "BOUGUENAIS                   1741\n",
      "SAINT-ETIENNE-DE-MONTLUC      669\n",
      "MONTOIR-DE-BRETAGNE           467\n",
      "DONGES                        444\n",
      "FROSSAY                       278\n",
      "Name: count, dtype: int64\n"
     ]
    }
   ],
   "execution_count": 21
  },
  {
   "cell_type": "code",
   "source": [
    "dfEtp.info()"
   ],
   "metadata": {
    "collapsed": false,
    "ExecuteTime": {
     "end_time": "2024-05-25T15:30:08.186766Z",
     "start_time": "2024-05-25T15:30:08.177531Z"
    }
   },
   "id": "7b10ec8fcfb9dc23",
   "outputs": [
    {
     "name": "stdout",
     "output_type": "stream",
     "text": [
      "<class 'pandas.core.frame.DataFrame'>\n",
      "RangeIndex: 10000 entries, 0 to 9999\n",
      "Data columns (total 8 columns):\n",
      " #   Column                          Non-Null Count  Dtype  \n",
      "---  ------                          --------------  -----  \n",
      " 0   siret                           10000 non-null  object \n",
      " 1   categorieentreprise             6346 non-null   object \n",
      " 2   sectionetablissement            10000 non-null  object \n",
      " 3   libellecommuneetablissement     10000 non-null  object \n",
      " 4   etatadministratifetablissement  10000 non-null  object \n",
      " 5   geolocetablissement.lon         9771 non-null   float64\n",
      " 6   geolocetablissement.lat         9771 non-null   float64\n",
      " 7   geolocetablissement             0 non-null      float64\n",
      "dtypes: float64(3), object(5)\n",
      "memory usage: 625.1+ KB\n"
     ]
    }
   ],
   "execution_count": 6
  },
  {
   "cell_type": "code",
   "source": [
    "dfEtp.info"
   ],
   "metadata": {
    "collapsed": false,
    "ExecuteTime": {
     "end_time": "2024-05-25T15:30:08.357483Z",
     "start_time": "2024-05-25T15:30:08.351399Z"
    }
   },
   "id": "1e3b6d552a4ce2da",
   "outputs": [
    {
     "data": {
      "text/plain": [
       "<bound method DataFrame.info of                siret categorieentreprise  \\\n",
       "0     43978322600053                 PME   \n",
       "1     39782326100011                None   \n",
       "2     88179106500025                 PME   \n",
       "3     42401388600017                None   \n",
       "4     39759664400013                 PME   \n",
       "...              ...                 ...   \n",
       "9995  90188365200017                None   \n",
       "9996  79901137400011                 PME   \n",
       "9997  89059148000011                 PME   \n",
       "9998  90052852200015                 PME   \n",
       "9999  89424452400019                 PME   \n",
       "\n",
       "                                   sectionetablissement  \\\n",
       "0                          Autres activités de services   \n",
       "1                                Activités immobilières   \n",
       "2     Production et distribution d'électricité, de g...   \n",
       "3                          Autres activités de services   \n",
       "4                                          Construction   \n",
       "...                                                 ...   \n",
       "9995          Arts, spectacles et activités récréatives   \n",
       "9996                    Santé humaine et action sociale   \n",
       "9997  Activités spécialisées, scientifiques et techn...   \n",
       "9998               Activités financières et d'assurance   \n",
       "9999  Activités de services administratifs et de sou...   \n",
       "\n",
       "     libellecommuneetablissement etatadministratifetablissement  \\\n",
       "0                        FROSSAY                          Actif   \n",
       "1                        FROSSAY                          Actif   \n",
       "2                        FROSSAY                          Actif   \n",
       "3                        FROSSAY                          Actif   \n",
       "4                        FROSSAY                          Actif   \n",
       "...                          ...                            ...   \n",
       "9995                        REZE                          Actif   \n",
       "9996                        REZE                          Actif   \n",
       "9997                        REZE                          Actif   \n",
       "9998                        REZE                          Actif   \n",
       "9999                        REZE                          Actif   \n",
       "\n",
       "      geolocetablissement.lon  geolocetablissement.lat  geolocetablissement  \n",
       "0                   -1.933475                47.244927                  NaN  \n",
       "1                   -1.962622                47.205208                  NaN  \n",
       "2                   -1.920900                47.236324                  NaN  \n",
       "3                   -1.945411                47.247184                  NaN  \n",
       "4                   -1.942061                47.246110                  NaN  \n",
       "...                       ...                      ...                  ...  \n",
       "9995                -1.552218                47.190759                  NaN  \n",
       "9996                -1.542125                47.181931                  NaN  \n",
       "9997                -1.568760                47.191394                  NaN  \n",
       "9998                -1.584195                47.191929                  NaN  \n",
       "9999                -1.528458                47.173121                  NaN  \n",
       "\n",
       "[10000 rows x 8 columns]>"
      ]
     },
     "execution_count": 7,
     "metadata": {},
     "output_type": "execute_result"
    }
   ],
   "execution_count": 7
  },
  {
   "cell_type": "code",
   "source": [
    "dfEtp.isnull().sum()"
   ],
   "metadata": {
    "collapsed": false,
    "ExecuteTime": {
     "end_time": "2024-05-25T15:30:08.521595Z",
     "start_time": "2024-05-25T15:30:08.514570Z"
    }
   },
   "id": "73f1a9068b1b021e",
   "outputs": [
    {
     "data": {
      "text/plain": [
       "siret                                 0\n",
       "categorieentreprise                3654\n",
       "sectionetablissement                  0\n",
       "libellecommuneetablissement           0\n",
       "etatadministratifetablissement        0\n",
       "geolocetablissement.lon             229\n",
       "geolocetablissement.lat             229\n",
       "geolocetablissement               10000\n",
       "dtype: int64"
      ]
     },
     "execution_count": 8,
     "metadata": {},
     "output_type": "execute_result"
    }
   ],
   "execution_count": 8
  },
  {
   "cell_type": "code",
   "source": [
    "for col in dfEtp.select_dtypes('float64'):\n",
    "    print(f'{col :-<20} {dfEtp[col].unique()}')"
   ],
   "metadata": {
    "collapsed": false,
    "ExecuteTime": {
     "end_time": "2024-05-25T15:30:08.700024Z",
     "start_time": "2024-05-25T15:30:08.695415Z"
    }
   },
   "id": "55052d0663f256",
   "outputs": [
    {
     "name": "stdout",
     "output_type": "stream",
     "text": [
      "geolocetablissement.lon [-1.93347535 -1.962622   -1.9209     ... -1.56876    -1.584195\n",
      " -1.528458  ]\n",
      "geolocetablissement.lat [47.24492702 47.205208   47.236324   ... 47.191394   47.191929\n",
      " 47.173121  ]\n",
      "geolocetablissement- [nan]\n"
     ]
    }
   ],
   "execution_count": 9
  },
  {
   "cell_type": "code",
   "source": [
    "for col in dfEtp.select_dtypes('object'):\n",
    "    print(f'{col :-<20} {dfEtp[col].unique()}')"
   ],
   "metadata": {
    "collapsed": false,
    "ExecuteTime": {
     "end_time": "2024-05-25T15:30:09.195814Z",
     "start_time": "2024-05-25T15:30:09.188800Z"
    }
   },
   "id": "c42704e10a03b967",
   "outputs": [
    {
     "name": "stdout",
     "output_type": "stream",
     "text": [
      "siret--------------- ['43978322600053' '39782326100011' '88179106500025' ... '89059148000011'\n",
      " '90052852200015' '89424452400019']\n",
      "categorieentreprise- ['PME' None 'GE' 'ETI']\n",
      "sectionetablissement ['Autres activités de services' 'Activités immobilières'\n",
      " \"Production et distribution d'électricité, de gaz, de vapeur et d'air conditionné\"\n",
      " 'Construction' 'Agriculture, sylviculture et pêche'\n",
      " 'Information et communication' 'Santé humaine et action sociale'\n",
      " 'Hébergement et restauration'\n",
      " 'Activités de services administratifs et de soutien'\n",
      " 'Transports et entreposage'\n",
      " 'Activités spécialisées, scientifiques et techniques'\n",
      " 'Industrie manufacturière'\n",
      " \"Commerce ; réparation d'automobiles et de motocycles\"\n",
      " \"Production et distribution d'eau ; assainissement, gestion des déchets et dépollution\"\n",
      " 'Arts, spectacles et activités récréatives' 'Enseignement'\n",
      " \"Activités financières et d'assurance\" 'Administration publique'\n",
      " 'Services collectifs, sociaux et personnels' 'Industries extractives'\n",
      " 'Transports et communications'\n",
      " 'Immobilier, location et services aux entreprises'\n",
      " \"Commerce ; réparations automobile et d'articles domestiques\" 'Education']\n",
      "libellecommuneetablissement ['FROSSAY' 'DONGES' 'MONTOIR-DE-BRETAGNE' 'SAINT-ETIENNE-DE-MONTLUC'\n",
      " 'BOUGUENAIS' 'REZE']\n",
      "etatadministratifetablissement ['Actif']\n"
     ]
    }
   ],
   "execution_count": 10
  },
  {
   "cell_type": "code",
   "source": [
    "# Suppression des colonnes 'geo_shape' et 'geo_point_2d' de dfPopulation\n",
    "dfEtp = dfEtp.drop(columns=['geolocetablissement'], errors='ignore')\n",
    "\n",
    "# Afficher les premières lignes du DataFrame dfPopulation pour vérifier les modifications\n",
    "print(dfEtp.head())\n"
   ],
   "metadata": {
    "collapsed": false,
    "ExecuteTime": {
     "end_time": "2024-05-25T15:30:09.523058Z",
     "start_time": "2024-05-25T15:30:09.516778Z"
    }
   },
   "id": "11619514029500ce",
   "outputs": [
    {
     "name": "stdout",
     "output_type": "stream",
     "text": [
      "            siret categorieentreprise  \\\n",
      "0  43978322600053                 PME   \n",
      "1  39782326100011                None   \n",
      "2  88179106500025                 PME   \n",
      "3  42401388600017                None   \n",
      "4  39759664400013                 PME   \n",
      "\n",
      "                                sectionetablissement  \\\n",
      "0                       Autres activités de services   \n",
      "1                             Activités immobilières   \n",
      "2  Production et distribution d'électricité, de g...   \n",
      "3                       Autres activités de services   \n",
      "4                                       Construction   \n",
      "\n",
      "  libellecommuneetablissement etatadministratifetablissement  \\\n",
      "0                     FROSSAY                          Actif   \n",
      "1                     FROSSAY                          Actif   \n",
      "2                     FROSSAY                          Actif   \n",
      "3                     FROSSAY                          Actif   \n",
      "4                     FROSSAY                          Actif   \n",
      "\n",
      "   geolocetablissement.lon  geolocetablissement.lat  \n",
      "0                -1.933475                47.244927  \n",
      "1                -1.962622                47.205208  \n",
      "2                -1.920900                47.236324  \n",
      "3                -1.945411                47.247184  \n",
      "4                -1.942061                47.246110  \n"
     ]
    }
   ],
   "execution_count": 11
  },
  {
   "cell_type": "code",
   "source": [
    "from unidecode import unidecode\n",
    "\n",
    "# Convertir les valeurs de la colonne 'nom_commune' en minuscules et supprimer les accents\n",
    "dfEtp['libellecommuneetablissement'] = dfEtp['libellecommuneetablissement'].apply(lambda x: unidecode(x).lower())\n"
   ],
   "metadata": {
    "collapsed": false,
    "ExecuteTime": {
     "end_time": "2024-05-25T15:30:10.172628Z",
     "start_time": "2024-05-25T15:30:10.166484Z"
    }
   },
   "id": "bf1391cfb5edf25e",
   "outputs": [],
   "execution_count": 12
  },
  {
   "metadata": {
    "ExecuteTime": {
     "end_time": "2024-05-25T15:30:11.535928Z",
     "start_time": "2024-05-25T15:30:11.530916Z"
    }
   },
   "cell_type": "code",
   "source": "dfEtp.info",
   "id": "e7714e79834b0d47",
   "outputs": [
    {
     "data": {
      "text/plain": [
       "<bound method DataFrame.info of                siret categorieentreprise  \\\n",
       "0     43978322600053                 PME   \n",
       "1     39782326100011                None   \n",
       "2     88179106500025                 PME   \n",
       "3     42401388600017                None   \n",
       "4     39759664400013                 PME   \n",
       "...              ...                 ...   \n",
       "9995  90188365200017                None   \n",
       "9996  79901137400011                 PME   \n",
       "9997  89059148000011                 PME   \n",
       "9998  90052852200015                 PME   \n",
       "9999  89424452400019                 PME   \n",
       "\n",
       "                                   sectionetablissement  \\\n",
       "0                          Autres activités de services   \n",
       "1                                Activités immobilières   \n",
       "2     Production et distribution d'électricité, de g...   \n",
       "3                          Autres activités de services   \n",
       "4                                          Construction   \n",
       "...                                                 ...   \n",
       "9995          Arts, spectacles et activités récréatives   \n",
       "9996                    Santé humaine et action sociale   \n",
       "9997  Activités spécialisées, scientifiques et techn...   \n",
       "9998               Activités financières et d'assurance   \n",
       "9999  Activités de services administratifs et de sou...   \n",
       "\n",
       "     libellecommuneetablissement etatadministratifetablissement  \\\n",
       "0                        frossay                          Actif   \n",
       "1                        frossay                          Actif   \n",
       "2                        frossay                          Actif   \n",
       "3                        frossay                          Actif   \n",
       "4                        frossay                          Actif   \n",
       "...                          ...                            ...   \n",
       "9995                        reze                          Actif   \n",
       "9996                        reze                          Actif   \n",
       "9997                        reze                          Actif   \n",
       "9998                        reze                          Actif   \n",
       "9999                        reze                          Actif   \n",
       "\n",
       "      geolocetablissement.lon  geolocetablissement.lat  \n",
       "0                   -1.933475                47.244927  \n",
       "1                   -1.962622                47.205208  \n",
       "2                   -1.920900                47.236324  \n",
       "3                   -1.945411                47.247184  \n",
       "4                   -1.942061                47.246110  \n",
       "...                       ...                      ...  \n",
       "9995                -1.552218                47.190759  \n",
       "9996                -1.542125                47.181931  \n",
       "9997                -1.568760                47.191394  \n",
       "9998                -1.584195                47.191929  \n",
       "9999                -1.528458                47.173121  \n",
       "\n",
       "[10000 rows x 7 columns]>"
      ]
     },
     "execution_count": 13,
     "metadata": {},
     "output_type": "execute_result"
    }
   ],
   "execution_count": 13
  },
  {
   "metadata": {},
   "cell_type": "code",
   "outputs": [],
   "execution_count": null,
   "source": "",
   "id": "fc98a9b15884b0e4"
  }
 ],
 "metadata": {
  "kernelspec": {
   "display_name": "Python 3",
   "language": "python",
   "name": "python3"
  },
  "language_info": {
   "codemirror_mode": {
    "name": "ipython",
    "version": 2
   },
   "file_extension": ".py",
   "mimetype": "text/x-python",
   "name": "python",
   "nbconvert_exporter": "python",
   "pygments_lexer": "ipython2",
   "version": "2.7.6"
  }
 },
 "nbformat": 4,
 "nbformat_minor": 5
}
