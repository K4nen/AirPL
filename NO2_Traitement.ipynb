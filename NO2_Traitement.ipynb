{
 "cells": [
  {
   "cell_type": "markdown",
   "source": [
    "# Traitement des données pour le polluant NO2"
   ],
   "metadata": {
    "collapsed": false
   },
   "id": "688467cf144471d0"
  },
  {
   "cell_type": "code",
   "outputs": [],
   "source": [
    "import requests\n",
    "import pandas as pd\n",
    "import matplotlib.pyplot as plt\n",
    "import seaborn as sns"
   ],
   "metadata": {
    "collapsed": false,
    "ExecuteTime": {
     "end_time": "2024-05-21T13:50:02.680567Z",
     "start_time": "2024-05-21T13:50:02.679387Z"
    }
   },
   "id": "d90dd5474a40a25c",
   "execution_count": 3
  },
  {
   "cell_type": "code",
   "execution_count": 4,
   "id": "initial_id",
   "metadata": {
    "collapsed": true,
    "ExecuteTime": {
     "end_time": "2024-05-21T13:50:03.940093Z",
     "start_time": "2024-05-21T13:50:03.154298Z"
    }
   },
   "outputs": [
    {
     "name": "stdout",
     "output_type": "stream",
     "text": [
      "id                               object\n",
      "code_polluant                    object\n",
      "code_point_de_prelevement        object\n",
      "code_station                     object\n",
      "nom_station                      object\n",
      "nom_commune                      object\n",
      "code_commune                     object\n",
      "departement_code                 object\n",
      "departement_nom                  object\n",
      "code_zone_affichage               int64\n",
      "date_heure_tu                    object\n",
      "date_heure_local                 object\n",
      "valeur_originale                float64\n",
      "valeur                          float64\n",
      "validite                           bool\n",
      "code_configuration_de_mesure     object\n",
      "dtype: object\n",
      "                                 id code_polluant code_point_de_prelevement  \\\n",
      "0  2023-12-01 00:00:00FR23003_NO2_A            03               FR23003_NO2   \n",
      "1  2023-12-01 00:00:00FR23068_NO2_A            03               FR23068_NO2   \n",
      "2  2023-12-01 00:00:00FR23070_NO2_A            03               FR23070_NO2   \n",
      "3  2023-12-01 00:00:00FR23075_NO2_A            03               FR23075_NO2   \n",
      "4  2023-12-01 00:00:00FR23078_NO2_A            03               FR23078_NO2   \n",
      "\n",
      "  code_station               nom_station               nom_commune  \\\n",
      "0      FR23003              LA MEGRETAIS                    Donges   \n",
      "1      FR23068                   FROSSAY                   Frossay   \n",
      "2      FR23070  SAINT ETIENNE DE MONTLUC  Saint-Etienne-De-Montluc   \n",
      "3      FR23075               JULES VERNE                   Trignac   \n",
      "4      FR23078             SAINT EXUPERY                    Cholet   \n",
      "\n",
      "  code_commune departement_code   departement_nom  code_zone_affichage  \\\n",
      "0        44052               44  Loire-Atlantique                    3   \n",
      "1        44061               44  Loire-Atlantique                    3   \n",
      "2        44158               44  Loire-Atlantique                    3   \n",
      "3        44210               44  Loire-Atlantique                    3   \n",
      "4        49099               49    Maine-et-Loire                    4   \n",
      "\n",
      "          date_heure_tu           date_heure_local  valeur_originale  valeur  \\\n",
      "0  2023-12-01T00:00:00Z  2023-12-01T01:00:00+01:00          5.181862     5.2   \n",
      "1  2023-12-01T00:00:00Z  2023-12-01T01:00:00+01:00          4.513369     4.5   \n",
      "2  2023-12-01T00:00:00Z  2023-12-01T01:00:00+01:00          7.214065     7.2   \n",
      "3  2023-12-01T00:00:00Z  2023-12-01T01:00:00+01:00          8.705838     8.7   \n",
      "4  2023-12-01T00:00:00Z  2023-12-01T01:00:00+01:00          8.538575     8.5   \n",
      "\n",
      "   validite code_configuration_de_mesure  \n",
      "0      True                FR23003_NO2_A  \n",
      "1      True                FR23068_NO2_A  \n",
      "2      True                FR23070_NO2_A  \n",
      "3      True                FR23075_NO2_A  \n",
      "4      True                FR23078_NO2_A  \n",
      "id                               object\n",
      "code_polluant                     int64\n",
      "code_point_de_prelevement        object\n",
      "code_station                     object\n",
      "nom_station                      object\n",
      "nom_commune                      object\n",
      "code_commune                      int64\n",
      "departement_code                  int64\n",
      "departement_nom                  object\n",
      "code_zone_affichage               int64\n",
      "date_heure_tu                    object\n",
      "date_heure_local                 object\n",
      "valeur_originale                float64\n",
      "valeur                          float64\n",
      "validite                           bool\n",
      "code_configuration_de_mesure     object\n",
      "dtype: object\n",
      "                                 id  code_polluant code_point_de_prelevement  \\\n",
      "0  2023-12-01 00:00:00FR23003_NO2_A              3               FR23003_NO2   \n",
      "1  2023-12-01 00:00:00FR23068_NO2_A              3               FR23068_NO2   \n",
      "2  2023-12-01 00:00:00FR23070_NO2_A              3               FR23070_NO2   \n",
      "3  2023-12-01 00:00:00FR23075_NO2_A              3               FR23075_NO2   \n",
      "4  2023-12-01 00:00:00FR23078_NO2_A              3               FR23078_NO2   \n",
      "\n",
      "  code_station               nom_station               nom_commune  \\\n",
      "0      FR23003              LA MEGRETAIS                    Donges   \n",
      "1      FR23068                   FROSSAY                   Frossay   \n",
      "2      FR23070  SAINT ETIENNE DE MONTLUC  Saint-Etienne-De-Montluc   \n",
      "3      FR23075               JULES VERNE                   Trignac   \n",
      "4      FR23078             SAINT EXUPERY                    Cholet   \n",
      "\n",
      "   code_commune  departement_code   departement_nom  code_zone_affichage  \\\n",
      "0         44052                44  Loire-Atlantique                    3   \n",
      "1         44061                44  Loire-Atlantique                    3   \n",
      "2         44158                44  Loire-Atlantique                    3   \n",
      "3         44210                44  Loire-Atlantique                    3   \n",
      "4         49099                49    Maine-et-Loire                    4   \n",
      "\n",
      "          date_heure_tu           date_heure_local  valeur_originale  valeur  \\\n",
      "0  2023-12-01T00:00:00Z  2023-12-01T01:00:00+01:00          5.181862     5.2   \n",
      "1  2023-12-01T00:00:00Z  2023-12-01T01:00:00+01:00          4.513369     4.5   \n",
      "2  2023-12-01T00:00:00Z  2023-12-01T01:00:00+01:00          7.214065     7.2   \n",
      "3  2023-12-01T00:00:00Z  2023-12-01T01:00:00+01:00          8.705838     8.7   \n",
      "4  2023-12-01T00:00:00Z  2023-12-01T01:00:00+01:00          8.538575     8.5   \n",
      "\n",
      "   validite code_configuration_de_mesure  \n",
      "0      True                FR23003_NO2_A  \n",
      "1      True                FR23068_NO2_A  \n",
      "2      True                FR23070_NO2_A  \n",
      "3      True                FR23075_NO2_A  \n",
      "4      True                FR23078_NO2_A  \n",
      "id                               object\n",
      "code_polluant                     int64\n",
      "code_point_de_prelevement        object\n",
      "code_station                     object\n",
      "nom_station                      object\n",
      "nom_commune                      object\n",
      "code_commune                      int64\n",
      "departement_code                  int64\n",
      "departement_nom                  object\n",
      "code_zone_affichage               int64\n",
      "date_heure_tu                    object\n",
      "date_heure_local                 object\n",
      "valeur_originale                float64\n",
      "valeur                          float64\n",
      "validite                           bool\n",
      "code_configuration_de_mesure     object\n",
      "dtype: object\n"
     ]
    }
   ],
   "source": [
    "# Importer la fonction depuis le fichier Python\n",
    "from NO2 import fetch_and_process_no2_data\n",
    "\n",
    "# Utilisation de la fonction importée\n",
    "dfNO2 = fetch_and_process_no2_data()\n",
    "\n",
    "# Vérifier si le DataFrame a été correctement récupéré et traité\n",
    "if dfNO2 is not None:\n",
    "    # Afficher les premières lignes du DataFrame dfNO2 pour vérifier les modifications\n",
    "    print(dfNO2.head())\n",
    "\n",
    "    # Afficher les types de colonnes pour vérifier les conversions\n",
    "    print(dfNO2.dtypes)\n"
   ]
  },
  {
   "cell_type": "code",
   "outputs": [],
   "source": [],
   "metadata": {
    "collapsed": false
   },
   "id": "bb348e53b6596e7c"
  }
 ],
 "metadata": {
  "kernelspec": {
   "display_name": "Python 3",
   "language": "python",
   "name": "python3"
  },
  "language_info": {
   "codemirror_mode": {
    "name": "ipython",
    "version": 2
   },
   "file_extension": ".py",
   "mimetype": "text/x-python",
   "name": "python",
   "nbconvert_exporter": "python",
   "pygments_lexer": "ipython2",
   "version": "2.7.6"
  }
 },
 "nbformat": 4,
 "nbformat_minor": 5
}
