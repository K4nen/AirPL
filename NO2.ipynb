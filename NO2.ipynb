{
 "cells": [
  {
   "cell_type": "markdown",
   "source": [
    "# Pour le polluant NO2"
   ],
   "metadata": {
    "collapsed": false
   },
   "id": "353166e0272fa0e3"
  },
  {
   "cell_type": "markdown",
   "source": [
    "### On importe les bibliothèques"
   ],
   "metadata": {
    "collapsed": false
   },
   "id": "348cd51d338d3558"
  },
  {
   "cell_type": "code",
   "id": "initial_id",
   "metadata": {
    "collapsed": true,
    "ExecuteTime": {
     "end_time": "2024-05-25T15:27:16.097999Z",
     "start_time": "2024-05-25T15:27:15.812291Z"
    }
   },
   "source": [
    "import requests\n",
    "import pandas as pd\n",
    "import matplotlib.pyplot as plt\n",
    "import seaborn as sns"
   ],
   "execution_count": 3,
   "outputs": []
  },
  {
   "cell_type": "markdown",
   "source": [
    "### Conversion des données en DataFrame"
   ],
   "metadata": {
    "collapsed": false
   },
   "id": "61723d237af47364"
  },
  {
   "cell_type": "code",
   "source": [
    "\n",
    "# URL de base\n",
    "url = \"https://data.airpl.org/api/v1/mesure/horaire/\"\n",
    "\n",
    "# Paramètres de base de la requête\n",
    "base_params = {\n",
    "    \"code_configuration_de_mesure__code_point_de_prelevement__code_polluant\": \"03\",\n",
    "    \"date_heure_tu__range\": \"2024-1-1,2024-3-31 23:00:00\",\n",
    "    \"export\": \"json\"\n",
    "}\n",
    "# Limite de résultats par requête\n",
    "limit = 1000\n",
    "offset = 0\n",
    "\n",
    "# DataFrame pour stocker tous les résultats\n",
    "dfNO2 = pd.DataFrame()\n",
    "\n",
    "while True:\n",
    "    # Mettre à jour les paramètres avec la limite et l'offset\n",
    "    params = base_params.copy()\n",
    "    params.update({\n",
    "        \"limit\": limit,\n",
    "        \"offset\": offset\n",
    "    })\n",
    "    \n",
    "    # Récupérer les données\n",
    "    response = requests.get(url, params=params)\n",
    "    \n",
    "    if response.status_code == 200:\n",
    "        data = response.json()\n",
    "        df_results = pd.DataFrame(data['results'])  # Adapter selon la structure des données JSON\n",
    "        \n",
    "        # Ajouter les résultats au DataFrame principal\n",
    "        dfNO2 = pd.concat([dfNO2, df_results], ignore_index=True)\n",
    "        \n",
    "        # Vérifier si le nombre de résultats récupérés est inférieur à la limite\n",
    "        if len(df_results) < limit:\n",
    "            break  # Arrêter la boucle si tous les enregistrements ont été récupérés\n",
    "        \n",
    "        # Mettre à jour l'offset pour la prochaine itération\n",
    "        offset += limit\n",
    "    else:\n",
    "        print(f\"Erreur {response.status_code}: {response.text}\")\n",
    "        break\n",
    "\n",
    "print(f\"Total records retrieved: {len(dfNO2)}\")\n",
    "\n",
    "# Sauvegarder le DataFrame pour utilisation ultérieure\n",
    "dfNO2.to_pickle('PMNO2.pkl')\n",
    "\n",
    "# Afficher les premières lignes du DataFrame\n",
    "print(dfNO2.head())\n"
   ],
   "metadata": {
    "collapsed": false,
    "ExecuteTime": {
     "end_time": "2024-05-25T15:28:46.376431Z",
     "start_time": "2024-05-25T15:27:48.211404Z"
    }
   },
   "id": "84f8fc912f8b0565",
   "execution_count": 6,
   "outputs": []
  },
  {
   "cell_type": "code",
   "source": [
    "# Charger le DataFrame depuis le fichier sauvegardé\n",
    "dfNO2 = pd.read_pickle('NO2.pkl')\n",
    "\n",
    "# Afficher les types de chaque colonne\n",
    "print(dfNO2.dtypes)"
   ],
   "metadata": {
    "collapsed": false,
    "ExecuteTime": {
     "end_time": "2024-05-25T15:29:00.042691Z",
     "start_time": "2024-05-25T15:29:00.012041Z"
    }
   },
   "id": "498ba4a7e195fc32",
   "execution_count": 7,
   "outputs": []
  },
  {
   "cell_type": "code",
   "source": [
    "print(dfNO2.head(10))"
   ],
   "metadata": {
    "collapsed": false,
    "ExecuteTime": {
     "end_time": "2024-05-25T15:29:00.327006Z",
     "start_time": "2024-05-25T15:29:00.321898Z"
    }
   },
   "id": "e4cef4f250226280",
   "execution_count": 8,
   "outputs": []
  },
  {
   "cell_type": "markdown",
   "source": [
    "## Analyse et correction du dataset"
   ],
   "metadata": {
    "collapsed": false
   },
   "id": "f8ea99280a64c4ca"
  },
  {
   "cell_type": "markdown",
   "source": [
    "### Types et valeurs manquantes par variable"
   ],
   "metadata": {
    "collapsed": false
   },
   "id": "e4c76cc07504899"
  },
  {
   "cell_type": "code",
   "source": [
    "dfNO2.shape"
   ],
   "metadata": {
    "collapsed": false,
    "ExecuteTime": {
     "end_time": "2024-05-25T15:29:01.249357Z",
     "start_time": "2024-05-25T15:29:01.245477Z"
    }
   },
   "id": "c0d14c986313d6e0",
   "execution_count": 9,
   "outputs": []
  },
  {
   "cell_type": "code",
   "source": [
    "dfNO2.info"
   ],
   "metadata": {
    "collapsed": false,
    "ExecuteTime": {
     "end_time": "2024-05-25T15:29:01.600649Z",
     "start_time": "2024-05-25T15:29:01.594762Z"
    }
   },
   "id": "ae66156f8589bbe3",
   "execution_count": 10,
   "outputs": []
  },
  {
   "cell_type": "code",
   "source": [
    "dfNO2.isnull().sum()"
   ],
   "metadata": {
    "collapsed": false,
    "ExecuteTime": {
     "end_time": "2024-05-25T15:29:01.938104Z",
     "start_time": "2024-05-25T15:29:01.933317Z"
    }
   },
   "id": "7b25138320a76cfd",
   "execution_count": 11,
   "outputs": []
  },
  {
   "cell_type": "markdown",
   "source": [
    "Observations : \n",
    "- On remarque que pour les colonnes \"valeur_originale\" et \"valeur\" on a quelques lignes vides (23), mais aucune colonne entièrement vide"
   ],
   "metadata": {
    "collapsed": false
   },
   "id": "6e8dcb5ac91d049a"
  },
  {
   "cell_type": "markdown",
   "source": [
    "## Visualiser les différentes données de chaque colonne"
   ],
   "metadata": {
    "collapsed": false
   },
   "id": "7943058a84b0caa0"
  },
  {
   "cell_type": "markdown",
   "source": [
    "### Pour les colonnes de type float64"
   ],
   "metadata": {
    "collapsed": false
   },
   "id": "79e63ecdb62e5ee4"
  },
  {
   "cell_type": "code",
   "source": [
    "for col in dfNO2.select_dtypes('float64'):\n",
    "    print(f'{col :-<20} {dfNO2[col].unique()}')"
   ],
   "metadata": {
    "collapsed": false,
    "ExecuteTime": {
     "end_time": "2024-05-25T15:29:03.621685Z",
     "start_time": "2024-05-25T15:29:03.615916Z"
    }
   },
   "id": "3898db8b335f91a7",
   "execution_count": 12,
   "outputs": []
  },
  {
   "cell_type": "code",
   "source": [
    "for col in dfNO2.select_dtypes('int64'):\n",
    "    print(f'{col :-<20} {dfNO2[col].unique()}')"
   ],
   "metadata": {
    "collapsed": false,
    "ExecuteTime": {
     "end_time": "2024-05-25T15:29:03.963830Z",
     "start_time": "2024-05-25T15:29:03.960325Z"
    }
   },
   "id": "72ea757bdf39982f",
   "execution_count": 13,
   "outputs": []
  },
  {
   "cell_type": "code",
   "source": [
    "for col in dfNO2.select_dtypes('object'):\n",
    "    print(f'{col :-<20} {dfNO2[col].unique()}')"
   ],
   "metadata": {
    "collapsed": false,
    "ExecuteTime": {
     "end_time": "2024-05-25T15:29:04.166967Z",
     "start_time": "2024-05-25T15:29:04.160236Z"
    }
   },
   "id": "f0519801aba435cf",
   "execution_count": 14,
   "outputs": []
  },
  {
   "cell_type": "markdown",
   "source": [
    "Observations : \n",
    "- on remarque que pour les colonnes de type float64, pour les colonnes \"valeur_originale\" et \"valeur\", des valeurs ne sont pas correctes car il y à une présence de \"nan\" et \"-999.\".\n",
    "- Nous allons donc supprimer les lignes ou ces dernières sont présentes, et donc supprimer toutes les valeurs qui seront négatives pour englober.\n",
    "\n",
    "Certaines colonnes ne semblent pas être du bon types, il faut donc les changer : \n",
    "- code_polluant : object --> int64\n",
    "- code_commune : object --> int64\n",
    "- departement_code : object --> int64"
   ],
   "metadata": {
    "collapsed": false
   },
   "id": "dca18c6c24774c07"
  },
  {
   "cell_type": "markdown",
   "source": [
    "### Supression des valeurs \"nan\" et \"-999\" pour les colonnes \"valeur_originale\" et \"valeur\""
   ],
   "metadata": {
    "collapsed": false
   },
   "id": "b9a9572bcb8e14f0"
  },
  {
   "cell_type": "code",
   "source": [
    "# Assurez-vous que dfNO2 est bien chargé et nettoyé\n",
    "\n",
    "# Supprimer les lignes comportant des valeurs \"NaN\" dans les colonnes \"valeur\" et \"valeur_originale\"\n",
    "dfNO2.dropna(subset=['valeur', 'valeur_originale'], inplace=True)\n",
    "\n",
    "# Supprimer les lignes comportant des valeurs négatives dans les colonnes \"valeur\" et \"valeur_originale\"\n",
    "dfNO2 = dfNO2[(dfNO2['valeur'] >= 0) & (dfNO2['valeur_originale'] >= 0)]\n",
    "\n",
    "# Afficher les premières lignes du DataFrame pour vérifier le nettoyage\n",
    "print(dfNO2.head())\n"
   ],
   "metadata": {
    "collapsed": false,
    "ExecuteTime": {
     "end_time": "2024-05-25T15:29:05.149345Z",
     "start_time": "2024-05-25T15:29:05.143301Z"
    }
   },
   "id": "b8c6aa6d7e23aa10",
   "execution_count": 15,
   "outputs": []
  },
  {
   "cell_type": "code",
   "source": [
    "for col in dfNO2.select_dtypes('float64'):\n",
    "    print(f'{col :-<20} {dfNO2[col].unique()}')"
   ],
   "metadata": {
    "collapsed": false,
    "ExecuteTime": {
     "end_time": "2024-05-25T15:29:05.645300Z",
     "start_time": "2024-05-25T15:29:05.638625Z"
    }
   },
   "id": "6759dd9e1ea8a0d7",
   "execution_count": 16,
   "outputs": []
  },
  {
   "cell_type": "markdown",
   "source": [
    "### Changement de type pour les colonnes : \n",
    "- code_polluant : object --> int64\n",
    "- code_commune : object --> int64\n",
    "- departement_code : object --> int64"
   ],
   "metadata": {
    "collapsed": false
   },
   "id": "e61dc39930c32124"
  },
  {
   "cell_type": "code",
   "source": [
    "# Vérifier si les colonnes existent dans le DataFrame\n",
    "colonnes_a_convertir = ['code_commune', 'departement_code', 'code_polluant']\n",
    "\n",
    "# Convertir les colonnes en int64\n",
    "for col in colonnes_a_convertir:\n",
    "    if col in dfNO2.columns:\n",
    "        dfNO2[col] = dfNO2[col].astype('int64')\n",
    "\n",
    "# Afficher les types de colonnes pour vérifier les conversions\n",
    "print(dfNO2.dtypes)"
   ],
   "metadata": {
    "collapsed": false,
    "ExecuteTime": {
     "end_time": "2024-05-25T15:29:06.262882Z",
     "start_time": "2024-05-25T15:29:06.258730Z"
    }
   },
   "id": "afacc5e9188b059c",
   "execution_count": 17,
   "outputs": []
  },
  {
   "metadata": {
    "ExecuteTime": {
     "end_time": "2024-05-25T15:29:06.731890Z",
     "start_time": "2024-05-25T15:29:06.727551Z"
    }
   },
   "cell_type": "code",
   "source": [
    "from unidecode import unidecode\n",
    "# Convertir les valeurs de la colonne 'nom_commune' en minuscules et supprimer les accents\n",
    "dfNO2['nom_commune'] = dfNO2['nom_commune'].apply(lambda x: unidecode(x).lower())"
   ],
   "id": "c30f2ef176552112",
   "execution_count": 18,
   "outputs": []
  }
 ],
 "metadata": {
  "kernelspec": {
   "display_name": "Python 3",
   "language": "python",
   "name": "python3"
  },
  "language_info": {
   "codemirror_mode": {
    "name": "ipython",
    "version": 2
   },
   "file_extension": ".py",
   "mimetype": "text/x-python",
   "name": "python",
   "nbconvert_exporter": "python",
   "pygments_lexer": "ipython2",
   "version": "2.7.6"
  }
 },
 "nbformat": 4,
 "nbformat_minor": 5
}
