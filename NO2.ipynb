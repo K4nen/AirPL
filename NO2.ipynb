{
 "cells": [
  {
   "cell_type": "markdown",
   "source": [
    "# Pour le polluant NO2"
   ],
   "metadata": {
    "collapsed": false
   },
   "id": "353166e0272fa0e3"
  },
  {
   "cell_type": "markdown",
   "source": [
    "### On importe les bibliothèques"
   ],
   "metadata": {
    "collapsed": false
   },
   "id": "348cd51d338d3558"
  },
  {
   "cell_type": "code",
   "execution_count": 4,
   "id": "initial_id",
   "metadata": {
    "collapsed": true,
    "ExecuteTime": {
     "end_time": "2024-05-15T08:08:32.163680Z",
     "start_time": "2024-05-15T08:08:32.146141Z"
    }
   },
   "outputs": [],
   "source": [
    "import requests\n",
    "import pandas as pd\n",
    "import matplotlib.pyplot as plt\n",
    "import seaborn as sns"
   ]
  },
  {
   "cell_type": "markdown",
   "source": [
    "### Conversion des données en DataFrame"
   ],
   "metadata": {
    "collapsed": false
   },
   "id": "61723d237af47364"
  },
  {
   "cell_type": "code",
   "outputs": [],
   "source": [
    "import requests\n",
    "import pandas as pd\n",
    "\n",
    "# Récupérer les données\n",
    "url = \"https://data.airpl.org/api/v1/mesure/journaliere/\"\n",
    "params = {\n",
    "    \"code_configuration_de_mesure__code_point_de_prelevement__code_polluant\": \"03\",\n",
    "    \"date_heure_tu__range\": \"2024-3-1,2024-3-31\",\n",
    "    \"code_configuration_de_mesure__code_point_de_prelevement__code_station__code_commune__code_departement__in\": \"44,49,53,72,85\",\n",
    "    \"export\": \"json\"\n",
    "}\n",
    "\n",
    "response = requests.get(url, params=params)\n",
    "\n",
    "if response.status_code == 200:\n",
    "    data = response.json()\n",
    "    dfNO2 = pd.DataFrame(data['results'])  # Adapter selon la structure des données JSON\n",
    "\n",
    "    # Sauvegarder le DataFrame pour utilisation ultérieure\n",
    "    dfNO2.to_pickle('NO2.pkl')\n",
    "else:\n",
    "    print(f\"Erreur {response.status_code}: {response.text}\")\n"
   ],
   "metadata": {
    "collapsed": false,
    "ExecuteTime": {
     "end_time": "2024-05-15T08:08:39.174968Z",
     "start_time": "2024-05-15T08:08:32.169409Z"
    }
   },
   "id": "84f8fc912f8b0565",
   "execution_count": 5
  },
  {
   "cell_type": "code",
   "outputs": [
    {
     "name": "stdout",
     "output_type": "stream",
     "text": [
      "id                               object\n",
      "code_polluant                    object\n",
      "code_point_de_prelevement        object\n",
      "code_station                     object\n",
      "nom_station                      object\n",
      "nom_commune                      object\n",
      "code_commune                     object\n",
      "departement_code                 object\n",
      "departement_nom                  object\n",
      "code_zone_affichage               int64\n",
      "date_heure_tu                    object\n",
      "date_heure_local                 object\n",
      "valeur_originale                float64\n",
      "valeur                          float64\n",
      "validite                           bool\n",
      "code_configuration_de_mesure     object\n",
      "dtype: object\n"
     ]
    }
   ],
   "source": [
    "# Charger le DataFrame depuis le fichier sauvegardé\n",
    "dfNO2 = pd.read_pickle('NO2.pkl')\n",
    "\n",
    "# Afficher les types de chaque colonne\n",
    "print(dfNO2.dtypes)"
   ],
   "metadata": {
    "collapsed": false,
    "ExecuteTime": {
     "end_time": "2024-05-15T08:08:39.179269Z",
     "start_time": "2024-05-15T08:08:39.175591Z"
    }
   },
   "id": "498ba4a7e195fc32",
   "execution_count": 6
  },
  {
   "cell_type": "code",
   "outputs": [
    {
     "name": "stdout",
     "output_type": "stream",
     "text": [
      "                                 id code_polluant code_point_de_prelevement  \\\n",
      "0  2024-03-31 00:00:00FR23003_NO2_A            03               FR23003_NO2   \n",
      "1  2024-03-31 00:00:00FR23068_NO2_A            03               FR23068_NO2   \n",
      "2  2024-03-31 00:00:00FR23070_NO2_A            03               FR23070_NO2   \n",
      "3  2024-03-31 00:00:00FR23075_NO2_A            03               FR23075_NO2   \n",
      "4  2024-03-31 00:00:00FR23078_NO2_A            03               FR23078_NO2   \n",
      "5  2024-03-31 00:00:00FR23107_NO2_A            03               FR23107_NO2   \n",
      "6  2024-03-31 00:00:00FR23110_NO2_A            03               FR23110_NO2   \n",
      "7  2024-03-31 00:00:00FR23120_NO2_A            03               FR23120_NO2   \n",
      "8  2024-03-31 00:00:00FR23123_NO2_A            03               FR23123_NO2   \n",
      "9  2024-03-31 00:00:00FR23124_NO2_A            03               FR23124_NO2   \n",
      "\n",
      "  code_station               nom_station               nom_commune  \\\n",
      "0      FR23003              LA MEGRETAIS                    Donges   \n",
      "1      FR23068                   FROSSAY                   Frossay   \n",
      "2      FR23070  SAINT ETIENNE DE MONTLUC  Saint-Etienne-De-Montluc   \n",
      "3      FR23075               JULES VERNE                   Trignac   \n",
      "4      FR23078             SAINT EXUPERY                    Cholet   \n",
      "5      FR23107            LA CHAUVINIERE                    Nantes   \n",
      "6      FR23110                 LEON BLUM             Saint-Nazaire   \n",
      "7      FR23120                BEAUX ARTS                    Angers   \n",
      "8      FR23123                  MAZAGRAN                     Laval   \n",
      "9      FR23124               LA TARDIERE               La Tardière   \n",
      "\n",
      "  code_commune departement_code   departement_nom  code_zone_affichage  \\\n",
      "0        44052               44  Loire-Atlantique                    3   \n",
      "1        44061               44  Loire-Atlantique                    3   \n",
      "2        44158               44  Loire-Atlantique                    3   \n",
      "3        44210               44  Loire-Atlantique                    3   \n",
      "4        49099               49    Maine-et-Loire                    4   \n",
      "5        44109               44  Loire-Atlantique                    1   \n",
      "6        44184               44  Loire-Atlantique                    2   \n",
      "7        49007               49    Maine-et-Loire                    5   \n",
      "8        53130               53           Mayenne                    6   \n",
      "9        85289               85            Vendée                   13   \n",
      "\n",
      "          date_heure_tu           date_heure_local  valeur_originale  valeur  \\\n",
      "0  2024-03-31T00:00:00Z  2024-03-31T01:00:00+01:00          1.144792     1.1   \n",
      "1  2024-03-31T00:00:00Z  2024-03-31T01:00:00+01:00          2.047917     2.0   \n",
      "2  2024-03-31T00:00:00Z  2024-03-31T01:00:00+01:00          1.125000     1.1   \n",
      "3  2024-03-31T00:00:00Z  2024-03-31T01:00:00+01:00          3.898958     3.9   \n",
      "4  2024-03-31T00:00:00Z  2024-03-31T01:00:00+01:00          4.793750     4.8   \n",
      "5  2024-03-31T00:00:00Z  2024-03-31T01:00:00+01:00          6.714583     6.7   \n",
      "6  2024-03-31T00:00:00Z  2024-03-31T01:00:00+01:00          1.846875     1.8   \n",
      "7  2024-03-31T00:00:00Z  2024-03-31T01:00:00+01:00          7.904167     7.9   \n",
      "8  2024-03-31T00:00:00Z  2024-03-31T01:00:00+01:00          5.896875     5.9   \n",
      "9  2024-03-31T00:00:00Z  2024-03-31T01:00:00+01:00          1.522917     1.5   \n",
      "\n",
      "   validite code_configuration_de_mesure  \n",
      "0      True                FR23003_NO2_A  \n",
      "1      True                FR23068_NO2_A  \n",
      "2      True                FR23070_NO2_A  \n",
      "3      True                FR23075_NO2_A  \n",
      "4      True                FR23078_NO2_A  \n",
      "5      True                FR23107_NO2_A  \n",
      "6      True                FR23110_NO2_A  \n",
      "7      True                FR23120_NO2_A  \n",
      "8      True                FR23123_NO2_A  \n",
      "9      True                FR23124_NO2_A  \n"
     ]
    }
   ],
   "source": [
    "print(dfNO2.head(10))"
   ],
   "metadata": {
    "collapsed": false,
    "ExecuteTime": {
     "end_time": "2024-05-15T08:08:39.187499Z",
     "start_time": "2024-05-15T08:08:39.184616Z"
    }
   },
   "id": "e4cef4f250226280",
   "execution_count": 7
  },
  {
   "cell_type": "markdown",
   "source": [
    "## Analyse et correction du dataset"
   ],
   "metadata": {
    "collapsed": false
   },
   "id": "f8ea99280a64c4ca"
  },
  {
   "cell_type": "markdown",
   "source": [
    "### Types et valeurs manquantes par variable"
   ],
   "metadata": {
    "collapsed": false
   },
   "id": "e4c76cc07504899"
  },
  {
   "cell_type": "code",
   "outputs": [
    {
     "data": {
      "text/plain": "(713, 16)"
     },
     "execution_count": 8,
     "metadata": {},
     "output_type": "execute_result"
    }
   ],
   "source": [
    "dfNO2.shape"
   ],
   "metadata": {
    "collapsed": false,
    "ExecuteTime": {
     "end_time": "2024-05-15T08:08:39.192749Z",
     "start_time": "2024-05-15T08:08:39.190516Z"
    }
   },
   "id": "c0d14c986313d6e0",
   "execution_count": 8
  },
  {
   "cell_type": "code",
   "outputs": [
    {
     "data": {
      "text/plain": "<bound method DataFrame.info of                                    id code_polluant code_point_de_prelevement  \\\n0    2024-03-31 00:00:00FR23003_NO2_A            03               FR23003_NO2   \n1    2024-03-31 00:00:00FR23068_NO2_A            03               FR23068_NO2   \n2    2024-03-31 00:00:00FR23070_NO2_A            03               FR23070_NO2   \n3    2024-03-31 00:00:00FR23075_NO2_A            03               FR23075_NO2   \n4    2024-03-31 00:00:00FR23078_NO2_A            03               FR23078_NO2   \n..                                ...           ...                       ...   \n708  2024-03-01 00:00:00FR23239_NO2_A            03               FR23239_NO2   \n709  2024-03-01 00:00:00FR23242_NO2_1            03               FR23242_NO2   \n710  2024-03-01 00:00:00FR23249_NO2_A            03               FR23249_NO2   \n711  2024-03-01 00:00:00FR23251_NO2_1            03               FR23251_NO2   \n712  2024-03-01 00:00:00FR23252_NO2_1            03               FR23252_NO2   \n\n    code_station               nom_station               nom_commune  \\\n0        FR23003              LA MEGRETAIS                    Donges   \n1        FR23068                   FROSSAY                   Frossay   \n2        FR23070  SAINT ETIENNE DE MONTLUC  Saint-Etienne-De-Montluc   \n3        FR23075               JULES VERNE                   Trignac   \n4        FR23078             SAINT EXUPERY                    Cholet   \n..           ...                       ...                       ...   \n708      FR23239                LES COUETS                Bouguenais   \n709      FR23242                  ROI RENE                    Angers   \n710      FR23249                     CAMEE       Montoir-De-Bretagne   \n711      FR23251           FRERES GONCOURT                    Nantes   \n712      FR23252            RUE DE LA PAIX                     Laval   \n\n    code_commune departement_code   departement_nom  code_zone_affichage  \\\n0          44052               44  Loire-Atlantique                    3   \n1          44061               44  Loire-Atlantique                    3   \n2          44158               44  Loire-Atlantique                    3   \n3          44210               44  Loire-Atlantique                    3   \n4          49099               49    Maine-et-Loire                    4   \n..           ...              ...               ...                  ...   \n708        44020               44  Loire-Atlantique                    1   \n709        49007               49    Maine-et-Loire                    5   \n710        44103               44  Loire-Atlantique                    3   \n711        44109               44  Loire-Atlantique                    1   \n712        53130               53           Mayenne                    6   \n\n            date_heure_tu           date_heure_local  valeur_originale  \\\n0    2024-03-31T00:00:00Z  2024-03-31T01:00:00+01:00          1.144792   \n1    2024-03-31T00:00:00Z  2024-03-31T01:00:00+01:00          2.047917   \n2    2024-03-31T00:00:00Z  2024-03-31T01:00:00+01:00          1.125000   \n3    2024-03-31T00:00:00Z  2024-03-31T01:00:00+01:00          3.898958   \n4    2024-03-31T00:00:00Z  2024-03-31T01:00:00+01:00          4.793750   \n..                    ...                        ...               ...   \n708  2024-03-01T00:00:00Z  2024-03-01T01:00:00+01:00          6.628125   \n709  2024-03-01T00:00:00Z  2024-03-01T01:00:00+01:00         16.620834   \n710  2024-03-01T00:00:00Z  2024-03-01T01:00:00+01:00          4.531250   \n711  2024-03-01T00:00:00Z  2024-03-01T01:00:00+01:00         32.326042   \n712  2024-03-01T00:00:00Z  2024-03-01T01:00:00+01:00         14.559375   \n\n     valeur  validite code_configuration_de_mesure  \n0       1.1      True                FR23003_NO2_A  \n1       2.0      True                FR23068_NO2_A  \n2       1.1      True                FR23070_NO2_A  \n3       3.9      True                FR23075_NO2_A  \n4       4.8      True                FR23078_NO2_A  \n..      ...       ...                          ...  \n708     6.6      True                FR23239_NO2_A  \n709    17.0      True                FR23242_NO2_1  \n710     4.5      True                FR23249_NO2_A  \n711    32.0      True                FR23251_NO2_1  \n712    15.0      True                FR23252_NO2_1  \n\n[713 rows x 16 columns]>"
     },
     "execution_count": 9,
     "metadata": {},
     "output_type": "execute_result"
    }
   ],
   "source": [
    "dfNO2.info"
   ],
   "metadata": {
    "collapsed": false,
    "ExecuteTime": {
     "end_time": "2024-05-15T08:08:39.233623Z",
     "start_time": "2024-05-15T08:08:39.196084Z"
    }
   },
   "id": "ae66156f8589bbe3",
   "execution_count": 9
  },
  {
   "cell_type": "code",
   "outputs": [
    {
     "data": {
      "text/plain": "id                              0\ncode_polluant                   0\ncode_point_de_prelevement       0\ncode_station                    0\nnom_station                     0\nnom_commune                     0\ncode_commune                    0\ndepartement_code                0\ndepartement_nom                 0\ncode_zone_affichage             0\ndate_heure_tu                   0\ndate_heure_local                0\nvaleur_originale                6\nvaleur                          6\nvalidite                        0\ncode_configuration_de_mesure    0\ndtype: int64"
     },
     "execution_count": 10,
     "metadata": {},
     "output_type": "execute_result"
    }
   ],
   "source": [
    "dfNO2.isnull().sum()"
   ],
   "metadata": {
    "collapsed": false,
    "ExecuteTime": {
     "end_time": "2024-05-15T08:08:39.233948Z",
     "start_time": "2024-05-15T08:08:39.199861Z"
    }
   },
   "id": "7b25138320a76cfd",
   "execution_count": 10
  },
  {
   "cell_type": "markdown",
   "source": [
    "Observations : \n",
    "- On remarque que pour les colonnes \"valeur_originale\" et \"valeur\" on a quelques lignes vides (6), mais aucune colonne entièrement vide\n",
    "- Les types des différentes colonnes semblent cohérant par rapport à ce qu'elles affichent"
   ],
   "metadata": {
    "collapsed": false
   },
   "id": "6e8dcb5ac91d049a"
  },
  {
   "cell_type": "markdown",
   "source": [],
   "metadata": {
    "collapsed": false
   },
   "id": "79e63ecdb62e5ee4"
  },
  {
   "cell_type": "markdown",
   "source": [],
   "metadata": {
    "collapsed": false
   },
   "id": "35eb7081141f6a18"
  }
 ],
 "metadata": {
  "kernelspec": {
   "display_name": "Python 3",
   "language": "python",
   "name": "python3"
  },
  "language_info": {
   "codemirror_mode": {
    "name": "ipython",
    "version": 2
   },
   "file_extension": ".py",
   "mimetype": "text/x-python",
   "name": "python",
   "nbconvert_exporter": "python",
   "pygments_lexer": "ipython2",
   "version": "2.7.6"
  }
 },
 "nbformat": 4,
 "nbformat_minor": 5
}
