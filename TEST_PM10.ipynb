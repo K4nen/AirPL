{
 "cells": [
  {
   "cell_type": "markdown",
   "source": [
    "# Pour le polluant PM10"
   ],
   "metadata": {
    "collapsed": false
   },
   "id": "d51cef157e88e82e"
  },
  {
   "cell_type": "markdown",
   "source": [
    "### On importe les bibliothèques"
   ],
   "metadata": {
    "collapsed": false
   },
   "id": "a9e6d16654b73117"
  },
  {
   "cell_type": "code",
   "execution_count": 32,
   "id": "initial_id",
   "metadata": {
    "collapsed": true,
    "ExecuteTime": {
     "end_time": "2024-05-21T14:00:23.567748Z",
     "start_time": "2024-05-21T14:00:23.407043Z"
    }
   },
   "outputs": [],
   "source": [
    "import requests\n",
    "import pandas as pd\n",
    "import matplotlib.pyplot as plt\n",
    "import seaborn as sns"
   ]
  },
  {
   "cell_type": "markdown",
   "source": [
    "### Conversion des données en DataFrame"
   ],
   "metadata": {
    "collapsed": false
   },
   "id": "60663cd80dde4072"
  },
  {
   "cell_type": "code",
   "outputs": [
    {
     "name": "stdout",
     "output_type": "stream",
     "text": [
      "                                  id code_polluant code_point_de_prelevement  \\\n",
      "0  2023-12-01 00:00:00FR23003_PM10_1            24              FR23003_PM10   \n",
      "1  2023-12-01 00:00:00FR23068_PM10_4            24              FR23068_PM10   \n",
      "2  2023-12-01 00:00:00FR23070_PM10_3            24              FR23070_PM10   \n",
      "3  2023-12-01 00:00:00FR23078_PM10_2            24              FR23078_PM10   \n",
      "4  2023-12-01 00:00:00FR23107_PM10_4            24              FR23107_PM10   \n",
      "\n",
      "  code_station               nom_station               nom_commune  \\\n",
      "0      FR23003              LA MEGRETAIS                    Donges   \n",
      "1      FR23068                   FROSSAY                   Frossay   \n",
      "2      FR23070  SAINT ETIENNE DE MONTLUC  Saint-Etienne-De-Montluc   \n",
      "3      FR23078             SAINT EXUPERY                    Cholet   \n",
      "4      FR23107            LA CHAUVINIERE                    Nantes   \n",
      "\n",
      "  code_commune departement_code   departement_nom  code_zone_affichage  \\\n",
      "0        44052               44  Loire-Atlantique                    3   \n",
      "1        44061               44  Loire-Atlantique                    3   \n",
      "2        44158               44  Loire-Atlantique                    3   \n",
      "3        49099               49    Maine-et-Loire                    4   \n",
      "4        44109               44  Loire-Atlantique                    1   \n",
      "\n",
      "          date_heure_tu           date_heure_local  valeur_originale  valeur  \\\n",
      "0  2023-12-01T00:00:00Z  2023-12-01T01:00:00+01:00         14.703268    15.0   \n",
      "1  2023-12-01T00:00:00Z  2023-12-01T01:00:00+01:00         13.845743    14.0   \n",
      "2  2023-12-01T00:00:00Z  2023-12-01T01:00:00+01:00         13.207121    13.0   \n",
      "3  2023-12-01T00:00:00Z  2023-12-01T01:00:00+01:00         14.437269    14.0   \n",
      "4  2023-12-01T00:00:00Z  2023-12-01T01:00:00+01:00         14.799597    15.0   \n",
      "\n",
      "   validite code_configuration_de_mesure  \n",
      "0      True               FR23003_PM10_1  \n",
      "1      True               FR23068_PM10_4  \n",
      "2      True               FR23070_PM10_3  \n",
      "3      True               FR23078_PM10_2  \n",
      "4      True               FR23107_PM10_4  \n"
     ]
    }
   ],
   "source": [
    "# URL et paramètres de la requête\n",
    "url = \"https://data.airpl.org/api/v1/mesure/mensuelle/\"\n",
    "params = {\n",
    "    \"code_configuration_de_mesure__code_point_de_prelevement__code_polluant\": 24,\n",
    "    \"date_heure_tu__range\": \"2021-1-1,2023-12-31\",\n",
    "    \"export\": \"json\"\n",
    "}\n",
    "\n",
    "# Récupérer les données\n",
    "response = requests.get(url, params=params)\n",
    "\n",
    "if response.status_code == 200:\n",
    "    data = response.json()\n",
    "    dfPM10 = pd.DataFrame(data['results'])  # Adapter selon la structure des données JSON\n",
    "\n",
    "    # Sauvegarder le DataFrame pour utilisation ultérieure\n",
    "    dfPM10.to_pickle('PM10.pkl')\n",
    "else:\n",
    "    print(f\"Erreur {response.status_code}: {response.text}\")\n",
    "\n",
    "# Afficher les premières lignes du DataFrame\n",
    "print(dfPM10.head())\n"
   ],
   "metadata": {
    "collapsed": false,
    "ExecuteTime": {
     "end_time": "2024-05-21T14:00:24.145761Z",
     "start_time": "2024-05-21T14:00:23.572956Z"
    }
   },
   "id": "69648de17f07082b",
   "execution_count": 33
  },
  {
   "cell_type": "code",
   "outputs": [
    {
     "name": "stdout",
     "output_type": "stream",
     "text": [
      "Valeurs uniques de la colonne 'departement_nom' :\n",
      "['Loire-Atlantique' 'Maine-et-Loire' 'Mayenne' 'Vendée' 'Sarthe']\n"
     ]
    }
   ],
   "source": [
    "# Afficher les valeurs uniques de la colonne 'departement_nom'\n",
    "valeurs_uniques = dfPM10['departement_nom'].unique()\n",
    "print(\"Valeurs uniques de la colonne 'departement_nom' :\")\n",
    "print(valeurs_uniques)\n"
   ],
   "metadata": {
    "collapsed": false,
    "ExecuteTime": {
     "end_time": "2024-05-21T14:00:24.148895Z",
     "start_time": "2024-05-21T14:00:24.146562Z"
    }
   },
   "id": "bdb3b2fd47292321",
   "execution_count": 34
  },
  {
   "cell_type": "code",
   "outputs": [
    {
     "name": "stdout",
     "output_type": "stream",
     "text": [
      "Nombre de valeurs uniques dans la colonne 'departement_nom' :\n",
      "5\n"
     ]
    }
   ],
   "source": [
    "# Afficher le nombre de valeurs uniques dans la colonne 'departement_nom'\n",
    "nombre_valeurs_uniques = dfPM10['departement_nom'].nunique()\n",
    "print(\"Nombre de valeurs uniques dans la colonne 'departement_nom' :\")\n",
    "print(nombre_valeurs_uniques)\n"
   ],
   "metadata": {
    "collapsed": false,
    "ExecuteTime": {
     "end_time": "2024-05-21T14:00:24.150995Z",
     "start_time": "2024-05-21T14:00:24.148586Z"
    }
   },
   "id": "d3e005ff2a3f8eff",
   "execution_count": 35
  },
  {
   "cell_type": "code",
   "outputs": [
    {
     "data": {
      "text/plain": "<bound method DataFrame.info of                                     id code_polluant  \\\n0    2023-12-01 00:00:00FR23003_PM10_1            24   \n1    2023-12-01 00:00:00FR23068_PM10_4            24   \n2    2023-12-01 00:00:00FR23070_PM10_3            24   \n3    2023-12-01 00:00:00FR23078_PM10_2            24   \n4    2023-12-01 00:00:00FR23107_PM10_4            24   \n..                                 ...           ...   \n724  2021-01-01 00:00:00FR23188_PM10_2            24   \n725  2021-01-01 00:00:00FR23188_PM10_4            24   \n726  2021-01-01 00:00:00FR23238_PM10_A            24   \n727  2021-01-01 00:00:00FR23239_PM10_A            24   \n728  2021-01-01 00:00:00FR23249_PM10_1            24   \n\n    code_point_de_prelevement code_station               nom_station  \\\n0                FR23003_PM10      FR23003              LA MEGRETAIS   \n1                FR23068_PM10      FR23068                   FROSSAY   \n2                FR23070_PM10      FR23070  SAINT ETIENNE DE MONTLUC   \n3                FR23078_PM10      FR23078             SAINT EXUPERY   \n4                FR23107_PM10      FR23107            LA CHAUVINIERE   \n..                        ...          ...                       ...   \n724              FR23188_PM10      FR23188          CIM BOUTEILLERIE   \n725              FR23188_PM10      FR23188          CIM BOUTEILLERIE   \n726              FR23238_PM10      FR23238               TRENTEMOULT   \n727              FR23239_PM10      FR23239                LES COUETS   \n728              FR23249_PM10      FR23249                     CAMEE   \n\n                  nom_commune code_commune departement_code   departement_nom  \\\n0                      Donges        44052               44  Loire-Atlantique   \n1                     Frossay        44061               44  Loire-Atlantique   \n2    Saint-Etienne-De-Montluc        44158               44  Loire-Atlantique   \n3                      Cholet        49099               49    Maine-et-Loire   \n4                      Nantes        44109               44  Loire-Atlantique   \n..                        ...          ...              ...               ...   \n724                    Nantes        44109               44  Loire-Atlantique   \n725                    Nantes        44109               44  Loire-Atlantique   \n726                      Rezé        44143               44  Loire-Atlantique   \n727                Bouguenais        44020               44  Loire-Atlantique   \n728       Montoir-De-Bretagne        44103               44  Loire-Atlantique   \n\n     code_zone_affichage         date_heure_tu           date_heure_local  \\\n0                      3  2023-12-01T00:00:00Z  2023-12-01T01:00:00+01:00   \n1                      3  2023-12-01T00:00:00Z  2023-12-01T01:00:00+01:00   \n2                      3  2023-12-01T00:00:00Z  2023-12-01T01:00:00+01:00   \n3                      4  2023-12-01T00:00:00Z  2023-12-01T01:00:00+01:00   \n4                      1  2023-12-01T00:00:00Z  2023-12-01T01:00:00+01:00   \n..                   ...                   ...                        ...   \n724                    1  2021-01-01T00:00:00Z  2021-01-01T01:00:00+01:00   \n725                    1  2021-01-01T00:00:00Z  2021-01-01T01:00:00+01:00   \n726                    1  2021-01-01T00:00:00Z  2021-01-01T01:00:00+01:00   \n727                    1  2021-01-01T00:00:00Z  2021-01-01T01:00:00+01:00   \n728                    3  2021-01-01T00:00:00Z  2021-01-01T01:00:00+01:00   \n\n     valeur_originale  valeur  validite code_configuration_de_mesure  \n0           14.703268    15.0      True               FR23003_PM10_1  \n1           13.845743    14.0      True               FR23068_PM10_4  \n2           13.207121    13.0      True               FR23070_PM10_3  \n3           14.437269    14.0      True               FR23078_PM10_2  \n4           14.799597    15.0      True               FR23107_PM10_4  \n..                ...     ...       ...                          ...  \n724         20.639454    21.0      True               FR23188_PM10_2  \n725         20.204771    20.0      True               FR23188_PM10_4  \n726         25.923647    26.0      True               FR23238_PM10_A  \n727         25.122841    25.0      True               FR23239_PM10_A  \n728         20.633862    21.0      True               FR23249_PM10_1  \n\n[729 rows x 16 columns]>"
     },
     "execution_count": 36,
     "metadata": {},
     "output_type": "execute_result"
    }
   ],
   "source": [
    "dfPM10.info"
   ],
   "metadata": {
    "collapsed": false,
    "ExecuteTime": {
     "end_time": "2024-05-21T14:00:24.166524Z",
     "start_time": "2024-05-21T14:00:24.151403Z"
    }
   },
   "id": "2ee1ef0d440780d1",
   "execution_count": 36
  },
  {
   "cell_type": "code",
   "outputs": [
    {
     "name": "stdout",
     "output_type": "stream",
     "text": [
      "Total records retrieved: 1238\n"
     ]
    }
   ],
   "source": [
    "\n",
    "base_url = \"https://data.paysdelaloire.fr/api/explore/v2.1/catalog/datasets/12002701600563_population_pays_de_la_loire_2019_communes_epci/records\"\n",
    "limit = 100  # Nombre de résultats par page\n",
    "offset = 0  # Offset initial\n",
    "dfPopulation =  pd.DataFrame()  # Liste pour stocker tous les enregistrements\n",
    "\n",
    "while True:\n",
    "    # Construire l'URL avec le paramètre d'offset\n",
    "    url = f\"{base_url}?limit={limit}&offset={offset}\"\n",
    "\n",
    "#Appeler l'API\n",
    "    response = requests.get(url)\n",
    "\n",
    "#Vérifier si la requête a réussi\n",
    "    if response.status_code != 200:\n",
    "        print(f\"Erreur lors de l'appel de l'API: {response.status_code}\")\n",
    "        break\n",
    "\n",
    "    data = response.json()\n",
    "#Récupérer les enregistrements\n",
    "    results = data.get('results', [])\n",
    "    if results:\n",
    "        df_results = pd.json_normalize(results)\n",
    "        dfPopulation = pd.concat([dfPopulation, df_results], ignore_index=True)\n",
    "\n",
    "#Vérifier si le nombre d'enregistrements récupérés est inférieur au limite\n",
    "    if len(results) < limit:\n",
    "        break  # Arrêter la boucle si tous les enregistrements ont été récupérés\n",
    "\n",
    "#Mettre à jour l'offset pour la prochaine itération\n",
    "    offset += limit\n",
    "\n",
    "print(f\"Total records retrieved: {len(dfPopulation)}\")"
   ],
   "metadata": {
    "collapsed": false,
    "ExecuteTime": {
     "end_time": "2024-05-21T14:00:32.766858Z",
     "start_time": "2024-05-21T14:00:24.178064Z"
    }
   },
   "id": "f6d056b72393d0f5",
   "execution_count": 37
  },
  {
   "cell_type": "code",
   "outputs": [
    {
     "data": {
      "text/plain": "<bound method DataFrame.info of       code_region  nom_de_la_region code_departement code_arrondissement  \\\n0              52  Pays de la Loire               44                   3   \n1              52  Pays de la Loire               44                   2   \n2              52  Pays de la Loire               44                   3   \n3              52  Pays de la Loire               44                   2   \n4              52  Pays de la Loire               44                   3   \n...           ...               ...              ...                 ...   \n1233           52  Pays de la Loire               85                   1   \n1234           52  Pays de la Loire               85                   2   \n1235           52  Pays de la Loire               85                   1   \n1236           52  Pays de la Loire               85                   1   \n1237           52  Pays de la Loire               85                   1   \n\n     code_canton code_commune      nom_de_la_commune  population_municipale  \\\n0             09        44006                Assérac                 1790.0   \n1             21        44018                 Bouaye                 7844.0   \n2             89        44005        Chaumes-en-Retz                 6759.0   \n3             24        44047                Couëron                21372.0   \n4             02        44049             Le Croisic                 4093.0   \n...          ...          ...                    ...                    ...   \n1233          05        85265  Saint-Pierre-le-Vieux                  961.0   \n1234          03        85202          Sainte-Cécile                 1621.0   \n1235          04        85289            La Tardière                 1312.0   \n1236          04        85290                  Thiré                  570.0   \n1237          08        85297                Triaize                 1010.0   \n\n      population_comptee_a_part  population_totale  \\\n0                          32.0             1822.0   \n1                         153.0             7997.0   \n2                         109.0             6868.0   \n3                         243.0            21615.0   \n4                          54.0             4147.0   \n...                         ...                ...   \n1233                       23.0              984.0   \n1234                      106.0             1727.0   \n1235                       26.0             1338.0   \n1236                       12.0              582.0   \n1237                       15.0             1025.0   \n\n                                                   epci       departement  \\\n0     Communauté d'agglomération de la Presqu'île de...  Loire-Atlantique   \n1                Communauté Urbaine de Nantes Métropole  Loire-Atlantique   \n2                             Pornic Agglo Pays de Retz  Loire-Atlantique   \n3                Communauté Urbaine de Nantes Métropole  Loire-Atlantique   \n4     Communauté d'agglomération de la Presqu'île de...  Loire-Atlantique   \n...                                                 ...               ...   \n1233         Communauté de communes Vendée Sèvre Autise            Vendée   \n1234       Communauté de communes du Pays de Chantonnay            Vendée   \n1235  Communauté de communes du Pays de la Châtaigne...            Vendée   \n1236      Communauté de communes du Sud Vendée Littoral            Vendée   \n1237      Communauté de communes du Sud Vendée Littoral            Vendée   \n\n                  tranche_population geo_shape.type  \\\n0           Moins de 3 500 habitants        Feature   \n1            Plus de 5 000 habitants        Feature   \n2            Plus de 5 000 habitants        Feature   \n3            Plus de 5 000 habitants        Feature   \n4     Entre 3 500 et 5 000 habitants        Feature   \n...                              ...            ...   \n1233        Moins de 3 500 habitants        Feature   \n1234        Moins de 3 500 habitants        Feature   \n1235        Moins de 3 500 habitants        Feature   \n1236        Moins de 3 500 habitants        Feature   \n1237        Moins de 3 500 habitants        Feature   \n\n                         geo_shape.geometry.coordinates  \\\n0     [[[[-2.43439215, 47.41113676], [-2.43454725, 4...   \n1     [[[[-1.70367761, 47.1333299], [-1.70386036, 47...   \n2     [[[[-1.93604227, 47.10568678], [-1.93621177, 4...   \n3     [[[[-1.74771656, 47.2054141], [-1.75050718, 47...   \n4     [[[[-2.50381943, 47.28095169], [-2.50389151, 4...   \n...                                                 ...   \n1233  [[[[-0.78887016, 46.3858631], [-0.79072431, 46...   \n1234  [[[[-1.1496148, 46.71264303], [-1.14885105, 46...   \n1235  [[[[-0.73998662, 46.68778733], [-0.73900705, 4...   \n1236  [[[[-0.98067898, 46.52787515], [-0.98157778, 4...   \n1237  [[[[-1.24458099, 46.38572124], [-1.24384081, 4...   \n\n     geo_shape.geometry.type  geo_point_2d.lon  geo_point_2d.lat  geo_shape  \\\n0               MultiPolygon         -2.412810         47.438042        NaN   \n1               MultiPolygon         -1.673191         47.147637        NaN   \n2               MultiPolygon         -1.922085         47.149300        NaN   \n3               MultiPolygon         -1.730059         47.230669        NaN   \n4               MultiPolygon         -2.523454         47.292369        NaN   \n...                      ...               ...               ...        ...   \n1233            MultiPolygon         -0.743351         46.400639        NaN   \n1234            MultiPolygon         -1.121459         46.731464        NaN   \n1235            MultiPolygon         -0.690071         46.649992        NaN   \n1236            MultiPolygon         -1.007732         46.543736        NaN   \n1237            MultiPolygon         -1.199221         46.379104        NaN   \n\n      geo_point_2d  \n0              NaN  \n1              NaN  \n2              NaN  \n3              NaN  \n4              NaN  \n...            ...  \n1233           NaN  \n1234           NaN  \n1235           NaN  \n1236           NaN  \n1237           NaN  \n\n[1238 rows x 20 columns]>"
     },
     "execution_count": 38,
     "metadata": {},
     "output_type": "execute_result"
    }
   ],
   "source": [
    "dfPopulation.info"
   ],
   "metadata": {
    "collapsed": false,
    "ExecuteTime": {
     "end_time": "2024-05-21T14:00:32.784371Z",
     "start_time": "2024-05-21T14:00:32.778918Z"
    }
   },
   "id": "a6ba6d8e8f1f89d4",
   "execution_count": 38
  },
  {
   "cell_type": "code",
   "outputs": [
    {
     "data": {
      "text/plain": "code_region                          0\nnom_de_la_region                     0\ncode_departement                     0\ncode_arrondissement                  0\ncode_canton                          0\ncode_commune                         0\nnom_de_la_commune                    0\npopulation_municipale                0\npopulation_comptee_a_part            0\npopulation_totale                    0\nepci                                 9\ndepartement                          0\ntranche_population                   0\ngeo_shape.type                       8\ngeo_shape.geometry.coordinates       8\ngeo_shape.geometry.type              8\ngeo_point_2d.lon                     8\ngeo_point_2d.lat                     8\ngeo_shape                         1238\ngeo_point_2d                      1238\ndtype: int64"
     },
     "execution_count": 39,
     "metadata": {},
     "output_type": "execute_result"
    }
   ],
   "source": [
    "dfPopulation.isnull().sum()"
   ],
   "metadata": {
    "collapsed": false,
    "ExecuteTime": {
     "end_time": "2024-05-21T14:00:32.814372Z",
     "start_time": "2024-05-21T14:00:32.784705Z"
    }
   },
   "id": "1ff2a851dd4ab0f7",
   "execution_count": 39
  },
  {
   "cell_type": "markdown",
   "source": [
    "Observations : \n",
    "\n",
    "On remarque ici que les colonnes geo_shape et geo_point_2d sont vides. En effet ces deux colonnes ont des sous ensembles qui sont récuperées en étant préfixé par le nom de ces colonnes. On peut donc supprimer ces 2 colonnes qui sont entièrement vides.\n",
    "On remarque également que quelques colonnes sont vides sur une dizaine de lignes, dependant sur un total de 1238 lignes ce n'est pas significatif, on garde donc ces lignes ici.\n"
   ],
   "metadata": {
    "collapsed": false
   },
   "id": "72e869760baa9a59"
  },
  {
   "cell_type": "code",
   "outputs": [
    {
     "name": "stdout",
     "output_type": "stream",
     "text": [
      "Premières lignes de la colonne 'departement' :\n",
      "0      Loire-Atlantique\n",
      "1      Loire-Atlantique\n",
      "2      Loire-Atlantique\n",
      "3      Loire-Atlantique\n",
      "4      Loire-Atlantique\n",
      "             ...       \n",
      "195             Mayenne\n",
      "196             Mayenne\n",
      "197             Mayenne\n",
      "198             Mayenne\n",
      "199             Mayenne\n",
      "Name: departement, Length: 200, dtype: object\n"
     ]
    }
   ],
   "source": [
    "# Afficher les premières lignes de la colonne 'departement'\n",
    "print(\"Premières lignes de la colonne 'departement' :\")\n",
    "print(dfPopulation['departement'].head(200))"
   ],
   "metadata": {
    "collapsed": false,
    "ExecuteTime": {
     "end_time": "2024-05-21T14:00:32.814636Z",
     "start_time": "2024-05-21T14:00:32.787694Z"
    }
   },
   "id": "f94e6780143da52e",
   "execution_count": 40
  },
  {
   "cell_type": "code",
   "outputs": [],
   "source": [],
   "metadata": {
    "collapsed": false,
    "ExecuteTime": {
     "end_time": "2024-05-21T14:00:32.816320Z",
     "start_time": "2024-05-21T14:00:32.791668Z"
    }
   },
   "id": "9583df81fbfb7543",
   "execution_count": 40
  },
  {
   "cell_type": "markdown",
   "source": [],
   "metadata": {
    "collapsed": false
   },
   "id": "329587b4efc6e528"
  },
  {
   "cell_type": "markdown",
   "source": [
    "### Suppression des colonnes geo_shape et geo_point_2d"
   ],
   "metadata": {
    "collapsed": false
   },
   "id": "25c0c46cb070408c"
  },
  {
   "cell_type": "code",
   "outputs": [
    {
     "name": "stdout",
     "output_type": "stream",
     "text": [
      "   code_region  nom_de_la_region code_departement code_arrondissement  \\\n",
      "0           52  Pays de la Loire               44                   3   \n",
      "1           52  Pays de la Loire               44                   2   \n",
      "2           52  Pays de la Loire               44                   3   \n",
      "3           52  Pays de la Loire               44                   2   \n",
      "4           52  Pays de la Loire               44                   3   \n",
      "\n",
      "  code_canton code_commune nom_de_la_commune  population_municipale  \\\n",
      "0          09        44006           Assérac                 1790.0   \n",
      "1          21        44018            Bouaye                 7844.0   \n",
      "2          89        44005   Chaumes-en-Retz                 6759.0   \n",
      "3          24        44047           Couëron                21372.0   \n",
      "4          02        44049        Le Croisic                 4093.0   \n",
      "\n",
      "   population_comptee_a_part  population_totale  \\\n",
      "0                       32.0             1822.0   \n",
      "1                      153.0             7997.0   \n",
      "2                      109.0             6868.0   \n",
      "3                      243.0            21615.0   \n",
      "4                       54.0             4147.0   \n",
      "\n",
      "                                                epci       departement  \\\n",
      "0  Communauté d'agglomération de la Presqu'île de...  Loire-Atlantique   \n",
      "1             Communauté Urbaine de Nantes Métropole  Loire-Atlantique   \n",
      "2                          Pornic Agglo Pays de Retz  Loire-Atlantique   \n",
      "3             Communauté Urbaine de Nantes Métropole  Loire-Atlantique   \n",
      "4  Communauté d'agglomération de la Presqu'île de...  Loire-Atlantique   \n",
      "\n",
      "               tranche_population geo_shape.type  \\\n",
      "0        Moins de 3 500 habitants        Feature   \n",
      "1         Plus de 5 000 habitants        Feature   \n",
      "2         Plus de 5 000 habitants        Feature   \n",
      "3         Plus de 5 000 habitants        Feature   \n",
      "4  Entre 3 500 et 5 000 habitants        Feature   \n",
      "\n",
      "                      geo_shape.geometry.coordinates geo_shape.geometry.type  \\\n",
      "0  [[[[-2.43439215, 47.41113676], [-2.43454725, 4...            MultiPolygon   \n",
      "1  [[[[-1.70367761, 47.1333299], [-1.70386036, 47...            MultiPolygon   \n",
      "2  [[[[-1.93604227, 47.10568678], [-1.93621177, 4...            MultiPolygon   \n",
      "3  [[[[-1.74771656, 47.2054141], [-1.75050718, 47...            MultiPolygon   \n",
      "4  [[[[-2.50381943, 47.28095169], [-2.50389151, 4...            MultiPolygon   \n",
      "\n",
      "   geo_point_2d.lon  geo_point_2d.lat  \n",
      "0         -2.412810         47.438042  \n",
      "1         -1.673191         47.147637  \n",
      "2         -1.922085         47.149300  \n",
      "3         -1.730059         47.230669  \n",
      "4         -2.523454         47.292369  \n"
     ]
    }
   ],
   "source": [
    "# Suppression des colonnes 'geo_shape' et 'geo_point_2d' de dfPopulation\n",
    "dfPopulation = dfPopulation.drop(columns=['geo_shape', 'geo_point_2d'], errors='ignore')\n",
    "\n",
    "# Afficher les premières lignes du DataFrame dfPopulation pour vérifier les modifications\n",
    "print(dfPopulation.head())\n"
   ],
   "metadata": {
    "collapsed": false,
    "ExecuteTime": {
     "end_time": "2024-05-21T14:00:32.833544Z",
     "start_time": "2024-05-21T14:00:32.800378Z"
    }
   },
   "id": "c0781e6bbbf28ef5",
   "execution_count": 41
  },
  {
   "cell_type": "code",
   "outputs": [
    {
     "name": "stdout",
     "output_type": "stream",
     "text": [
      "dfMerged:\n",
      "                                  id code_polluant code_point_de_prelevement  \\\n",
      "0  2023-12-01 00:00:00FR23003_PM10_1            24              FR23003_PM10   \n",
      "1  2023-12-01 00:00:00FR23068_PM10_4            24              FR23068_PM10   \n",
      "2  2023-12-01 00:00:00FR23070_PM10_3            24              FR23070_PM10   \n",
      "3  2023-12-01 00:00:00FR23078_PM10_2            24              FR23078_PM10   \n",
      "4  2023-12-01 00:00:00FR23107_PM10_4            24              FR23107_PM10   \n",
      "\n",
      "  code_station               nom_station               nom_commune  \\\n",
      "0      FR23003              LA MEGRETAIS                    Donges   \n",
      "1      FR23068                   FROSSAY                   Frossay   \n",
      "2      FR23070  SAINT ETIENNE DE MONTLUC  Saint-Etienne-De-Montluc   \n",
      "3      FR23078             SAINT EXUPERY                    Cholet   \n",
      "4      FR23107            LA CHAUVINIERE                    Nantes   \n",
      "\n",
      "  code_commune_pm10 departement_code   departement_nom  code_zone_affichage  \\\n",
      "0             44052               44  Loire-Atlantique                    3   \n",
      "1             44061               44  Loire-Atlantique                    3   \n",
      "2             44158               44  Loire-Atlantique                    3   \n",
      "3             49099               49    Maine-et-Loire                    4   \n",
      "4             44109               44  Loire-Atlantique                    1   \n",
      "\n",
      "   ... population_comptee_a_part population_totale  \\\n",
      "0  ...                      92.0            8053.0   \n",
      "1  ...                      57.0            3278.0   \n",
      "2  ...                       NaN               NaN   \n",
      "3  ...                    1870.0           55787.0   \n",
      "4  ...                    5157.0          314503.0   \n",
      "\n",
      "                                                epci       departement  \\\n",
      "0  Communauté d'agglomération Région Nazairienne ...  Loire-Atlantique   \n",
      "1             Communauté de communes du Sud Estuaire  Loire-Atlantique   \n",
      "2                                                NaN               NaN   \n",
      "3                         Agglomération du Choletais    Maine-et-Loire   \n",
      "4             Communauté Urbaine de Nantes Métropole  Loire-Atlantique   \n",
      "\n",
      "         tranche_population geo_shape.type  \\\n",
      "0   Plus de 5 000 habitants        Feature   \n",
      "1  Moins de 3 500 habitants        Feature   \n",
      "2                       NaN            NaN   \n",
      "3   Plus de 5 000 habitants        Feature   \n",
      "4   Plus de 5 000 habitants        Feature   \n",
      "\n",
      "                      geo_shape.geometry.coordinates geo_shape.geometry.type  \\\n",
      "0  [[[[-2.14253668, 47.36743717], [-2.14163181, 4...            MultiPolygon   \n",
      "1  [[[[-1.99364322, 47.20521949], [-1.99358983, 4...            MultiPolygon   \n",
      "2                                                NaN                     NaN   \n",
      "3  [[[[-0.93411776, 47.00816446], [-0.93468162, 4...            MultiPolygon   \n",
      "4  [[[[-1.4809496, 47.22634651], [-1.48400342, 47...            MultiPolygon   \n",
      "\n",
      "  geo_point_2d.lon geo_point_2d.lat  \n",
      "0        -2.074129        47.338984  \n",
      "1        -1.933479        47.244848  \n",
      "2              NaN              NaN  \n",
      "3        -0.877500        47.045553  \n",
      "4        -1.548209        47.231934  \n",
      "\n",
      "[5 rows x 34 columns]\n"
     ]
    }
   ],
   "source": [
    "# Fusionner les deux DataFrames en utilisant les colonnes 'nom_commune' et 'nom_de_la_commune' avec une jointure externe gauche\n",
    "if 'nom_commune' in dfPM10.columns and 'nom_de_la_commune' in dfPopulation.columns:\n",
    "    dfMerged = pd.merge(dfPM10, dfPopulation, left_on='nom_commune', right_on='nom_de_la_commune', how='left', suffixes=('_pm10', '_pop'))\n",
    "    \n",
    "    # Sauvegarder le DataFrame fusionné pour utilisation ultérieure\n",
    "    dfMerged.to_pickle('MergedData.pkl')\n",
    "\n",
    "    # Afficher les premières lignes du DataFrame fusionné\n",
    "    print(\"dfMerged:\")\n",
    "    print(dfMerged.head())\n",
    "else:\n",
    "    print(\"Les colonnes de fusion 'nom_commune' et 'nom_de_la_commune' ne sont pas présentes dans les DataFrames. Vérifiez les colonnes disponibles.\")\n"
   ],
   "metadata": {
    "collapsed": false,
    "ExecuteTime": {
     "end_time": "2024-05-21T14:00:32.874033Z",
     "start_time": "2024-05-21T14:00:32.806034Z"
    }
   },
   "id": "3ffbb2c132fb74bc",
   "execution_count": 42
  },
  {
   "cell_type": "code",
   "outputs": [
    {
     "name": "stdout",
     "output_type": "stream",
     "text": [
      "Premières lignes de la colonne 'departement' :\n",
      "0      Loire-Atlantique\n",
      "1      Loire-Atlantique\n",
      "2                   NaN\n",
      "3        Maine-et-Loire\n",
      "4      Loire-Atlantique\n",
      "             ...       \n",
      "195      Maine-et-Loire\n",
      "196    Loire-Atlantique\n",
      "197    Loire-Atlantique\n",
      "198      Maine-et-Loire\n",
      "199             Mayenne\n",
      "Name: departement, Length: 200, dtype: object\n"
     ]
    }
   ],
   "source": [
    "# Afficher les premières lignes de la colonne 'departement'\n",
    "print(\"Premières lignes de la colonne 'departement' :\")\n",
    "print(dfMerged['departement'].head(200))\n"
   ],
   "metadata": {
    "collapsed": false,
    "ExecuteTime": {
     "end_time": "2024-05-21T14:00:32.884447Z",
     "start_time": "2024-05-21T14:00:32.816748Z"
    }
   },
   "id": "5a4a67d1c7dcdba1",
   "execution_count": 43
  },
  {
   "cell_type": "code",
   "outputs": [
    {
     "name": "stdout",
     "output_type": "stream",
     "text": [
      "id                                 object\n",
      "code_polluant                      object\n",
      "code_point_de_prelevement          object\n",
      "code_station                       object\n",
      "nom_station                        object\n",
      "nom_commune                        object\n",
      "code_commune_pm10                  object\n",
      "departement_code                   object\n",
      "departement_nom                    object\n",
      "code_zone_affichage                 int64\n",
      "date_heure_tu                      object\n",
      "date_heure_local                   object\n",
      "valeur_originale                  float64\n",
      "valeur                            float64\n",
      "validite                             bool\n",
      "code_configuration_de_mesure       object\n",
      "code_region                       float64\n",
      "nom_de_la_region                   object\n",
      "code_departement                   object\n",
      "code_arrondissement                object\n",
      "code_canton                        object\n",
      "code_commune_pop                   object\n",
      "nom_de_la_commune                  object\n",
      "population_municipale             float64\n",
      "population_comptee_a_part         float64\n",
      "population_totale                 float64\n",
      "epci                               object\n",
      "departement                        object\n",
      "tranche_population                 object\n",
      "geo_shape.type                     object\n",
      "geo_shape.geometry.coordinates     object\n",
      "geo_shape.geometry.type            object\n",
      "geo_point_2d.lon                  float64\n",
      "geo_point_2d.lat                  float64\n",
      "dtype: object\n"
     ]
    }
   ],
   "source": [
    "# Charger le DataFrame depuis le fichier sauvegardé\n",
    "dfPM10 = pd.read_pickle('MergedData.pkl')\n",
    "\n",
    "# Afficher les types de chaque colonne\n",
    "print(dfPM10.dtypes)\n"
   ],
   "metadata": {
    "collapsed": false,
    "ExecuteTime": {
     "end_time": "2024-05-21T14:00:32.885476Z",
     "start_time": "2024-05-21T14:00:32.818736Z"
    }
   },
   "id": "f719470f49210aa5",
   "execution_count": 44
  },
  {
   "cell_type": "markdown",
   "source": [
    "## Analyse et correction du dataset"
   ],
   "metadata": {
    "collapsed": false
   },
   "id": "38e254b9d217c078"
  },
  {
   "cell_type": "markdown",
   "source": [
    "### Types et valeurs manquantes par variable"
   ],
   "metadata": {
    "collapsed": false
   },
   "id": "9ce7f7fbf11af231"
  },
  {
   "cell_type": "code",
   "outputs": [
    {
     "data": {
      "text/plain": "(729, 34)"
     },
     "execution_count": 45,
     "metadata": {},
     "output_type": "execute_result"
    }
   ],
   "source": [
    "dfPM10.shape"
   ],
   "metadata": {
    "collapsed": false,
    "ExecuteTime": {
     "end_time": "2024-05-21T14:00:32.886436Z",
     "start_time": "2024-05-21T14:00:32.823815Z"
    }
   },
   "id": "7a303c5463714e0c",
   "execution_count": 45
  },
  {
   "cell_type": "code",
   "outputs": [
    {
     "name": "stdout",
     "output_type": "stream",
     "text": [
      "<class 'pandas.core.frame.DataFrame'>\n",
      "RangeIndex: 729 entries, 0 to 728\n",
      "Data columns (total 34 columns):\n",
      " #   Column                          Non-Null Count  Dtype  \n",
      "---  ------                          --------------  -----  \n",
      " 0   id                              729 non-null    object \n",
      " 1   code_polluant                   729 non-null    object \n",
      " 2   code_point_de_prelevement       729 non-null    object \n",
      " 3   code_station                    729 non-null    object \n",
      " 4   nom_station                     729 non-null    object \n",
      " 5   nom_commune                     729 non-null    object \n",
      " 6   code_commune_pm10               729 non-null    object \n",
      " 7   departement_code                729 non-null    object \n",
      " 8   departement_nom                 729 non-null    object \n",
      " 9   code_zone_affichage             729 non-null    int64  \n",
      " 10  date_heure_tu                   729 non-null    object \n",
      " 11  date_heure_local                729 non-null    object \n",
      " 12  valeur_originale                684 non-null    float64\n",
      " 13  valeur                          684 non-null    float64\n",
      " 14  validite                        729 non-null    bool   \n",
      " 15  code_configuration_de_mesure    729 non-null    object \n",
      " 16  code_region                     557 non-null    float64\n",
      " 17  nom_de_la_region                557 non-null    object \n",
      " 18  code_departement                557 non-null    object \n",
      " 19  code_arrondissement             557 non-null    object \n",
      " 20  code_canton                     557 non-null    object \n",
      " 21  code_commune_pop                557 non-null    object \n",
      " 22  nom_de_la_commune               557 non-null    object \n",
      " 23  population_municipale           557 non-null    float64\n",
      " 24  population_comptee_a_part       557 non-null    float64\n",
      " 25  population_totale               557 non-null    float64\n",
      " 26  epci                            557 non-null    object \n",
      " 27  departement                     557 non-null    object \n",
      " 28  tranche_population              557 non-null    object \n",
      " 29  geo_shape.type                  557 non-null    object \n",
      " 30  geo_shape.geometry.coordinates  557 non-null    object \n",
      " 31  geo_shape.geometry.type         557 non-null    object \n",
      " 32  geo_point_2d.lon                557 non-null    float64\n",
      " 33  geo_point_2d.lat                557 non-null    float64\n",
      "dtypes: bool(1), float64(8), int64(1), object(24)\n",
      "memory usage: 188.8+ KB\n"
     ]
    }
   ],
   "source": [
    "dfPM10.info()"
   ],
   "metadata": {
    "collapsed": false,
    "ExecuteTime": {
     "end_time": "2024-05-21T14:00:32.888257Z",
     "start_time": "2024-05-21T14:00:32.831967Z"
    }
   },
   "id": "1f95a7f308714bf7",
   "execution_count": 46
  },
  {
   "cell_type": "code",
   "outputs": [
    {
     "data": {
      "text/plain": "id                                  0\ncode_polluant                       0\ncode_point_de_prelevement           0\ncode_station                        0\nnom_station                         0\nnom_commune                         0\ncode_commune_pm10                   0\ndepartement_code                    0\ndepartement_nom                     0\ncode_zone_affichage                 0\ndate_heure_tu                       0\ndate_heure_local                    0\nvaleur_originale                   45\nvaleur                             45\nvalidite                            0\ncode_configuration_de_mesure        0\ncode_region                       172\nnom_de_la_region                  172\ncode_departement                  172\ncode_arrondissement               172\ncode_canton                       172\ncode_commune_pop                  172\nnom_de_la_commune                 172\npopulation_municipale             172\npopulation_comptee_a_part         172\npopulation_totale                 172\nepci                              172\ndepartement                       172\ntranche_population                172\ngeo_shape.type                    172\ngeo_shape.geometry.coordinates    172\ngeo_shape.geometry.type           172\ngeo_point_2d.lon                  172\ngeo_point_2d.lat                  172\ndtype: int64"
     },
     "execution_count": 47,
     "metadata": {},
     "output_type": "execute_result"
    }
   ],
   "source": [
    "dfPM10.isnull().sum()"
   ],
   "metadata": {
    "collapsed": false,
    "ExecuteTime": {
     "end_time": "2024-05-21T14:00:32.890043Z",
     "start_time": "2024-05-21T14:00:32.835011Z"
    }
   },
   "id": "13fec31304850d00",
   "execution_count": 47
  },
  {
   "cell_type": "markdown",
   "source": [
    "Observations : \n",
    "- On remarque que pour les colonnes \"valeur_originale\" et \"valeur\" on a quelques lignes vides (45), mais aucune colonne entièrement vide\n",
    "- On à également 172 lignes vides que l'on retrouves sur beaucoup de colonnes, il faudra surrement les supprimés après une vérification de ce qu'elles contiennent\n",
    "- Les types des différentes colonnes semblent cohérant par rapport à ce qu'elles affichent"
   ],
   "metadata": {
    "collapsed": false
   },
   "id": "ddd04a28f2e53067"
  },
  {
   "cell_type": "markdown",
   "source": [
    "## Visualiser les différentes données de chaque colonne"
   ],
   "metadata": {
    "collapsed": false
   },
   "id": "4e8c777dbe691230"
  },
  {
   "cell_type": "markdown",
   "source": [
    "### Pour les colonnes de type float64"
   ],
   "metadata": {
    "collapsed": false
   },
   "id": "d6826fb2a58efc6e"
  },
  {
   "cell_type": "code",
   "outputs": [
    {
     "name": "stdout",
     "output_type": "stream",
     "text": [
      "valeur_originale---- [14.703268 13.845743 13.207121 14.437269 14.799597 16.016296 13.844456\n",
      " 13.69738  11.212879 11.491947 13.644631 11.693145 12.503688 11.722379\n",
      " 15.213663 19.120575 17.169493 14.915053 15.857918 17.315884 15.804879\n",
      " 13.688317       nan 12.89322  16.59757  15.26243  15.72821  13.129271\n",
      " 13.82365  12.325356 12.232453 14.993402 11.575278 12.933588 11.598619\n",
      " 15.479178 18.541807 15.948601 13.80017  15.93206  18.507591 12.995968\n",
      " 11.939107 11.952682 15.144767 13.050617 14.15175  15.055115 15.018212\n",
      " 13.518208 14.214963 14.134863 12.936828 11.582056 13.323688 14.617453\n",
      " 17.685814 13.622661 12.886518 13.599592 15.197661 16.376551 14.728593\n",
      " 15.241199 15.466693 15.189548 15.572867 16.44437  17.205671 13.878689\n",
      " 15.086312 14.49725  14.281131 15.783613 14.516237 15.575665 13.882277\n",
      " 16.398445 19.339804 12.570506 15.912861 16.470591 15.935651 10.124685\n",
      "  9.114499  8.448091 10.688625  8.433603  8.48069  10.013508  9.44375\n",
      "  9.47298  10.543723 10.132714 10.020132  9.217624  8.931381 11.2983\n",
      "  8.448737  9.519825 13.933628 11.992214 10.241927  9.514482 11.472987\n",
      " 10.640823  9.365558  8.852604 11.016508  8.685316  9.982955 10.66928\n",
      " 10.467842 10.271265  9.699126 10.748878  9.273835 12.626581  9.891228\n",
      " 14.06751  11.575996 11.638428 10.790546 13.446311 17.063725 15.462037\n",
      " 15.617258 18.070572 15.253153 14.248038 16.672873 17.111631 15.032521\n",
      " 16.131556 15.57471  14.780868 17.873182 15.319611 20.007603 17.131723\n",
      " 18.866505 16.764824 19.030893 14.983086 12.820363 17.04973  12.583461\n",
      " 15.179092 14.878394 14.04354  12.859095 14.647608 12.52444  13.47226\n",
      " 15.858334 13.444388 17.609823 15.858983 16.018078 15.691958 13.449142\n",
      " 14.512765 10.930702 13.014156 11.168785 13.883841 12.715635 11.229521\n",
      " 11.306885 12.484861 11.667321 11.955209 12.556092 12.186239 16.704882\n",
      " 14.549286 15.002159 12.523588 16.110544 17.803543 17.098209 15.253701\n",
      " 17.608212 15.425012 20.627131 16.021418 13.454565 19.090624 16.100012\n",
      " 14.392339 17.916328 14.737726 17.232851 20.241587 20.490368 18.150982\n",
      " 18.580671 20.871172 20.26037  21.964701 16.244011 20.002512 20.866978\n",
      " 20.034969 24.039993 19.93224  20.159819 20.555725 17.866642 20.851477\n",
      " 21.417467 25.311495 26.623272 25.844715 21.492687 27.56436  16.026848\n",
      " 16.453705 12.938033 16.086021 14.525639 14.364146 12.078838 17.597979\n",
      " 12.760574 15.18069  12.50016  15.780787 19.801767 18.300379 14.22668\n",
      " 16.084766 17.911453 20.335724 20.524878 17.050831 19.052069 18.817978\n",
      " 18.987635 16.136969 13.415    18.905605 18.447645 18.488258 17.466295\n",
      " 19.765203 23.236282 18.158735 19.755829 16.007812 13.833415 13.501704\n",
      " 19.576912 15.377986 16.312841 13.956085 12.840257 10.900661 16.289873\n",
      " 13.506945 15.95632  13.543715 15.940243 15.547791 16.237564 15.096167\n",
      " 16.212101 15.88506  13.557802 17.437534 15.805548 16.01404  12.912209\n",
      " 14.532018 17.977003 17.036055 14.403259 14.564811 15.12826  15.205917\n",
      " 13.231651 14.643579 16.193146 15.256456 17.945375 14.953452 13.866417\n",
      " 10.135272 13.070486 11.524478 12.86489  11.619518  9.752258 10.267317\n",
      " 13.120104 11.568334 10.148576 12.037366 12.505868 10.700197  9.939536\n",
      " 12.07781  13.569324 12.655983 14.694617 15.207725 16.130119 13.470121\n",
      " 15.810749 12.870508 14.969249 14.404515 15.116692 12.845936 16.082062\n",
      " 14.15637  15.986852 12.706586 12.752961 15.771916 13.520289 15.077778\n",
      " 15.228494 15.450336 13.708109 16.719824 12.792025 13.226345 12.673587\n",
      " 16.748014 11.65478  12.278434 14.018548 14.865489 13.035482 14.768559\n",
      " 12.940928 15.163493 12.262212 11.719223 15.400427 12.137978 13.957588\n",
      " 14.799795 12.860304 15.376135 14.701523 13.293361 12.487123 16.067894\n",
      " 12.339012 14.288206 14.126899 13.5854   12.513572 15.721616 15.468999\n",
      " 14.355146 14.905855 12.639965 14.665596 13.86301  14.091352 16.752754\n",
      " 14.586246 13.666914 11.302901 14.946371 11.754217 13.025056 12.795614\n",
      " 12.087748 14.460518 13.846109 11.790713 13.311226 11.78496  14.520301\n",
      " 14.472052 14.694596 13.387948 14.740258 20.101078 15.02081  14.205729\n",
      " 16.070728 16.504488 15.929372 14.934671 15.628841 11.895711 16.363159\n",
      " 16.055223 15.593904 14.505536 15.179074 18.799234 18.54567  15.881224\n",
      " 17.002394 17.784124 27.480997 21.91803  21.759947 23.125237 21.51539\n",
      " 23.348715 22.031513 23.010302 17.178358 22.067827 24.713531 22.746525\n",
      " 22.870024 23.993282 24.438732 25.379774 24.505526 25.83676  26.748142\n",
      " 18.401899 14.699007 13.893741 18.110193 16.159826 16.444052 15.561368\n",
      " 15.058534 11.060175 16.335417 16.149874 16.253138 14.949925 16.645201\n",
      " 20.677137 19.03196  18.535593 17.238358 20.820574 21.027058 16.736111\n",
      " 16.912607 18.705376 16.38599  19.386635 17.495228 17.673985 13.06978\n",
      " 18.366037 19.807695 17.992954 16.943235 19.712091 22.393387 22.657816\n",
      " 19.843214 20.611406 24.854141 16.751944 12.586419 13.132807 14.61082\n",
      " 13.397276 13.228086 13.027352 13.752928 10.112232 14.239212 16.540176\n",
      " 14.505608 11.860171 14.987073 17.1166   16.475994 15.683849 18.726608\n",
      " 15.883988 14.369711 18.97521  18.629974 15.327896 16.260572 18.646147\n",
      " 12.810173 16.882708 19.062096 15.981133 16.700453 17.910999 22.422522\n",
      " 21.963963 20.183483 14.265925 13.580139 11.650067 13.704325 13.646326\n",
      " 14.605619 11.062529 14.379755 10.17723  14.561223 14.764458 13.002995\n",
      " 12.61303  14.121545 16.325109 15.634559 15.436822 14.714916 11.154737\n",
      " 11.875197 13.139811  9.104013 10.240238 13.034961 14.576791 16.704573\n",
      " 13.133682 14.330139 13.456676 14.254025 12.629577 12.47844  11.517734\n",
      "  8.819003 10.435102  7.025067  9.23616  11.068271 10.088567  9.777886\n",
      " 10.776344 13.126532 12.427178 10.155164 11.048035  9.939356 11.925447\n",
      "  9.912222  9.251075 14.629318 12.372762 11.328264 13.364146 10.59459\n",
      " 13.065854 12.091028 12.25551  11.837673 13.00914  16.475864 15.122473\n",
      " 13.548198 13.205421 12.954638 14.670777 12.906843 12.115477 14.849443\n",
      " 10.130551 10.304097 13.143601  9.189131 11.021276 11.231369 10.690446\n",
      " 11.212777 13.164156 14.279237 13.041398 11.705397 12.088827 11.393065\n",
      " 14.419107 12.595329 10.78273  15.170193 10.685664 10.475437 13.134778\n",
      " 10.09425  12.921355 12.012478  8.798024  9.661482 15.076856 12.526523\n",
      " 11.795918 14.027797 11.927822 10.165972 12.860868 10.563964 14.304616\n",
      " 11.842885 11.91944  29.018286 21.043745 20.053076 20.220852 17.392553\n",
      " 17.569035 19.584583 17.532843 18.303431 21.369221 20.026808 20.963696\n",
      " 19.074617 18.412292 18.957535 20.432377 18.771309 22.736111 22.692772\n",
      " 21.347778 19.958784 19.55592  21.298004 19.07369  20.345255 19.952034\n",
      " 18.091599 18.174967 24.262064 20.91651  22.077353 21.314882 20.807022\n",
      " 18.602699 21.497309 19.859615 24.597229 22.952459 22.449574 18.159332\n",
      " 17.573595 18.174402 15.210505 17.145258 17.225904 16.987389 15.27092\n",
      " 20.190517 18.408545 20.542475 17.474854 18.32762  16.536476 17.888361\n",
      " 17.673851 20.752865 20.755596 20.787184 18.515583 16.259724 19.451445\n",
      " 18.938881 16.892202 15.979873 19.196291 13.866027 22.006475 19.362736\n",
      " 18.96545  19.183672 18.108435 16.056637 20.639454 20.204771 25.923647\n",
      " 25.122841 20.633862]\n",
      "valeur-------------- [15.  14.  13.  16.  11.  12.  19.  17.   nan 18.  10.   9.1  8.4  8.5\n",
      "  9.4  9.5  9.2  8.9  8.7  9.7  9.3  9.9 20.  21.  22.  24.  25.  27.\n",
      " 26.  28.  23.   9.8  8.8  7.  29. ]\n",
      "code_region--------- [52. nan]\n",
      "population_municipale [  7961.   3221.     nan  53917. 309346.  69993. 152960.  49728.   1312.\n",
      " 142946.  41411.  19331.]\n",
      "population_comptee_a_part [  92.   57.   nan 1870. 5157. 1779. 3077. 2556.   26. 2830.  743.  278.]\n",
      "population_totale--- [  8053.   3278.     nan  55787. 314503.  71772. 156037.  52284.   1338.\n",
      " 145776.  42154.  19609.]\n",
      "geo_point_2d.lon---- [-2.07412906 -1.93347935         nan -0.87750013 -1.54820907 -2.25262298\n",
      " -0.55622557 -0.76581444 -0.69007138  0.20003333 -1.55011575 -1.61676097]\n",
      "geo_point_2d.lat---- [47.33898378 47.24484835         nan 47.04555328 47.23193416 47.28024862\n",
      " 47.4766375  48.06103094 46.64999172 47.98865762 47.17657935 47.17062588]\n"
     ]
    }
   ],
   "source": [
    "for col in dfPM10.select_dtypes('float64'):\n",
    "    print(f'{col :-<20} {dfPM10[col].unique()}')"
   ],
   "metadata": {
    "collapsed": false,
    "ExecuteTime": {
     "end_time": "2024-05-21T14:00:32.897191Z",
     "start_time": "2024-05-21T14:00:32.837592Z"
    }
   },
   "id": "6e5039c254124cec",
   "execution_count": 48
  },
  {
   "cell_type": "code",
   "outputs": [
    {
     "name": "stdout",
     "output_type": "stream",
     "text": [
      "code_zone_affichage- [ 3  4  1  2  5  6 13  7 11  8]\n"
     ]
    }
   ],
   "source": [
    "for col in dfPM10.select_dtypes('int64'):\n",
    "    print(f'{col :-<20} {dfPM10[col].unique()}')"
   ],
   "metadata": {
    "collapsed": false,
    "ExecuteTime": {
     "end_time": "2024-05-21T14:00:32.898267Z",
     "start_time": "2024-05-21T14:00:32.842990Z"
    }
   },
   "id": "ff221140811b6ec5",
   "execution_count": 49
  },
  {
   "cell_type": "code",
   "outputs": [
    {
     "name": "stdout",
     "output_type": "stream",
     "text": [
      "id------------------ ['2023-12-01 00:00:00FR23003_PM10_1' '2023-12-01 00:00:00FR23068_PM10_4'\n",
      " '2023-12-01 00:00:00FR23070_PM10_3' '2023-12-01 00:00:00FR23078_PM10_2'\n",
      " '2023-12-01 00:00:00FR23107_PM10_4' '2023-12-01 00:00:00FR23110_PM10_3'\n",
      " '2023-12-01 00:00:00FR23120_PM10_4' '2023-12-01 00:00:00FR23123_PM10_2'\n",
      " '2023-12-01 00:00:00FR23124_PM10_3' '2023-12-01 00:00:00FR23124_PM10_4'\n",
      " '2023-12-01 00:00:00FR23152_PM10_4' '2023-12-01 00:00:00FR23177_PM10_4'\n",
      " '2023-12-01 00:00:00FR23178_PM10_3' '2023-12-01 00:00:00FR23182_PM10_3'\n",
      " '2023-12-01 00:00:00FR23188_PM10_4' '2023-12-01 00:00:00FR23238_PM10_A'\n",
      " '2023-12-01 00:00:00FR23239_PM10_A' '2023-12-01 00:00:00FR23242_PM10_1'\n",
      " '2023-12-01 00:00:00FR23249_PM10_1' '2023-12-01 00:00:00FR23251_PM10_1'\n",
      " '2023-11-01 00:00:00FR23003_PM10_1' '2023-11-01 00:00:00FR23068_PM10_4'\n",
      " '2023-11-01 00:00:00FR23070_PM10_2' '2023-11-01 00:00:00FR23070_PM10_3'\n",
      " '2023-11-01 00:00:00FR23078_PM10_2' '2023-11-01 00:00:00FR23107_PM10_4'\n",
      " '2023-11-01 00:00:00FR23110_PM10_2' '2023-11-01 00:00:00FR23110_PM10_3'\n",
      " '2023-11-01 00:00:00FR23120_PM10_4' '2023-11-01 00:00:00FR23123_PM10_2'\n",
      " '2023-11-01 00:00:00FR23124_PM10_3' '2023-11-01 00:00:00FR23124_PM10_4'\n",
      " '2023-11-01 00:00:00FR23152_PM10_2' '2023-11-01 00:00:00FR23152_PM10_4'\n",
      " '2023-11-01 00:00:00FR23177_PM10_4' '2023-11-01 00:00:00FR23178_PM10_1'\n",
      " '2023-11-01 00:00:00FR23178_PM10_3' '2023-11-01 00:00:00FR23182_PM10_3'\n",
      " '2023-11-01 00:00:00FR23188_PM10_4' '2023-11-01 00:00:00FR23238_PM10_A'\n",
      " '2023-11-01 00:00:00FR23239_PM10_A' '2023-11-01 00:00:00FR23242_PM10_1'\n",
      " '2023-11-01 00:00:00FR23249_PM10_1' '2023-11-01 00:00:00FR23251_PM10_1'\n",
      " '2023-10-01 00:00:00FR23003_PM10_1' '2023-10-01 00:00:00FR23068_PM10_4'\n",
      " '2023-10-01 00:00:00FR23070_PM10_3' '2023-10-01 00:00:00FR23078_PM10_2'\n",
      " '2023-10-01 00:00:00FR23107_PM10_4' '2023-10-01 00:00:00FR23110_PM10_2'\n",
      " '2023-10-01 00:00:00FR23110_PM10_3' '2023-10-01 00:00:00FR23120_PM10_4'\n",
      " '2023-10-01 00:00:00FR23123_PM10_2' '2023-10-01 00:00:00FR23124_PM10_3'\n",
      " '2023-10-01 00:00:00FR23124_PM10_4' '2023-10-01 00:00:00FR23152_PM10_4'\n",
      " '2023-10-01 00:00:00FR23177_PM10_4' '2023-10-01 00:00:00FR23178_PM10_3'\n",
      " '2023-10-01 00:00:00FR23182_PM10_2' '2023-10-01 00:00:00FR23182_PM10_3'\n",
      " '2023-10-01 00:00:00FR23188_PM10_4' '2023-10-01 00:00:00FR23238_PM10_A'\n",
      " '2023-10-01 00:00:00FR23239_PM10_A' '2023-10-01 00:00:00FR23242_PM10_1'\n",
      " '2023-10-01 00:00:00FR23249_PM10_1' '2023-10-01 00:00:00FR23251_PM10_1'\n",
      " '2023-09-01 00:00:00FR23003_PM10_1' '2023-09-01 00:00:00FR23068_PM10_4'\n",
      " '2023-09-01 00:00:00FR23070_PM10_3' '2023-09-01 00:00:00FR23078_PM10_2'\n",
      " '2023-09-01 00:00:00FR23107_PM10_4' '2023-09-01 00:00:00FR23110_PM10_2'\n",
      " '2023-09-01 00:00:00FR23110_PM10_3' '2023-09-01 00:00:00FR23120_PM10_4'\n",
      " '2023-09-01 00:00:00FR23123_PM10_2' '2023-09-01 00:00:00FR23124_PM10_3'\n",
      " '2023-09-01 00:00:00FR23124_PM10_4' '2023-09-01 00:00:00FR23152_PM10_4'\n",
      " '2023-09-01 00:00:00FR23177_PM10_4' '2023-09-01 00:00:00FR23178_PM10_3'\n",
      " '2023-09-01 00:00:00FR23182_PM10_2' '2023-09-01 00:00:00FR23182_PM10_3'\n",
      " '2023-09-01 00:00:00FR23188_PM10_4' '2023-09-01 00:00:00FR23238_PM10_A'\n",
      " '2023-09-01 00:00:00FR23239_PM10_A' '2023-09-01 00:00:00FR23242_PM10_1'\n",
      " '2023-09-01 00:00:00FR23249_PM10_1' '2023-09-01 00:00:00FR23251_PM10_1'\n",
      " '2023-08-01 00:00:00FR23003_PM10_1' '2023-08-01 00:00:00FR23068_PM10_4'\n",
      " '2023-08-01 00:00:00FR23070_PM10_3' '2023-08-01 00:00:00FR23078_PM10_2'\n",
      " '2023-08-01 00:00:00FR23107_PM10_4' '2023-08-01 00:00:00FR23110_PM10_2'\n",
      " '2023-08-01 00:00:00FR23110_PM10_3' '2023-08-01 00:00:00FR23120_PM10_4'\n",
      " '2023-08-01 00:00:00FR23123_PM10_2' '2023-08-01 00:00:00FR23124_PM10_3'\n",
      " '2023-08-01 00:00:00FR23124_PM10_4' '2023-08-01 00:00:00FR23152_PM10_4'\n",
      " '2023-08-01 00:00:00FR23177_PM10_4' '2023-08-01 00:00:00FR23178_PM10_3'\n",
      " '2023-08-01 00:00:00FR23182_PM10_2' '2023-08-01 00:00:00FR23182_PM10_3'\n",
      " '2023-08-01 00:00:00FR23188_PM10_4' '2023-08-01 00:00:00FR23238_PM10_A'\n",
      " '2023-08-01 00:00:00FR23239_PM10_A' '2023-08-01 00:00:00FR23242_PM10_1'\n",
      " '2023-08-01 00:00:00FR23249_PM10_1' '2023-08-01 00:00:00FR23251_PM10_1'\n",
      " '2023-07-01 00:00:00FR23003_PM10_1' '2023-07-01 00:00:00FR23068_PM10_4'\n",
      " '2023-07-01 00:00:00FR23070_PM10_3' '2023-07-01 00:00:00FR23078_PM10_2'\n",
      " '2023-07-01 00:00:00FR23107_PM10_4' '2023-07-01 00:00:00FR23110_PM10_2'\n",
      " '2023-07-01 00:00:00FR23110_PM10_3' '2023-07-01 00:00:00FR23120_PM10_4'\n",
      " '2023-07-01 00:00:00FR23123_PM10_2' '2023-07-01 00:00:00FR23124_PM10_3'\n",
      " '2023-07-01 00:00:00FR23124_PM10_4' '2023-07-01 00:00:00FR23152_PM10_4'\n",
      " '2023-07-01 00:00:00FR23177_PM10_4' '2023-07-01 00:00:00FR23178_PM10_3'\n",
      " '2023-07-01 00:00:00FR23182_PM10_2' '2023-07-01 00:00:00FR23182_PM10_3'\n",
      " '2023-07-01 00:00:00FR23188_PM10_4' '2023-07-01 00:00:00FR23238_PM10_A'\n",
      " '2023-07-01 00:00:00FR23239_PM10_A' '2023-07-01 00:00:00FR23242_PM10_1'\n",
      " '2023-07-01 00:00:00FR23249_PM10_1' '2023-07-01 00:00:00FR23251_PM10_1'\n",
      " '2023-06-01 00:00:00FR23003_PM10_1' '2023-06-01 00:00:00FR23068_PM10_4'\n",
      " '2023-06-01 00:00:00FR23070_PM10_3' '2023-06-01 00:00:00FR23078_PM10_2'\n",
      " '2023-06-01 00:00:00FR23107_PM10_4' '2023-06-01 00:00:00FR23110_PM10_2'\n",
      " '2023-06-01 00:00:00FR23120_PM10_4' '2023-06-01 00:00:00FR23123_PM10_2'\n",
      " '2023-06-01 00:00:00FR23124_PM10_3' '2023-06-01 00:00:00FR23124_PM10_4'\n",
      " '2023-06-01 00:00:00FR23152_PM10_4' '2023-06-01 00:00:00FR23177_PM10_4'\n",
      " '2023-06-01 00:00:00FR23178_PM10_3' '2023-06-01 00:00:00FR23182_PM10_2'\n",
      " '2023-06-01 00:00:00FR23188_PM10_4' '2023-06-01 00:00:00FR23238_PM10_A'\n",
      " '2023-06-01 00:00:00FR23239_PM10_A' '2023-06-01 00:00:00FR23242_PM10_1'\n",
      " '2023-06-01 00:00:00FR23249_PM10_1' '2023-06-01 00:00:00FR23251_PM10_1'\n",
      " '2023-05-01 00:00:00FR23003_PM10_1' '2023-05-01 00:00:00FR23068_PM10_4'\n",
      " '2023-05-01 00:00:00FR23070_PM10_3' '2023-05-01 00:00:00FR23078_PM10_2'\n",
      " '2023-05-01 00:00:00FR23107_PM10_4' '2023-05-01 00:00:00FR23110_PM10_2'\n",
      " '2023-05-01 00:00:00FR23120_PM10_4' '2023-05-01 00:00:00FR23123_PM10_2'\n",
      " '2023-05-01 00:00:00FR23124_PM10_3' '2023-05-01 00:00:00FR23124_PM10_4'\n",
      " '2023-05-01 00:00:00FR23152_PM10_4' '2023-05-01 00:00:00FR23177_PM10_4'\n",
      " '2023-05-01 00:00:00FR23178_PM10_3' '2023-05-01 00:00:00FR23182_PM10_2'\n",
      " '2023-05-01 00:00:00FR23188_PM10_4' '2023-05-01 00:00:00FR23238_PM10_A'\n",
      " '2023-05-01 00:00:00FR23239_PM10_A' '2023-05-01 00:00:00FR23242_PM10_1'\n",
      " '2023-05-01 00:00:00FR23249_PM10_1' '2023-05-01 00:00:00FR23251_PM10_1'\n",
      " '2023-04-01 00:00:00FR23003_PM10_1' '2023-04-01 00:00:00FR23068_PM10_3'\n",
      " '2023-04-01 00:00:00FR23070_PM10_3' '2023-04-01 00:00:00FR23078_PM10_2'\n",
      " '2023-04-01 00:00:00FR23107_PM10_4' '2023-04-01 00:00:00FR23110_PM10_2'\n",
      " '2023-04-01 00:00:00FR23120_PM10_4' '2023-04-01 00:00:00FR23123_PM10_2'\n",
      " '2023-04-01 00:00:00FR23124_PM10_3' '2023-04-01 00:00:00FR23124_PM10_4'\n",
      " '2023-04-01 00:00:00FR23152_PM10_4' '2023-04-01 00:00:00FR23177_PM10_4'\n",
      " '2023-04-01 00:00:00FR23178_PM10_3' '2023-04-01 00:00:00FR23182_PM10_2'\n",
      " '2023-04-01 00:00:00FR23188_PM10_4' '2023-04-01 00:00:00FR23238_PM10_A'\n",
      " '2023-04-01 00:00:00FR23239_PM10_A' '2023-04-01 00:00:00FR23242_PM10_1'\n",
      " '2023-04-01 00:00:00FR23249_PM10_1' '2023-04-01 00:00:00FR23251_PM10_1'\n",
      " '2023-03-01 00:00:00FR23003_PM10_1' '2023-03-01 00:00:00FR23068_PM10_3'\n",
      " '2023-03-01 00:00:00FR23070_PM10_3' '2023-03-01 00:00:00FR23078_PM10_2'\n",
      " '2023-03-01 00:00:00FR23107_PM10_4' '2023-03-01 00:00:00FR23110_PM10_2'\n",
      " '2023-03-01 00:00:00FR23120_PM10_4' '2023-03-01 00:00:00FR23123_PM10_2'\n",
      " '2023-03-01 00:00:00FR23124_PM10_3' '2023-03-01 00:00:00FR23124_PM10_4'\n",
      " '2023-03-01 00:00:00FR23152_PM10_4' '2023-03-01 00:00:00FR23177_PM10_3'\n",
      " '2023-03-01 00:00:00FR23177_PM10_4' '2023-03-01 00:00:00FR23178_PM10_3'\n",
      " '2023-03-01 00:00:00FR23182_PM10_2' '2023-03-01 00:00:00FR23188_PM10_4'\n",
      " '2023-03-01 00:00:00FR23238_PM10_A' '2023-03-01 00:00:00FR23239_PM10_A'\n",
      " '2023-03-01 00:00:00FR23242_PM10_1' '2023-03-01 00:00:00FR23249_PM10_1'\n",
      " '2023-03-01 00:00:00FR23251_PM10_1' '2023-02-01 00:00:00FR23003_PM10_1'\n",
      " '2023-02-01 00:00:00FR23068_PM10_3' '2023-02-01 00:00:00FR23070_PM10_2'\n",
      " '2023-02-01 00:00:00FR23070_PM10_3' '2023-02-01 00:00:00FR23078_PM10_2'\n",
      " '2023-02-01 00:00:00FR23107_PM10_4' '2023-02-01 00:00:00FR23110_PM10_2'\n",
      " '2023-02-01 00:00:00FR23120_PM10_4' '2023-02-01 00:00:00FR23123_PM10_2'\n",
      " '2023-02-01 00:00:00FR23124_PM10_3' '2023-02-01 00:00:00FR23152_PM10_4'\n",
      " '2023-02-01 00:00:00FR23177_PM10_4' '2023-02-01 00:00:00FR23178_PM10_3'\n",
      " '2023-02-01 00:00:00FR23182_PM10_2' '2023-02-01 00:00:00FR23188_PM10_4'\n",
      " '2023-02-01 00:00:00FR23238_PM10_A' '2023-02-01 00:00:00FR23239_PM10_A'\n",
      " '2023-02-01 00:00:00FR23242_PM10_1' '2023-02-01 00:00:00FR23249_PM10_1'\n",
      " '2023-02-01 00:00:00FR23251_PM10_1' '2023-01-01 00:00:00FR23003_PM10_1'\n",
      " '2023-01-01 00:00:00FR23068_PM10_3' '2023-01-01 00:00:00FR23070_PM10_2'\n",
      " '2023-01-01 00:00:00FR23070_PM10_3' '2023-01-01 00:00:00FR23078_PM10_2'\n",
      " '2023-01-01 00:00:00FR23107_PM10_4' '2023-01-01 00:00:00FR23110_PM10_2'\n",
      " '2023-01-01 00:00:00FR23120_PM10_4' '2023-01-01 00:00:00FR23123_PM10_2'\n",
      " '2023-01-01 00:00:00FR23124_PM10_3' '2023-01-01 00:00:00FR23152_PM10_4'\n",
      " '2023-01-01 00:00:00FR23177_PM10_4' '2023-01-01 00:00:00FR23178_PM10_3'\n",
      " '2023-01-01 00:00:00FR23182_PM10_2' '2023-01-01 00:00:00FR23188_PM10_4'\n",
      " '2023-01-01 00:00:00FR23238_PM10_A' '2023-01-01 00:00:00FR23239_PM10_A'\n",
      " '2023-01-01 00:00:00FR23242_PM10_1' '2023-01-01 00:00:00FR23249_PM10_1'\n",
      " '2023-01-01 00:00:00FR23251_PM10_1' '2022-12-01 00:00:00FR23003_PM10_1'\n",
      " '2022-12-01 00:00:00FR23068_PM10_3' '2022-12-01 00:00:00FR23070_PM10_2'\n",
      " '2022-12-01 00:00:00FR23070_PM10_3' '2022-12-01 00:00:00FR23078_PM10_2'\n",
      " '2022-12-01 00:00:00FR23107_PM10_4' '2022-12-01 00:00:00FR23110_PM10_2'\n",
      " '2022-12-01 00:00:00FR23120_PM10_4' '2022-12-01 00:00:00FR23123_PM10_2'\n",
      " '2022-12-01 00:00:00FR23124_PM10_3' '2022-12-01 00:00:00FR23152_PM10_2'\n",
      " '2022-12-01 00:00:00FR23152_PM10_4' '2022-12-01 00:00:00FR23177_PM10_4'\n",
      " '2022-12-01 00:00:00FR23178_PM10_1' '2022-12-01 00:00:00FR23178_PM10_3'\n",
      " '2022-12-01 00:00:00FR23182_PM10_2' '2022-12-01 00:00:00FR23188_PM10_4'\n",
      " '2022-12-01 00:00:00FR23238_PM10_A' '2022-12-01 00:00:00FR23239_PM10_A'\n",
      " '2022-12-01 00:00:00FR23242_PM10_1' '2022-12-01 00:00:00FR23249_PM10_1'\n",
      " '2022-12-01 00:00:00FR23251_PM10_1' '2022-11-01 00:00:00FR23003_PM10_1'\n",
      " '2022-11-01 00:00:00FR23068_PM10_3' '2022-11-01 00:00:00FR23070_PM10_2'\n",
      " '2022-11-01 00:00:00FR23070_PM10_3' '2022-11-01 00:00:00FR23078_PM10_2'\n",
      " '2022-11-01 00:00:00FR23107_PM10_4' '2022-11-01 00:00:00FR23110_PM10_2'\n",
      " '2022-11-01 00:00:00FR23120_PM10_4' '2022-11-01 00:00:00FR23123_PM10_2'\n",
      " '2022-11-01 00:00:00FR23124_PM10_3' '2022-11-01 00:00:00FR23152_PM10_2'\n",
      " '2022-11-01 00:00:00FR23152_PM10_4' '2022-11-01 00:00:00FR23177_PM10_4'\n",
      " '2022-11-01 00:00:00FR23178_PM10_1' '2022-11-01 00:00:00FR23178_PM10_3'\n",
      " '2022-11-01 00:00:00FR23182_PM10_2' '2022-11-01 00:00:00FR23188_PM10_4'\n",
      " '2022-11-01 00:00:00FR23238_PM10_A' '2022-11-01 00:00:00FR23239_PM10_A'\n",
      " '2022-11-01 00:00:00FR23242_PM10_1' '2022-11-01 00:00:00FR23249_PM10_1'\n",
      " '2022-11-01 00:00:00FR23251_PM10_1' '2022-10-01 00:00:00FR23003_PM10_1'\n",
      " '2022-10-01 00:00:00FR23068_PM10_3' '2022-10-01 00:00:00FR23070_PM10_2'\n",
      " '2022-10-01 00:00:00FR23070_PM10_3' '2022-10-01 00:00:00FR23078_PM10_2'\n",
      " '2022-10-01 00:00:00FR23107_PM10_4' '2022-10-01 00:00:00FR23110_PM10_2'\n",
      " '2022-10-01 00:00:00FR23120_PM10_4' '2022-10-01 00:00:00FR23123_PM10_2'\n",
      " '2022-10-01 00:00:00FR23124_PM10_3' '2022-10-01 00:00:00FR23152_PM10_2'\n",
      " '2022-10-01 00:00:00FR23152_PM10_4' '2022-10-01 00:00:00FR23177_PM10_4'\n",
      " '2022-10-01 00:00:00FR23178_PM10_1' '2022-10-01 00:00:00FR23178_PM10_3'\n",
      " '2022-10-01 00:00:00FR23182_PM10_2' '2022-10-01 00:00:00FR23188_PM10_4'\n",
      " '2022-10-01 00:00:00FR23238_PM10_A' '2022-10-01 00:00:00FR23239_PM10_A'\n",
      " '2022-10-01 00:00:00FR23242_PM10_1' '2022-10-01 00:00:00FR23249_PM10_1'\n",
      " '2022-10-01 00:00:00FR23251_PM10_1' '2022-09-01 00:00:00FR23003_PM10_1'\n",
      " '2022-09-01 00:00:00FR23068_PM10_3' '2022-09-01 00:00:00FR23070_PM10_2'\n",
      " '2022-09-01 00:00:00FR23070_PM10_3' '2022-09-01 00:00:00FR23078_PM10_2'\n",
      " '2022-09-01 00:00:00FR23107_PM10_4' '2022-09-01 00:00:00FR23110_PM10_2'\n",
      " '2022-09-01 00:00:00FR23120_PM10_4' '2022-09-01 00:00:00FR23123_PM10_2'\n",
      " '2022-09-01 00:00:00FR23124_PM10_3' '2022-09-01 00:00:00FR23152_PM10_2'\n",
      " '2022-09-01 00:00:00FR23152_PM10_4' '2022-09-01 00:00:00FR23177_PM10_4'\n",
      " '2022-09-01 00:00:00FR23178_PM10_1' '2022-09-01 00:00:00FR23178_PM10_3'\n",
      " '2022-09-01 00:00:00FR23182_PM10_2' '2022-09-01 00:00:00FR23188_PM10_4'\n",
      " '2022-09-01 00:00:00FR23238_PM10_A' '2022-09-01 00:00:00FR23239_PM10_A'\n",
      " '2022-09-01 00:00:00FR23242_PM10_1' '2022-09-01 00:00:00FR23249_PM10_1'\n",
      " '2022-09-01 00:00:00FR23251_PM10_1' '2022-08-01 00:00:00FR23003_PM10_1'\n",
      " '2022-08-01 00:00:00FR23068_PM10_3' '2022-08-01 00:00:00FR23070_PM10_2'\n",
      " '2022-08-01 00:00:00FR23070_PM10_3' '2022-08-01 00:00:00FR23078_PM10_2'\n",
      " '2022-08-01 00:00:00FR23107_PM10_4' '2022-08-01 00:00:00FR23110_PM10_2'\n",
      " '2022-08-01 00:00:00FR23120_PM10_2' '2022-08-01 00:00:00FR23123_PM10_2'\n",
      " '2022-08-01 00:00:00FR23124_PM10_3' '2022-08-01 00:00:00FR23152_PM10_2'\n",
      " '2022-08-01 00:00:00FR23152_PM10_4' '2022-08-01 00:00:00FR23177_PM10_3'\n",
      " '2022-08-01 00:00:00FR23177_PM10_4' '2022-08-01 00:00:00FR23178_PM10_3'\n",
      " '2022-08-01 00:00:00FR23182_PM10_2' '2022-08-01 00:00:00FR23188_PM10_4'\n",
      " '2022-08-01 00:00:00FR23238_PM10_A' '2022-08-01 00:00:00FR23239_PM10_A'\n",
      " '2022-08-01 00:00:00FR23242_PM10_1' '2022-08-01 00:00:00FR23249_PM10_1'\n",
      " '2022-08-01 00:00:00FR23251_PM10_1' '2022-07-01 00:00:00FR23003_PM10_1'\n",
      " '2022-07-01 00:00:00FR23068_PM10_3' '2022-07-01 00:00:00FR23070_PM10_2'\n",
      " '2022-07-01 00:00:00FR23070_PM10_3' '2022-07-01 00:00:00FR23078_PM10_2'\n",
      " '2022-07-01 00:00:00FR23107_PM10_4' '2022-07-01 00:00:00FR23110_PM10_2'\n",
      " '2022-07-01 00:00:00FR23120_PM10_2' '2022-07-01 00:00:00FR23123_PM10_2'\n",
      " '2022-07-01 00:00:00FR23124_PM10_3' '2022-07-01 00:00:00FR23152_PM10_2'\n",
      " '2022-07-01 00:00:00FR23152_PM10_4' '2022-07-01 00:00:00FR23177_PM10_3'\n",
      " '2022-07-01 00:00:00FR23177_PM10_4' '2022-07-01 00:00:00FR23178_PM10_3'\n",
      " '2022-07-01 00:00:00FR23182_PM10_2' '2022-07-01 00:00:00FR23188_PM10_4'\n",
      " '2022-07-01 00:00:00FR23238_PM10_A' '2022-07-01 00:00:00FR23239_PM10_A'\n",
      " '2022-07-01 00:00:00FR23242_PM10_1' '2022-07-01 00:00:00FR23249_PM10_1'\n",
      " '2022-07-01 00:00:00FR23251_PM10_1' '2022-06-01 00:00:00FR23003_PM10_1'\n",
      " '2022-06-01 00:00:00FR23068_PM10_3' '2022-06-01 00:00:00FR23070_PM10_2'\n",
      " '2022-06-01 00:00:00FR23070_PM10_3' '2022-06-01 00:00:00FR23078_PM10_2'\n",
      " '2022-06-01 00:00:00FR23107_PM10_4' '2022-06-01 00:00:00FR23110_PM10_2'\n",
      " '2022-06-01 00:00:00FR23120_PM10_2' '2022-06-01 00:00:00FR23123_PM10_2'\n",
      " '2022-06-01 00:00:00FR23124_PM10_3' '2022-06-01 00:00:00FR23152_PM10_2'\n",
      " '2022-06-01 00:00:00FR23177_PM10_3' '2022-06-01 00:00:00FR23177_PM10_4'\n",
      " '2022-06-01 00:00:00FR23178_PM10_3' '2022-06-01 00:00:00FR23182_PM10_2'\n",
      " '2022-06-01 00:00:00FR23188_PM10_4' '2022-06-01 00:00:00FR23238_PM10_A'\n",
      " '2022-06-01 00:00:00FR23239_PM10_A' '2022-06-01 00:00:00FR23242_PM10_1'\n",
      " '2022-06-01 00:00:00FR23249_PM10_1' '2022-06-01 00:00:00FR23251_PM10_1'\n",
      " '2022-05-01 00:00:00FR23003_PM10_1' '2022-05-01 00:00:00FR23068_PM10_3'\n",
      " '2022-05-01 00:00:00FR23070_PM10_2' '2022-05-01 00:00:00FR23070_PM10_3'\n",
      " '2022-05-01 00:00:00FR23078_PM10_2' '2022-05-01 00:00:00FR23107_PM10_4'\n",
      " '2022-05-01 00:00:00FR23110_PM10_2' '2022-05-01 00:00:00FR23120_PM10_2'\n",
      " '2022-05-01 00:00:00FR23123_PM10_2' '2022-05-01 00:00:00FR23124_PM10_3'\n",
      " '2022-05-01 00:00:00FR23152_PM10_2' '2022-05-01 00:00:00FR23177_PM10_3'\n",
      " '2022-05-01 00:00:00FR23178_PM10_3' '2022-05-01 00:00:00FR23182_PM10_2'\n",
      " '2022-05-01 00:00:00FR23188_PM10_4' '2022-05-01 00:00:00FR23238_PM10_A'\n",
      " '2022-05-01 00:00:00FR23239_PM10_A' '2022-05-01 00:00:00FR23242_PM10_1'\n",
      " '2022-05-01 00:00:00FR23249_PM10_1' '2022-05-01 00:00:00FR23251_PM10_1'\n",
      " '2022-04-01 00:00:00FR23003_PM10_1' '2022-04-01 00:00:00FR23068_PM10_3'\n",
      " '2022-04-01 00:00:00FR23070_PM10_2' '2022-04-01 00:00:00FR23070_PM10_3'\n",
      " '2022-04-01 00:00:00FR23078_PM10_2' '2022-04-01 00:00:00FR23107_PM10_2'\n",
      " '2022-04-01 00:00:00FR23107_PM10_4' '2022-04-01 00:00:00FR23110_PM10_2'\n",
      " '2022-04-01 00:00:00FR23120_PM10_2' '2022-04-01 00:00:00FR23123_PM10_2'\n",
      " '2022-04-01 00:00:00FR23124_PM10_3' '2022-04-01 00:00:00FR23152_PM10_2'\n",
      " '2022-04-01 00:00:00FR23152_PM10_4' '2022-04-01 00:00:00FR23177_PM10_3'\n",
      " '2022-04-01 00:00:00FR23177_PM10_4' '2022-04-01 00:00:00FR23178_PM10_1'\n",
      " '2022-04-01 00:00:00FR23178_PM10_3' '2022-04-01 00:00:00FR23182_PM10_2'\n",
      " '2022-04-01 00:00:00FR23188_PM10_4' '2022-04-01 00:00:00FR23238_PM10_A'\n",
      " '2022-04-01 00:00:00FR23239_PM10_A' '2022-04-01 00:00:00FR23242_PM10_1'\n",
      " '2022-04-01 00:00:00FR23249_PM10_1' '2022-04-01 00:00:00FR23251_PM10_1'\n",
      " '2022-03-01 00:00:00FR23003_PM10_1' '2022-03-01 00:00:00FR23068_PM10_3'\n",
      " '2022-03-01 00:00:00FR23070_PM10_2' '2022-03-01 00:00:00FR23070_PM10_3'\n",
      " '2022-03-01 00:00:00FR23078_PM10_2' '2022-03-01 00:00:00FR23107_PM10_2'\n",
      " '2022-03-01 00:00:00FR23107_PM10_4' '2022-03-01 00:00:00FR23110_PM10_2'\n",
      " '2022-03-01 00:00:00FR23120_PM10_2' '2022-03-01 00:00:00FR23123_PM10_2'\n",
      " '2022-03-01 00:00:00FR23124_PM10_3' '2022-03-01 00:00:00FR23152_PM10_2'\n",
      " '2022-03-01 00:00:00FR23152_PM10_4' '2022-03-01 00:00:00FR23177_PM10_3'\n",
      " '2022-03-01 00:00:00FR23177_PM10_4' '2022-03-01 00:00:00FR23178_PM10_1'\n",
      " '2022-03-01 00:00:00FR23178_PM10_3' '2022-03-01 00:00:00FR23182_PM10_2'\n",
      " '2022-03-01 00:00:00FR23188_PM10_4' '2022-03-01 00:00:00FR23238_PM10_A'\n",
      " '2022-03-01 00:00:00FR23239_PM10_A' '2022-03-01 00:00:00FR23242_PM10_1'\n",
      " '2022-03-01 00:00:00FR23249_PM10_1' '2022-03-01 00:00:00FR23251_PM10_1'\n",
      " '2022-02-01 00:00:00FR23003_PM10_1' '2022-02-01 00:00:00FR23068_PM10_3'\n",
      " '2022-02-01 00:00:00FR23070_PM10_2' '2022-02-01 00:00:00FR23078_PM10_2'\n",
      " '2022-02-01 00:00:00FR23107_PM10_2' '2022-02-01 00:00:00FR23110_PM10_2'\n",
      " '2022-02-01 00:00:00FR23120_PM10_2' '2022-02-01 00:00:00FR23123_PM10_2'\n",
      " '2022-02-01 00:00:00FR23124_PM10_3' '2022-02-01 00:00:00FR23152_PM10_2'\n",
      " '2022-02-01 00:00:00FR23177_PM10_3' '2022-02-01 00:00:00FR23178_PM10_3'\n",
      " '2022-02-01 00:00:00FR23182_PM10_2' '2022-02-01 00:00:00FR23188_PM10_4'\n",
      " '2022-02-01 00:00:00FR23238_PM10_A' '2022-02-01 00:00:00FR23239_PM10_A'\n",
      " '2022-02-01 00:00:00FR23242_PM10_1' '2022-02-01 00:00:00FR23249_PM10_1'\n",
      " '2022-02-01 00:00:00FR23251_PM10_1' '2022-01-01 00:00:00FR23003_PM10_1'\n",
      " '2022-01-01 00:00:00FR23068_PM10_3' '2022-01-01 00:00:00FR23070_PM10_2'\n",
      " '2022-01-01 00:00:00FR23078_PM10_2' '2022-01-01 00:00:00FR23107_PM10_2'\n",
      " '2022-01-01 00:00:00FR23110_PM10_2' '2022-01-01 00:00:00FR23120_PM10_2'\n",
      " '2022-01-01 00:00:00FR23123_PM10_2' '2022-01-01 00:00:00FR23124_PM10_3'\n",
      " '2022-01-01 00:00:00FR23152_PM10_2' '2022-01-01 00:00:00FR23177_PM10_3'\n",
      " '2022-01-01 00:00:00FR23178_PM10_3' '2022-01-01 00:00:00FR23182_PM10_2'\n",
      " '2022-01-01 00:00:00FR23188_PM10_4' '2022-01-01 00:00:00FR23238_PM10_A'\n",
      " '2022-01-01 00:00:00FR23239_PM10_A' '2022-01-01 00:00:00FR23242_PM10_1'\n",
      " '2022-01-01 00:00:00FR23249_PM10_1' '2022-01-01 00:00:00FR23251_PM10_1'\n",
      " '2021-12-01 00:00:00FR23003_PM10_1' '2021-12-01 00:00:00FR23068_PM10_3'\n",
      " '2021-12-01 00:00:00FR23070_PM10_2' '2021-12-01 00:00:00FR23078_PM10_2'\n",
      " '2021-12-01 00:00:00FR23107_PM10_2' '2021-12-01 00:00:00FR23110_PM10_2'\n",
      " '2021-12-01 00:00:00FR23120_PM10_2' '2021-12-01 00:00:00FR23123_PM10_2'\n",
      " '2021-12-01 00:00:00FR23124_PM10_3' '2021-12-01 00:00:00FR23152_PM10_2'\n",
      " '2021-12-01 00:00:00FR23177_PM10_3' '2021-12-01 00:00:00FR23178_PM10_3'\n",
      " '2021-12-01 00:00:00FR23182_PM10_2' '2021-12-01 00:00:00FR23188_PM10_4'\n",
      " '2021-12-01 00:00:00FR23238_PM10_A' '2021-12-01 00:00:00FR23239_PM10_A'\n",
      " '2021-12-01 00:00:00FR23249_PM10_1' '2021-12-01 00:00:00FR23251_PM10_1'\n",
      " '2021-11-01 00:00:00FR23003_PM10_1' '2021-11-01 00:00:00FR23068_PM10_3'\n",
      " '2021-11-01 00:00:00FR23070_PM10_2' '2021-11-01 00:00:00FR23078_PM10_2'\n",
      " '2021-11-01 00:00:00FR23107_PM10_2' '2021-11-01 00:00:00FR23110_PM10_2'\n",
      " '2021-11-01 00:00:00FR23120_PM10_2' '2021-11-01 00:00:00FR23123_PM10_2'\n",
      " '2021-11-01 00:00:00FR23124_PM10_3' '2021-11-01 00:00:00FR23152_PM10_2'\n",
      " '2021-11-01 00:00:00FR23177_PM10_3' '2021-11-01 00:00:00FR23178_PM10_3'\n",
      " '2021-11-01 00:00:00FR23182_PM10_2' '2021-11-01 00:00:00FR23188_PM10_4'\n",
      " '2021-11-01 00:00:00FR23238_PM10_A' '2021-11-01 00:00:00FR23239_PM10_A'\n",
      " '2021-11-01 00:00:00FR23249_PM10_1' '2021-10-01 00:00:00FR23003_PM10_1'\n",
      " '2021-10-01 00:00:00FR23068_PM10_3' '2021-10-01 00:00:00FR23070_PM10_2'\n",
      " '2021-10-01 00:00:00FR23078_PM10_2' '2021-10-01 00:00:00FR23107_PM10_2'\n",
      " '2021-10-01 00:00:00FR23110_PM10_2' '2021-10-01 00:00:00FR23120_PM10_2'\n",
      " '2021-10-01 00:00:00FR23123_PM10_2' '2021-10-01 00:00:00FR23124_PM10_3'\n",
      " '2021-10-01 00:00:00FR23152_PM10_2' '2021-10-01 00:00:00FR23177_PM10_3'\n",
      " '2021-10-01 00:00:00FR23178_PM10_3' '2021-10-01 00:00:00FR23182_PM10_2'\n",
      " '2021-10-01 00:00:00FR23188_PM10_4' '2021-10-01 00:00:00FR23238_PM10_A'\n",
      " '2021-10-01 00:00:00FR23239_PM10_A' '2021-10-01 00:00:00FR23249_PM10_1'\n",
      " '2021-09-01 00:00:00FR23003_PM10_1' '2021-09-01 00:00:00FR23068_PM10_3'\n",
      " '2021-09-01 00:00:00FR23070_PM10_2' '2021-09-01 00:00:00FR23078_PM10_2'\n",
      " '2021-09-01 00:00:00FR23107_PM10_2' '2021-09-01 00:00:00FR23110_PM10_2'\n",
      " '2021-09-01 00:00:00FR23123_PM10_2' '2021-09-01 00:00:00FR23152_PM10_2'\n",
      " '2021-09-01 00:00:00FR23177_PM10_3' '2021-09-01 00:00:00FR23178_PM10_3'\n",
      " '2021-09-01 00:00:00FR23182_PM10_2' '2021-09-01 00:00:00FR23188_PM10_4'\n",
      " '2021-09-01 00:00:00FR23238_PM10_A' '2021-09-01 00:00:00FR23239_PM10_A'\n",
      " '2021-09-01 00:00:00FR23249_PM10_1' '2021-08-01 00:00:00FR23003_PM10_1'\n",
      " '2021-08-01 00:00:00FR23070_PM10_2' '2021-08-01 00:00:00FR23078_PM10_2'\n",
      " '2021-08-01 00:00:00FR23107_PM10_2' '2021-08-01 00:00:00FR23110_PM10_2'\n",
      " '2021-08-01 00:00:00FR23120_PM10_2' '2021-08-01 00:00:00FR23123_PM10_2'\n",
      " '2021-08-01 00:00:00FR23124_PM10_3' '2021-08-01 00:00:00FR23152_PM10_2'\n",
      " '2021-08-01 00:00:00FR23177_PM10_3' '2021-08-01 00:00:00FR23178_PM10_1'\n",
      " '2021-08-01 00:00:00FR23178_PM10_3' '2021-08-01 00:00:00FR23182_PM10_2'\n",
      " '2021-08-01 00:00:00FR23188_PM10_4' '2021-08-01 00:00:00FR23238_PM10_A'\n",
      " '2021-08-01 00:00:00FR23239_PM10_A' '2021-08-01 00:00:00FR23249_PM10_1'\n",
      " '2021-07-01 00:00:00FR23003_PM10_1' '2021-07-01 00:00:00FR23068_PM10_3'\n",
      " '2021-07-01 00:00:00FR23070_PM10_2' '2021-07-01 00:00:00FR23078_PM10_2'\n",
      " '2021-07-01 00:00:00FR23107_PM10_2' '2021-07-01 00:00:00FR23110_PM10_2'\n",
      " '2021-07-01 00:00:00FR23120_PM10_2' '2021-07-01 00:00:00FR23123_PM10_2'\n",
      " '2021-07-01 00:00:00FR23124_PM10_3' '2021-07-01 00:00:00FR23152_PM10_2'\n",
      " '2021-07-01 00:00:00FR23177_PM10_3' '2021-07-01 00:00:00FR23178_PM10_1'\n",
      " '2021-07-01 00:00:00FR23178_PM10_3' '2021-07-01 00:00:00FR23182_PM10_2'\n",
      " '2021-07-01 00:00:00FR23188_PM10_4' '2021-07-01 00:00:00FR23238_PM10_A'\n",
      " '2021-07-01 00:00:00FR23239_PM10_A' '2021-07-01 00:00:00FR23249_PM10_1'\n",
      " '2021-06-01 00:00:00FR23003_PM10_1' '2021-06-01 00:00:00FR23068_PM10_3'\n",
      " '2021-06-01 00:00:00FR23070_PM10_2' '2021-06-01 00:00:00FR23078_PM10_2'\n",
      " '2021-06-01 00:00:00FR23107_PM10_2' '2021-06-01 00:00:00FR23110_PM10_2'\n",
      " '2021-06-01 00:00:00FR23120_PM10_2' '2021-06-01 00:00:00FR23123_PM10_2'\n",
      " '2021-06-01 00:00:00FR23124_PM10_3' '2021-06-01 00:00:00FR23152_PM10_2'\n",
      " '2021-06-01 00:00:00FR23177_PM10_3' '2021-06-01 00:00:00FR23178_PM10_1'\n",
      " '2021-06-01 00:00:00FR23178_PM10_3' '2021-06-01 00:00:00FR23182_PM10_2'\n",
      " '2021-06-01 00:00:00FR23188_PM10_4' '2021-06-01 00:00:00FR23238_PM10_A'\n",
      " '2021-06-01 00:00:00FR23239_PM10_A' '2021-06-01 00:00:00FR23249_PM10_1'\n",
      " '2021-05-01 00:00:00FR23003_PM10_1' '2021-05-01 00:00:00FR23068_PM10_3'\n",
      " '2021-05-01 00:00:00FR23070_PM10_2' '2021-05-01 00:00:00FR23078_PM10_2'\n",
      " '2021-05-01 00:00:00FR23107_PM10_2' '2021-05-01 00:00:00FR23110_PM10_2'\n",
      " '2021-05-01 00:00:00FR23120_PM10_2' '2021-05-01 00:00:00FR23123_PM10_2'\n",
      " '2021-05-01 00:00:00FR23124_PM10_3' '2021-05-01 00:00:00FR23140_PM10_1'\n",
      " '2021-05-01 00:00:00FR23152_PM10_2' '2021-05-01 00:00:00FR23177_PM10_3'\n",
      " '2021-05-01 00:00:00FR23178_PM10_1' '2021-05-01 00:00:00FR23178_PM10_3'\n",
      " '2021-05-01 00:00:00FR23182_PM10_2' '2021-05-01 00:00:00FR23188_PM10_2'\n",
      " '2021-05-01 00:00:00FR23188_PM10_4' '2021-05-01 00:00:00FR23238_PM10_A'\n",
      " '2021-05-01 00:00:00FR23239_PM10_A' '2021-05-01 00:00:00FR23249_PM10_1'\n",
      " '2021-04-01 00:00:00FR23003_PM10_1' '2021-04-01 00:00:00FR23068_PM10_3'\n",
      " '2021-04-01 00:00:00FR23070_PM10_2' '2021-04-01 00:00:00FR23078_PM10_2'\n",
      " '2021-04-01 00:00:00FR23107_PM10_2' '2021-04-01 00:00:00FR23110_PM10_2'\n",
      " '2021-04-01 00:00:00FR23120_PM10_2' '2021-04-01 00:00:00FR23123_PM10_2'\n",
      " '2021-04-01 00:00:00FR23124_PM10_3' '2021-04-01 00:00:00FR23140_PM10_1'\n",
      " '2021-04-01 00:00:00FR23152_PM10_2' '2021-04-01 00:00:00FR23177_PM10_3'\n",
      " '2021-04-01 00:00:00FR23178_PM10_1' '2021-04-01 00:00:00FR23178_PM10_3'\n",
      " '2021-04-01 00:00:00FR23182_PM10_2' '2021-04-01 00:00:00FR23188_PM10_2'\n",
      " '2021-04-01 00:00:00FR23188_PM10_4' '2021-04-01 00:00:00FR23238_PM10_A'\n",
      " '2021-04-01 00:00:00FR23239_PM10_A' '2021-04-01 00:00:00FR23249_PM10_1'\n",
      " '2021-03-01 00:00:00FR23068_PM10_3' '2021-03-01 00:00:00FR23070_PM10_2'\n",
      " '2021-03-01 00:00:00FR23078_PM10_2' '2021-03-01 00:00:00FR23107_PM10_2'\n",
      " '2021-03-01 00:00:00FR23110_PM10_2' '2021-03-01 00:00:00FR23120_PM10_2'\n",
      " '2021-03-01 00:00:00FR23123_PM10_2' '2021-03-01 00:00:00FR23124_PM10_3'\n",
      " '2021-03-01 00:00:00FR23140_PM10_1' '2021-03-01 00:00:00FR23152_PM10_2'\n",
      " '2021-03-01 00:00:00FR23177_PM10_3' '2021-03-01 00:00:00FR23178_PM10_1'\n",
      " '2021-03-01 00:00:00FR23178_PM10_3' '2021-03-01 00:00:00FR23182_PM10_2'\n",
      " '2021-03-01 00:00:00FR23188_PM10_2' '2021-03-01 00:00:00FR23188_PM10_4'\n",
      " '2021-03-01 00:00:00FR23238_PM10_A' '2021-03-01 00:00:00FR23239_PM10_A'\n",
      " '2021-03-01 00:00:00FR23249_PM10_1' '2021-02-01 00:00:00FR23068_PM10_3'\n",
      " '2021-02-01 00:00:00FR23070_PM10_2' '2021-02-01 00:00:00FR23078_PM10_2'\n",
      " '2021-02-01 00:00:00FR23107_PM10_2' '2021-02-01 00:00:00FR23110_PM10_2'\n",
      " '2021-02-01 00:00:00FR23120_PM10_2' '2021-02-01 00:00:00FR23123_PM10_2'\n",
      " '2021-02-01 00:00:00FR23124_PM10_3' '2021-02-01 00:00:00FR23140_PM10_1'\n",
      " '2021-02-01 00:00:00FR23152_PM10_2' '2021-02-01 00:00:00FR23177_PM10_3'\n",
      " '2021-02-01 00:00:00FR23178_PM10_1' '2021-02-01 00:00:00FR23178_PM10_3'\n",
      " '2021-02-01 00:00:00FR23182_PM10_2' '2021-02-01 00:00:00FR23188_PM10_2'\n",
      " '2021-02-01 00:00:00FR23188_PM10_4' '2021-02-01 00:00:00FR23238_PM10_A'\n",
      " '2021-02-01 00:00:00FR23239_PM10_A' '2021-02-01 00:00:00FR23249_PM10_1'\n",
      " '2021-01-01 00:00:00FR23068_PM10_3' '2021-01-01 00:00:00FR23070_PM10_2'\n",
      " '2021-01-01 00:00:00FR23078_PM10_2' '2021-01-01 00:00:00FR23107_PM10_2'\n",
      " '2021-01-01 00:00:00FR23110_PM10_2' '2021-01-01 00:00:00FR23120_PM10_2'\n",
      " '2021-01-01 00:00:00FR23123_PM10_2' '2021-01-01 00:00:00FR23124_PM10_3'\n",
      " '2021-01-01 00:00:00FR23140_PM10_1' '2021-01-01 00:00:00FR23152_PM10_2'\n",
      " '2021-01-01 00:00:00FR23177_PM10_3' '2021-01-01 00:00:00FR23178_PM10_1'\n",
      " '2021-01-01 00:00:00FR23178_PM10_3' '2021-01-01 00:00:00FR23182_PM10_2'\n",
      " '2021-01-01 00:00:00FR23188_PM10_2' '2021-01-01 00:00:00FR23188_PM10_4'\n",
      " '2021-01-01 00:00:00FR23238_PM10_A' '2021-01-01 00:00:00FR23239_PM10_A'\n",
      " '2021-01-01 00:00:00FR23249_PM10_1']\n",
      "code_polluant------- ['24']\n",
      "code_point_de_prelevement ['FR23003_PM10' 'FR23068_PM10' 'FR23070_PM10' 'FR23078_PM10'\n",
      " 'FR23107_PM10' 'FR23110_PM10' 'FR23120_PM10' 'FR23123_PM10'\n",
      " 'FR23124_PM10' 'FR23152_PM10' 'FR23177_PM10' 'FR23178_PM10'\n",
      " 'FR23182_PM10' 'FR23188_PM10' 'FR23238_PM10' 'FR23239_PM10'\n",
      " 'FR23242_PM10' 'FR23249_PM10' 'FR23251_PM10' 'FR23140_PM10']\n",
      "code_station-------- ['FR23003' 'FR23068' 'FR23070' 'FR23078' 'FR23107' 'FR23110' 'FR23120'\n",
      " 'FR23123' 'FR23124' 'FR23152' 'FR23177' 'FR23178' 'FR23182' 'FR23188'\n",
      " 'FR23238' 'FR23239' 'FR23242' 'FR23249' 'FR23251' 'FR23140']\n",
      "nom_station--------- ['LA MEGRETAIS' 'FROSSAY' 'SAINT ETIENNE DE MONTLUC' 'SAINT EXUPERY'\n",
      " 'LA CHAUVINIERE' 'LEON BLUM' 'BEAUX ARTS' 'MAZAGRAN' 'LA TARDIERE'\n",
      " 'DELACROIX' \"SAINT DENIS D'ANJOU\" 'PARSCAU DU PLESSIS' 'SOURCES'\n",
      " 'CIM BOUTEILLERIE' 'TRENTEMOULT' 'LES COUETS' 'ROI RENE' 'CAMEE'\n",
      " 'FRERES GONCOURT' 'VICTOR HUGO']\n",
      "nom_commune--------- ['Donges' 'Frossay' 'Saint-Etienne-De-Montluc' 'Cholet' 'Nantes'\n",
      " 'Saint-Nazaire' 'Angers' 'Laval' 'La Tardière' 'La Roche-Sur-Yon'\n",
      " \"Saint-Denis-D'Anjou\" 'Le Mans' 'Rezé' 'Bouguenais' 'Montoir-De-Bretagne']\n",
      "code_commune_pm10--- ['44052' '44061' '44158' '49099' '44109' '44184' '49007' '53130' '85289'\n",
      " '85191' '53210' '72181' '44143' '44020' '44103']\n",
      "departement_code---- ['44' '49' '53' '85' '72']\n",
      "departement_nom----- ['Loire-Atlantique' 'Maine-et-Loire' 'Mayenne' 'Vendée' 'Sarthe']\n",
      "date_heure_tu------- ['2023-12-01T00:00:00Z' '2023-11-01T00:00:00Z' '2023-10-01T00:00:00Z'\n",
      " '2023-09-01T00:00:00Z' '2023-08-01T00:00:00Z' '2023-07-01T00:00:00Z'\n",
      " '2023-06-01T00:00:00Z' '2023-05-01T00:00:00Z' '2023-04-01T00:00:00Z'\n",
      " '2023-03-01T00:00:00Z' '2023-02-01T00:00:00Z' '2023-01-01T00:00:00Z'\n",
      " '2022-12-01T00:00:00Z' '2022-11-01T00:00:00Z' '2022-10-01T00:00:00Z'\n",
      " '2022-09-01T00:00:00Z' '2022-08-01T00:00:00Z' '2022-07-01T00:00:00Z'\n",
      " '2022-06-01T00:00:00Z' '2022-05-01T00:00:00Z' '2022-04-01T00:00:00Z'\n",
      " '2022-03-01T00:00:00Z' '2022-02-01T00:00:00Z' '2022-01-01T00:00:00Z'\n",
      " '2021-12-01T00:00:00Z' '2021-11-01T00:00:00Z' '2021-10-01T00:00:00Z'\n",
      " '2021-09-01T00:00:00Z' '2021-08-01T00:00:00Z' '2021-07-01T00:00:00Z'\n",
      " '2021-06-01T00:00:00Z' '2021-05-01T00:00:00Z' '2021-04-01T00:00:00Z'\n",
      " '2021-03-01T00:00:00Z' '2021-02-01T00:00:00Z' '2021-01-01T00:00:00Z']\n",
      "date_heure_local---- ['2023-12-01T01:00:00+01:00' '2023-11-01T01:00:00+01:00'\n",
      " '2023-10-01T02:00:00+02:00' '2023-09-01T02:00:00+02:00'\n",
      " '2023-08-01T02:00:00+02:00' '2023-07-01T02:00:00+02:00'\n",
      " '2023-06-01T02:00:00+02:00' '2023-05-01T02:00:00+02:00'\n",
      " '2023-04-01T02:00:00+02:00' '2023-03-01T01:00:00+01:00'\n",
      " '2023-02-01T01:00:00+01:00' '2023-01-01T01:00:00+01:00'\n",
      " '2022-12-01T01:00:00+01:00' '2022-11-01T01:00:00+01:00'\n",
      " '2022-10-01T02:00:00+02:00' '2022-09-01T02:00:00+02:00'\n",
      " '2022-08-01T02:00:00+02:00' '2022-07-01T02:00:00+02:00'\n",
      " '2022-06-01T02:00:00+02:00' '2022-05-01T02:00:00+02:00'\n",
      " '2022-04-01T02:00:00+02:00' '2022-03-01T01:00:00+01:00'\n",
      " '2022-02-01T01:00:00+01:00' '2022-01-01T01:00:00+01:00'\n",
      " '2021-12-01T01:00:00+01:00' '2021-11-01T01:00:00+01:00'\n",
      " '2021-10-01T02:00:00+02:00' '2021-09-01T02:00:00+02:00'\n",
      " '2021-08-01T02:00:00+02:00' '2021-07-01T02:00:00+02:00'\n",
      " '2021-06-01T02:00:00+02:00' '2021-05-01T02:00:00+02:00'\n",
      " '2021-04-01T02:00:00+02:00' '2021-03-01T01:00:00+01:00'\n",
      " '2021-02-01T01:00:00+01:00' '2021-01-01T01:00:00+01:00']\n",
      "code_configuration_de_mesure ['FR23003_PM10_1' 'FR23068_PM10_4' 'FR23070_PM10_3' 'FR23078_PM10_2'\n",
      " 'FR23107_PM10_4' 'FR23110_PM10_3' 'FR23120_PM10_4' 'FR23123_PM10_2'\n",
      " 'FR23124_PM10_3' 'FR23124_PM10_4' 'FR23152_PM10_4' 'FR23177_PM10_4'\n",
      " 'FR23178_PM10_3' 'FR23182_PM10_3' 'FR23188_PM10_4' 'FR23238_PM10_A'\n",
      " 'FR23239_PM10_A' 'FR23242_PM10_1' 'FR23249_PM10_1' 'FR23251_PM10_1'\n",
      " 'FR23070_PM10_2' 'FR23110_PM10_2' 'FR23152_PM10_2' 'FR23178_PM10_1'\n",
      " 'FR23182_PM10_2' 'FR23068_PM10_3' 'FR23177_PM10_3' 'FR23120_PM10_2'\n",
      " 'FR23107_PM10_2' 'FR23140_PM10_1' 'FR23188_PM10_2']\n",
      "nom_de_la_region---- ['Pays de la Loire' nan]\n",
      "code_departement---- ['44' nan '49' '53' '85' '72']\n",
      "code_arrondissement- ['3' nan '2' '1']\n",
      "code_canton--------- ['27' '23' nan '99' '96' '98' '04' '97' '21']\n",
      "code_commune_pop---- ['44052' '44061' nan '49099' '44109' '44184' '49007' '53130' '85289'\n",
      " '72181' '44143' '44020']\n",
      "nom_de_la_commune--- ['Donges' 'Frossay' nan 'Cholet' 'Nantes' 'Saint-Nazaire' 'Angers' 'Laval'\n",
      " 'La Tardière' 'Le Mans' 'Rezé' 'Bouguenais']\n",
      "epci---------------- [\"Communauté d'agglomération Région Nazairienne et de l'Estuaire (la CARENE)\"\n",
      " 'Communauté de communes du Sud Estuaire' nan 'Agglomération du Choletais'\n",
      " 'Communauté Urbaine de Nantes Métropole'\n",
      " \"Communauté Urbaine d'Angers Loire Métropole\" 'Laval Agglomération'\n",
      " 'Communauté de communes du Pays de la Châtaigneraie'\n",
      " 'Communauté Urbaine Le Mans Métropole']\n",
      "departement--------- ['Loire-Atlantique' nan 'Maine-et-Loire' 'Mayenne' 'Vendée' 'Sarthe']\n",
      "tranche_population-- ['Plus de 5 000 habitants' 'Moins de 3 500 habitants' nan]\n",
      "geo_shape.type------ ['Feature' nan]\n"
     ]
    },
    {
     "name": "stderr",
     "output_type": "stream",
     "text": [
      "/var/folders/1c/70ngsvd53b5fbc_qfg773ckc0000gn/T/ipykernel_5389/2406762181.py:2: FutureWarning: DataFrame.applymap has been deprecated. Use DataFrame.map instead.\n",
      "  dfPM10 = dfPM10.applymap(lambda x: str(x) if isinstance(x, dict) else x)\n"
     ]
    },
    {
     "ename": "TypeError",
     "evalue": "unhashable type: 'list'",
     "output_type": "error",
     "traceback": [
      "\u001B[0;31m---------------------------------------------------------------------------\u001B[0m",
      "\u001B[0;31mTypeError\u001B[0m                                 Traceback (most recent call last)",
      "Cell \u001B[0;32mIn[50], line 6\u001B[0m\n\u001B[1;32m      4\u001B[0m \u001B[38;5;66;03m# Afficher les valeurs uniques des colonnes de type object\u001B[39;00m\n\u001B[1;32m      5\u001B[0m \u001B[38;5;28;01mfor\u001B[39;00m col \u001B[38;5;129;01min\u001B[39;00m dfPM10\u001B[38;5;241m.\u001B[39mselect_dtypes(include\u001B[38;5;241m=\u001B[39m[\u001B[38;5;124m'\u001B[39m\u001B[38;5;124mobject\u001B[39m\u001B[38;5;124m'\u001B[39m])\u001B[38;5;241m.\u001B[39mcolumns:\n\u001B[0;32m----> 6\u001B[0m     \u001B[38;5;28mprint\u001B[39m(\u001B[38;5;124mf\u001B[39m\u001B[38;5;124m'\u001B[39m\u001B[38;5;132;01m{\u001B[39;00mcol\u001B[38;5;250m \u001B[39m\u001B[38;5;132;01m:\u001B[39;00m\u001B[38;5;124m-<20\u001B[39m\u001B[38;5;132;01m}\u001B[39;00m\u001B[38;5;124m \u001B[39m\u001B[38;5;132;01m{\u001B[39;00m\u001B[43mdfPM10\u001B[49m\u001B[43m[\u001B[49m\u001B[43mcol\u001B[49m\u001B[43m]\u001B[49m\u001B[38;5;241;43m.\u001B[39;49m\u001B[43munique\u001B[49m\u001B[43m(\u001B[49m\u001B[43m)\u001B[49m\u001B[38;5;132;01m}\u001B[39;00m\u001B[38;5;124m'\u001B[39m)\n",
      "File \u001B[0;32m~/PycharmProjects/indiceATMO/.venv/lib/python3.12/site-packages/pandas/core/series.py:2407\u001B[0m, in \u001B[0;36mSeries.unique\u001B[0;34m(self)\u001B[0m\n\u001B[1;32m   2344\u001B[0m \u001B[38;5;28;01mdef\u001B[39;00m \u001B[38;5;21munique\u001B[39m(\u001B[38;5;28mself\u001B[39m) \u001B[38;5;241m-\u001B[39m\u001B[38;5;241m>\u001B[39m ArrayLike:  \u001B[38;5;66;03m# pylint: disable=useless-parent-delegation\u001B[39;00m\n\u001B[1;32m   2345\u001B[0m \u001B[38;5;250m    \u001B[39m\u001B[38;5;124;03m\"\"\"\u001B[39;00m\n\u001B[1;32m   2346\u001B[0m \u001B[38;5;124;03m    Return unique values of Series object.\u001B[39;00m\n\u001B[1;32m   2347\u001B[0m \n\u001B[0;32m   (...)\u001B[0m\n\u001B[1;32m   2405\u001B[0m \u001B[38;5;124;03m    Categories (3, object): ['a' < 'b' < 'c']\u001B[39;00m\n\u001B[1;32m   2406\u001B[0m \u001B[38;5;124;03m    \"\"\"\u001B[39;00m\n\u001B[0;32m-> 2407\u001B[0m     \u001B[38;5;28;01mreturn\u001B[39;00m \u001B[38;5;28;43msuper\u001B[39;49m\u001B[43m(\u001B[49m\u001B[43m)\u001B[49m\u001B[38;5;241;43m.\u001B[39;49m\u001B[43munique\u001B[49m\u001B[43m(\u001B[49m\u001B[43m)\u001B[49m\n",
      "File \u001B[0;32m~/PycharmProjects/indiceATMO/.venv/lib/python3.12/site-packages/pandas/core/base.py:1025\u001B[0m, in \u001B[0;36mIndexOpsMixin.unique\u001B[0;34m(self)\u001B[0m\n\u001B[1;32m   1023\u001B[0m     result \u001B[38;5;241m=\u001B[39m values\u001B[38;5;241m.\u001B[39munique()\n\u001B[1;32m   1024\u001B[0m \u001B[38;5;28;01melse\u001B[39;00m:\n\u001B[0;32m-> 1025\u001B[0m     result \u001B[38;5;241m=\u001B[39m \u001B[43malgorithms\u001B[49m\u001B[38;5;241;43m.\u001B[39;49m\u001B[43munique1d\u001B[49m\u001B[43m(\u001B[49m\u001B[43mvalues\u001B[49m\u001B[43m)\u001B[49m\n\u001B[1;32m   1026\u001B[0m \u001B[38;5;28;01mreturn\u001B[39;00m result\n",
      "File \u001B[0;32m~/PycharmProjects/indiceATMO/.venv/lib/python3.12/site-packages/pandas/core/algorithms.py:401\u001B[0m, in \u001B[0;36munique\u001B[0;34m(values)\u001B[0m\n\u001B[1;32m    307\u001B[0m \u001B[38;5;28;01mdef\u001B[39;00m \u001B[38;5;21munique\u001B[39m(values):\n\u001B[1;32m    308\u001B[0m \u001B[38;5;250m    \u001B[39m\u001B[38;5;124;03m\"\"\"\u001B[39;00m\n\u001B[1;32m    309\u001B[0m \u001B[38;5;124;03m    Return unique values based on a hash table.\u001B[39;00m\n\u001B[1;32m    310\u001B[0m \n\u001B[0;32m   (...)\u001B[0m\n\u001B[1;32m    399\u001B[0m \u001B[38;5;124;03m    array([('a', 'b'), ('b', 'a'), ('a', 'c')], dtype=object)\u001B[39;00m\n\u001B[1;32m    400\u001B[0m \u001B[38;5;124;03m    \"\"\"\u001B[39;00m\n\u001B[0;32m--> 401\u001B[0m     \u001B[38;5;28;01mreturn\u001B[39;00m \u001B[43munique_with_mask\u001B[49m\u001B[43m(\u001B[49m\u001B[43mvalues\u001B[49m\u001B[43m)\u001B[49m\n",
      "File \u001B[0;32m~/PycharmProjects/indiceATMO/.venv/lib/python3.12/site-packages/pandas/core/algorithms.py:440\u001B[0m, in \u001B[0;36munique_with_mask\u001B[0;34m(values, mask)\u001B[0m\n\u001B[1;32m    438\u001B[0m table \u001B[38;5;241m=\u001B[39m hashtable(\u001B[38;5;28mlen\u001B[39m(values))\n\u001B[1;32m    439\u001B[0m \u001B[38;5;28;01mif\u001B[39;00m mask \u001B[38;5;129;01mis\u001B[39;00m \u001B[38;5;28;01mNone\u001B[39;00m:\n\u001B[0;32m--> 440\u001B[0m     uniques \u001B[38;5;241m=\u001B[39m \u001B[43mtable\u001B[49m\u001B[38;5;241;43m.\u001B[39;49m\u001B[43munique\u001B[49m\u001B[43m(\u001B[49m\u001B[43mvalues\u001B[49m\u001B[43m)\u001B[49m\n\u001B[1;32m    441\u001B[0m     uniques \u001B[38;5;241m=\u001B[39m _reconstruct_data(uniques, original\u001B[38;5;241m.\u001B[39mdtype, original)\n\u001B[1;32m    442\u001B[0m     \u001B[38;5;28;01mreturn\u001B[39;00m uniques\n",
      "File \u001B[0;32mpandas/_libs/hashtable_class_helper.pxi:7248\u001B[0m, in \u001B[0;36mpandas._libs.hashtable.PyObjectHashTable.unique\u001B[0;34m()\u001B[0m\n",
      "File \u001B[0;32mpandas/_libs/hashtable_class_helper.pxi:7195\u001B[0m, in \u001B[0;36mpandas._libs.hashtable.PyObjectHashTable._unique\u001B[0;34m()\u001B[0m\n",
      "\u001B[0;31mTypeError\u001B[0m: unhashable type: 'list'"
     ]
    }
   ],
   "source": [
    "# Convertir les colonnes contenant des dictionnaires en chaînes de caractères\n",
    "dfPM10 = dfPM10.applymap(lambda x: str(x) if isinstance(x, dict) else x)\n",
    "\n",
    "# Afficher les valeurs uniques des colonnes de type object\n",
    "for col in dfPM10.select_dtypes(include=['object']).columns:\n",
    "    print(f'{col :-<20} {dfPM10[col].unique()}')\n"
   ],
   "metadata": {
    "collapsed": false,
    "ExecuteTime": {
     "end_time": "2024-05-21T14:00:32.999105Z",
     "start_time": "2024-05-21T14:00:32.849076Z"
    }
   },
   "id": "d8ef9123eadc98b9",
   "execution_count": 50
  },
  {
   "cell_type": "markdown",
   "source": [
    "Observations : \n",
    "Pour les colonnes de types float64, il a également la présence de NaN : \n",
    "- valeur_originale\n",
    "- valeur\n",
    "- code_region\n",
    "- population_municipale\n",
    "- population_comptee_a_part\n",
    "- population_totale\n",
    "- geo_point_2d.lon\n",
    "- geo_point_2d.lat\n",
    "\n",
    "Nous allons donc supprimer les lignes ou ces dernières sont présentes, et donc supprimer toutes les valeurs qui seront négatives pour prévoir si jamais ces valeurs seraient rentrées par erreurs\n",
    "\n",
    "Pour les colonnes de types objects, il a également la présence de NaN : \n",
    "- nom_de_la_region\n",
    "- code_departement\n",
    "- code_arrondissement\n",
    "- code_canton\n",
    "- code_commune_pop\n",
    "- departement\n",
    "- tranche_population\n",
    "- geo_shape.type\n",
    "\n",
    "\n",
    "On retrouve ici la présence des 172 lignes vides qu'on va donc supprimées."
   ],
   "metadata": {
    "collapsed": false
   },
   "id": "9cdda7775597b3df"
  },
  {
   "cell_type": "markdown",
   "source": [
    "### Supression des valeurs \"nan\" et \"-999\" pour les colonnes de types float64"
   ],
   "metadata": {
    "collapsed": false
   },
   "id": "42af12d21d103f73"
  },
  {
   "cell_type": "code",
   "outputs": [],
   "source": [
    "# Liste des colonnes à traiter\n",
    "colonnes_a_traiter = [\n",
    "    'valeur_originale', 'valeur', 'code_region', 'population_municipale',\n",
    "    'population_comptee_a_part', 'population_totale', 'geo_point_2d.lon', 'geo_point_2d.lat'\n",
    "]\n",
    "\n",
    "# Supprimer les lignes comportant des valeurs \"NaN\" dans les colonnes spécifiées\n",
    "dfPM10.dropna(subset=colonnes_a_traiter, inplace=True)\n",
    "\n",
    "# Supprimer les lignes comportant des valeurs négatives dans les colonnes spécifiées\n",
    "dfPM10 = dfPM10[(dfPM10['valeur'] >= 0) & (dfPM10['valeur_originale'] >= 0) &\n",
    "                (dfPM10['population_municipale'] >= 0) & (dfPM10['population_comptee_a_part'] >= 0) &\n",
    "                (dfPM10['population_totale'] >= 0) & (dfPM10['geo_point_2d.lon'] >= 0) & \n",
    "                (dfPM10['geo_point_2d.lat'] >= 0)]\n"
   ],
   "metadata": {
    "collapsed": false,
    "ExecuteTime": {
     "start_time": "2024-05-21T14:00:32.874554Z"
    }
   },
   "id": "465b6190cd0b59bc",
   "execution_count": null
  },
  {
   "cell_type": "code",
   "outputs": [],
   "source": [
    "for col in dfPM10.select_dtypes('float64'):\n",
    "    print(f'{col :-<20} {dfPM10[col].unique()}')"
   ],
   "metadata": {
    "collapsed": false,
    "ExecuteTime": {
     "start_time": "2024-05-21T14:00:32.875533Z"
    }
   },
   "id": "5ba8beb53c713804",
   "execution_count": null
  },
  {
   "cell_type": "markdown",
   "source": [
    "### Supression des valeurs \"nan\" et \"-999\" pour les colonnes de types objects"
   ],
   "metadata": {
    "collapsed": false
   },
   "id": "1f2e42aa00c08bd9"
  },
  {
   "cell_type": "code",
   "outputs": [],
   "source": [
    "# Liste des colonnes de type object à traiter\n",
    "colonnes_objects = [\n",
    "    'nom_de_la_region', 'code_departement', 'code_arrondissement', \n",
    "    'code_canton', 'code_commune_pop', 'departement', \n",
    "    'tranche_population', 'geo_shape.type'\n",
    "]\n",
    "# Supprimer les lignes comportant des chaînes vides dans les colonnes de type object\n",
    "for col in colonnes_objects:\n",
    "    dfPM10 = dfPM10[dfPM10[col].str.strip() != '']\n"
   ],
   "metadata": {
    "collapsed": false,
    "ExecuteTime": {
     "start_time": "2024-05-21T14:00:32.876732Z"
    }
   },
   "id": "f86a1531864bb365",
   "execution_count": null
  },
  {
   "cell_type": "code",
   "outputs": [],
   "source": [
    "# Afficher les valeurs uniques des colonnes de type object\n",
    "for col in dfPM10.select_dtypes(include=['object']).columns:\n",
    "    print(f'{col :-<20} {dfPM10[col].unique()}')"
   ],
   "metadata": {
    "collapsed": false,
    "ExecuteTime": {
     "start_time": "2024-05-21T14:00:32.877757Z"
    }
   },
   "id": "a64e7e0b2b775c3e",
   "execution_count": null
  },
  {
   "cell_type": "markdown",
   "source": [
    "## Comparaison avec les valeurs de seuils"
   ],
   "metadata": {
    "collapsed": false
   },
   "id": "293b9939d4b6f34"
  },
  {
   "cell_type": "markdown",
   "source": [
    "Nous faisons le choix dans un premier temps de ne traiter que les données mensuelles, en prenant en granularité les données mensuelles, de manière à comparer les trimestres des différentes années"
   ],
   "metadata": {
    "collapsed": false
   },
   "id": "1942909655004231"
  },
  {
   "cell_type": "code",
   "outputs": [],
   "source": [
    "# Définition des seuils pour les particules PM10 en µg/m3\n",
    "OBJECTIF_QUALITE_PM10 = 30  # en moyenne annuelle\n",
    "VALEUR_LIMITE_ANNUELLE_PM10 = 40  # en moyenne annuelle\n",
    "\n",
    "# Afficher les seuils définis\n",
    "print(f\"Objectif de qualité PM10 : {OBJECTIF_QUALITE_PM10} µg/m3 (en moyenne annuelle)\")\n",
    "print(f\"Valeur limite annuelle PM10 : {VALEUR_LIMITE_ANNUELLE_PM10} µg/m3 (en moyenne annuelle)\")\n"
   ],
   "metadata": {
    "collapsed": false,
    "ExecuteTime": {
     "start_time": "2024-05-21T14:00:32.878774Z"
    }
   },
   "id": "36a0ed39b4a8f3ea",
   "execution_count": null
  },
  {
   "cell_type": "markdown",
   "source": [
    "Création d'une variable cible qui vaut 1 si la valeur est supérieure au seuil et 0 sinon\n",
    "On ajoute ces colonnes au dataframe"
   ],
   "metadata": {
    "collapsed": false
   },
   "id": "6b5a37acbe5b3d18"
  },
  {
   "cell_type": "code",
   "outputs": [],
   "source": [
    "# Convertir les colonnes de date en format datetime\n",
    "dfPM10['date_heure_tu'] = pd.to_datetime(dfPM10['date_heure_tu'])\n",
    "\n",
    "# Ajouter des colonnes de comparaison avec les seuils (variable cible)\n",
    "dfPM10['cible_objectif_qualite_PM10'] = (dfPM10['valeur'] > OBJECTIF_QUALITE_PM10).astype(int)\n",
    "dfPM10['cible_valeur_limite_annuelle_PM10'] = (dfPM10['valeur'] > VALEUR_LIMITE_ANNUELLE_PM10).astype(int)\n",
    "\n",
    "# Afficher les premières lignes du DataFrame avec les nouvelles colonnes de comparaison\n",
    "print(dfPM10.head())\n",
    "\n",
    "# Sauvegarder le DataFrame avec les nouvelles colonnes de comparaison\n",
    "dfPM10.to_pickle('PM10_with_comparison.pkl')\n"
   ],
   "metadata": {
    "collapsed": false,
    "ExecuteTime": {
     "start_time": "2024-05-21T14:00:32.879727Z"
    }
   },
   "id": "4b8cdb6040084726",
   "execution_count": null
  },
  {
   "cell_type": "markdown",
   "source": [
    "### Distribution des variables cibles : "
   ],
   "metadata": {
    "collapsed": false
   },
   "id": "edd2e7777e3f18eb"
  },
  {
   "cell_type": "code",
   "outputs": [],
   "source": [
    "# Afficher le nombre de valeurs 0 et 1 dans la colonne 'cible_objectif_qualite_PM10'\n",
    "print(dfPM10['cible_objectif_qualite_PM10'].value_counts())\n",
    "print(dfPM10['cible_valeur_limite_annuelle_PM10'].value_counts())\n"
   ],
   "metadata": {
    "collapsed": false,
    "ExecuteTime": {
     "start_time": "2024-05-21T14:00:32.880595Z"
    }
   },
   "id": "b17b2b4411a8c94d",
   "execution_count": null
  },
  {
   "cell_type": "markdown",
   "source": [
    "Observations : on remarque ici qu'aucune valeur ne dépasse le seuil, nous avons donc fait le choix de modifier ce dernier de manière arbitraire pour rendre l'exercice plus intéressant, toutes les valeurs seront donc divisées par 2\n",
    "De plus pour visualiser les résultats par mois, on décide de créer une valeur de seuil mensuelle nommé \"OBJECTIF_QUALITE_PM10_MENSUEL\" et qui aura pour valeur 35 (car la moyenne annuelle étant à 30 et la valeur limite annuelle étant à 40 on prend l'entre deux) qu'on va venir diviser par 2 pour avoir des résultats, on va prendre 18 pour arrondir à la valeur au-dessus"
   ],
   "metadata": {
    "collapsed": false
   },
   "id": "6f451cc0ba25696c"
  },
  {
   "cell_type": "code",
   "outputs": [],
   "source": [
    "# Définition des nouveaux seuils pour les particules PM10 en µg/m3\n",
    "OBJECTIF_QUALITE_PM10 = 15  # en moyenne annuelle\n",
    "VALEUR_LIMITE_ANNUELLE_PM10 = 20  # en moyenne annuelle\n",
    "OBJECTIF_QUALITE_PM10_MENSUEL = 18 #en moyenne mensuelle\n",
    "\n",
    "# Afficher les nouveaux seuils définis\n",
    "print(f\"Objectif de qualité PM10 : {OBJECTIF_QUALITE_PM10} µg/m3 (en moyenne annuelle)\")\n",
    "print(f\"Valeur limite annuelle PM10 : {VALEUR_LIMITE_ANNUELLE_PM10} µg/m3 (en moyenne annuelle)\")\n",
    "print(f\"Objectif de qualité PM10 mensuelle : {OBJECTIF_QUALITE_PM10_MENSUEL} µg/m3 (en moyenne mensuelle)\")"
   ],
   "metadata": {
    "collapsed": false,
    "ExecuteTime": {
     "start_time": "2024-05-21T14:00:32.881557Z"
    }
   },
   "id": "a7fa3a9d0e31c101",
   "execution_count": null
  },
  {
   "cell_type": "code",
   "outputs": [],
   "source": [
    "# Convertir les colonnes de date en format datetime\n",
    "dfPM10['date_heure_tu'] = pd.to_datetime(dfPM10['date_heure_tu'])\n",
    "\n",
    "# Ajouter des colonnes de comparaison avec les seuils (variable cible)\n",
    "dfPM10['cible_objectif_qualite_PM10'] = (dfPM10['valeur'] > OBJECTIF_QUALITE_PM10).astype(int)\n",
    "dfPM10['cible_valeur_limite_annuelle_PM10'] = (dfPM10['valeur'] > VALEUR_LIMITE_ANNUELLE_PM10).astype(int)\n",
    "dfPM10['cible_objectif_qualite_PM10_mensuelle'] = (dfPM10['valeur'] > OBJECTIF_QUALITE_PM10_MENSUEL).astype(int)\n",
    "\n",
    "# Afficher les premières lignes du DataFrame avec les nouvelles colonnes de comparaison\n",
    "print(dfPM10.head())\n",
    "\n",
    "# Sauvegarder le DataFrame avec les nouvelles colonnes de comparaison\n",
    "dfPM10.to_pickle('PM10_with_comparison.pkl')"
   ],
   "metadata": {
    "collapsed": false,
    "ExecuteTime": {
     "start_time": "2024-05-21T14:00:32.882412Z"
    }
   },
   "id": "a2348003b1e5d9b6",
   "execution_count": null
  },
  {
   "cell_type": "code",
   "outputs": [],
   "source": [
    "# Afficher le nombre de valeurs 0 et 1 dans la colonne 'cible_objectif_qualite_PM10'\n",
    "print(dfPM10['cible_objectif_qualite_PM10'].value_counts())\n",
    "print(dfPM10['cible_valeur_limite_annuelle_PM10'].value_counts())\n",
    "print(dfPM10['cible_objectif_qualite_PM10_mensuelle'].value_counts())\n"
   ],
   "metadata": {
    "collapsed": false,
    "ExecuteTime": {
     "start_time": "2024-05-21T14:00:32.883683Z"
    }
   },
   "id": "30a18729e2598863",
   "execution_count": null
  },
  {
   "cell_type": "markdown",
   "source": [
    "Observations : \n",
    "- Les variables cible_objectif_qualite_PM10 et cible_objectif_qualite_PM10_mensuelle sont plutot équilibrés, il y à donc un problème sur l'objectif qualité PM10, avec beaucoup d'alertes\n",
    "- La variable cible_valeur_limite_annuelle_PM10 est plutot déséquilibré, l'indice semble donc plutôt correcte."
   ],
   "metadata": {
    "collapsed": false
   },
   "id": "9ebe523927044656"
  },
  {
   "cell_type": "markdown",
   "source": [
    "## Visualisation des données par des graphiques"
   ],
   "metadata": {
    "collapsed": false
   },
   "id": "d6d309fe76d3652d"
  },
  {
   "cell_type": "markdown",
   "source": [
    "Graphique pour voir par année, et par département quand est-ce qu'on à dépassé le seuil de cible_objectif_qualité_PM10 (valeur de seuil = 15, en rouge quand depassé)"
   ],
   "metadata": {
    "collapsed": false
   },
   "id": "c5ea9664f89763da"
  },
  {
   "cell_type": "code",
   "outputs": [],
   "source": [
    "# Ajouter des colonnes pour les années\n",
    "dfPM10['date'] = pd.to_datetime(dfPM10['date_heure_tu']).dt.tz_localize(None)\n",
    "dfPM10['année'] = dfPM10['date'].dt.year\n",
    "\n",
    "# Calculer la moyenne annuelle de PM10 pour chaque département\n",
    "annual_means = dfPM10.groupby(['année', 'departement_nom'])['valeur'].mean().reset_index()\n",
    "\n",
    "# Ajouter une colonne indiquant si la moyenne annuelle dépasse les seuils\n",
    "annual_means['depasse_seuil'] = (annual_means['valeur'] > OBJECTIF_QUALITE_PM10) | (annual_means['valeur'] > VALEUR_LIMITE_ANNUELLE_PM10)\n",
    "\n",
    "# Créer la palette de couleurs\n",
    "annual_means['color'] = ['red' if x else 'blue' for x in annual_means['depasse_seuil']]\n",
    "\n",
    "# Créer un graphique en bâtons pour chaque année\n",
    "years = annual_means['année'].unique()\n",
    "\n",
    "for year in years:\n",
    "    plt.figure(figsize=(15, 8))\n",
    "    yearly_data = annual_means[annual_means['année'] == year]\n",
    "    colors = yearly_data['color']\n",
    "    plt.bar(yearly_data['departement_nom'], yearly_data['valeur'], color=colors)\n",
    "    \n",
    "    # Ajouter des lignes horizontales pour les seuils\n",
    "    plt.axhline(y=OBJECTIF_QUALITE_PM10, color='green', linestyle='--', linewidth=2, label=f'Seuil {OBJECTIF_QUALITE_PM10}')\n",
    "    plt.axhline(y=VALEUR_LIMITE_ANNUELLE_PM10, color='orange', linestyle='--', linewidth=2, label=f'Seuil {VALEUR_LIMITE_ANNUELLE_PM10}')\n",
    "    \n",
    "    plt.xlabel('Département')\n",
    "    plt.ylabel('Moyenne annuelle PM10')\n",
    "    plt.title(f'Moyennes annuelles des valeurs PM10 par département pour l\\'année {year}')\n",
    "    plt.legend(title='Seuils')\n",
    "    plt.xticks(rotation=90)  # Rotation pour mieux afficher les noms des départements\n",
    "    plt.show()\n",
    "\n",
    "\n"
   ],
   "metadata": {
    "collapsed": false,
    "ExecuteTime": {
     "start_time": "2024-05-21T14:00:32.884536Z"
    }
   },
   "id": "2ce519d2bd681230",
   "execution_count": null
  },
  {
   "cell_type": "markdown",
   "source": [
    "Graphique pour voir par année, quand est-ce qu'on à dépassé le seuil de cible_objectif_qualité_PM10 (valeur de seuil = 15, en rouge quand depassé)"
   ],
   "metadata": {
    "collapsed": false
   },
   "id": "dbb7e9332d2b66f2"
  },
  {
   "cell_type": "code",
   "outputs": [],
   "source": [
    "# Grouper les données par année\n",
    "dfPM10['année'] = dfPM10['date_heure_tu'].dt.year\n",
    "annual_means = dfPM10.groupby('année')['valeur'].mean().reset_index()\n",
    "\n",
    "# Créer la colonne indiquant si la moyenne annuelle dépasse le seuil\n",
    "annual_means['depasse_seuil'] = (annual_means['valeur'] > OBJECTIF_QUALITE_PM10).astype(int)\n",
    "\n",
    "# Créer le diagramme en bâtons\n",
    "plt.figure(figsize=(10, 5))\n",
    "colors = ['red' if x == 1 else 'blue' for x in annual_means['depasse_seuil']]\n",
    "plt.bar(annual_means['année'], annual_means['valeur'], color=colors)\n",
    "plt.axhline(y=OBJECTIF_QUALITE_PM10, color='green', linestyle='--', linewidth=2, label=f'Seuil {OBJECTIF_QUALITE_PM10_MENSUEL}')\n",
    "plt.xlabel('Année')\n",
    "plt.ylabel('Moyenne annuelle PM10')\n",
    "plt.title('Moyennes annuelles des valeurs PM10')\n",
    "plt.xticks(annual_means['année'])\n",
    "plt.show()\n"
   ],
   "metadata": {
    "collapsed": false,
    "ExecuteTime": {
     "start_time": "2024-05-21T14:00:32.885274Z"
    }
   },
   "id": "57bedd4de90c8c01",
   "execution_count": null
  },
  {
   "cell_type": "markdown",
   "source": [
    "Graphique pour voir par année, quand est-ce qu'on à dépassé le seuil de la valeur limite annuelle (valeur de seuil = 20, en rouge quand depassé)"
   ],
   "metadata": {
    "collapsed": false
   },
   "id": "cadd481835c0241b"
  },
  {
   "cell_type": "code",
   "outputs": [],
   "source": [
    "# Créer la colonne indiquant si la moyenne annuelle dépasse le seuil\n",
    "annual_means['depasse_seuil'] = (annual_means['valeur'] > VALEUR_LIMITE_ANNUELLE_PM10).astype(int)\n",
    "\n",
    "# Créer le diagramme en bâtons\n",
    "plt.figure(figsize=(10, 5))\n",
    "colors = ['red' if x == 1 else 'blue' for x in annual_means['depasse_seuil']]\n",
    "plt.bar(annual_means['année'], annual_means['valeur'], color=colors)\n",
    "plt.axhline(y=VALEUR_LIMITE_ANNUELLE_PM10, color='green', linestyle='--', linewidth=2, label=f'Seuil {VALEUR_LIMITE_ANNUELLE_PM10}')\n",
    "plt.xlabel('Année')\n",
    "plt.ylabel('Moyenne annuelle PM10')\n",
    "plt.title('Moyennes annuelles des valeurs PM10')\n",
    "plt.xticks(annual_means['année'])\n",
    "plt.legend()\n",
    "plt.show()\n"
   ],
   "metadata": {
    "collapsed": false,
    "ExecuteTime": {
     "start_time": "2024-05-21T14:00:32.885960Z"
    }
   },
   "id": "ab39ff63171e8418",
   "execution_count": null
  },
  {
   "cell_type": "markdown",
   "source": [
    "#### Fusion des 2 graphiques, si un des seuils est dépassé, la colonne devient rouge"
   ],
   "metadata": {
    "collapsed": false
   },
   "id": "f4f88cd35e20718d"
  },
  {
   "cell_type": "code",
   "outputs": [],
   "source": [
    "# Créer la colonne indiquant si la moyenne annuelle dépasse le seuil\n",
    "annual_means['depasse_seuil'] = ((annual_means['valeur'] > OBJECTIF_QUALITE_PM10).astype(int) |\n",
    "                                (annual_means['valeur'] > VALEUR_LIMITE_ANNUELLE_PM10).astype(int))\n",
    "\n",
    "# Créer le diagramme en bâtons\n",
    "plt.figure(figsize=(10, 5))\n",
    "colors = ['red' if x == 1 else 'blue' for x in annual_means['depasse_seuil']]\n",
    "plt.bar(annual_means['année'], annual_means['valeur'], color=colors)\n",
    "plt.axhline(y=OBJECTIF_QUALITE_PM10, color='green', linestyle='--', linewidth=2, label=f'Seuil {OBJECTIF_QUALITE_PM10_MENSUEL}')\n",
    "plt.axhline(y=VALEUR_LIMITE_ANNUELLE_PM10, color='orange', linestyle='--', linewidth=2, label=f'Seuil {VALEUR_LIMITE_ANNUELLE_PM10}')\n",
    "plt.xlabel('Année')\n",
    "plt.ylabel('Moyenne annuelle PM10')\n",
    "plt.title('Moyennes annuelles des valeurs PM10')\n",
    "plt.xticks(annual_means['année'])\n",
    "plt.legend()\n",
    "plt.show()"
   ],
   "metadata": {
    "collapsed": false,
    "ExecuteTime": {
     "start_time": "2024-05-21T14:00:32.886593Z"
    }
   },
   "id": "1e32986ccc547a66",
   "execution_count": null
  },
  {
   "cell_type": "markdown",
   "source": [
    "Graphique pour voir trimestriel par département, quand est-ce qu'on à dépassé le seuil de cible_objectif_qualité_PM10_mensuel (valeur de seuil = 18, en rouge quand depassé)"
   ],
   "metadata": {
    "collapsed": false
   },
   "id": "2be4beb83e8a1123"
  },
  {
   "cell_type": "code",
   "outputs": [
    {
     "ename": "KeyError",
     "evalue": "'année'",
     "output_type": "error",
     "traceback": [
      "\u001B[0;31m---------------------------------------------------------------------------\u001B[0m",
      "\u001B[0;31mKeyError\u001B[0m                                  Traceback (most recent call last)",
      "Cell \u001B[0;32mIn[51], line 2\u001B[0m\n\u001B[1;32m      1\u001B[0m \u001B[38;5;66;03m# Calculer la moyenne trimestrielle de PM10 pour chaque département et chaque année\u001B[39;00m\n\u001B[0;32m----> 2\u001B[0m quarterly_means \u001B[38;5;241m=\u001B[39m \u001B[43mdfPM10\u001B[49m\u001B[38;5;241;43m.\u001B[39;49m\u001B[43mgroupby\u001B[49m\u001B[43m(\u001B[49m\u001B[43m[\u001B[49m\u001B[38;5;124;43m'\u001B[39;49m\u001B[38;5;124;43mannée\u001B[39;49m\u001B[38;5;124;43m'\u001B[39;49m\u001B[43m,\u001B[49m\u001B[43m \u001B[49m\u001B[38;5;124;43m'\u001B[39;49m\u001B[38;5;124;43mtrimestre\u001B[39;49m\u001B[38;5;124;43m'\u001B[39;49m\u001B[43m,\u001B[49m\u001B[43m \u001B[49m\u001B[38;5;124;43m'\u001B[39;49m\u001B[38;5;124;43mdepartement_nom\u001B[39;49m\u001B[38;5;124;43m'\u001B[39;49m\u001B[43m]\u001B[49m\u001B[43m)\u001B[49m[\u001B[38;5;124m'\u001B[39m\u001B[38;5;124mvaleur\u001B[39m\u001B[38;5;124m'\u001B[39m]\u001B[38;5;241m.\u001B[39mmean()\u001B[38;5;241m.\u001B[39mreset_index()\n\u001B[1;32m      4\u001B[0m \u001B[38;5;66;03m# Ajouter une colonne indiquant si la moyenne trimestrielle dépasse les seuils\u001B[39;00m\n\u001B[1;32m      5\u001B[0m quarterly_means[\u001B[38;5;124m'\u001B[39m\u001B[38;5;124mdepasse_seuil\u001B[39m\u001B[38;5;124m'\u001B[39m] \u001B[38;5;241m=\u001B[39m (quarterly_means[\u001B[38;5;124m'\u001B[39m\u001B[38;5;124mvaleur\u001B[39m\u001B[38;5;124m'\u001B[39m] \u001B[38;5;241m>\u001B[39m OBJECTIF_QUALITE_PM10) \u001B[38;5;241m|\u001B[39m (quarterly_means[\u001B[38;5;124m'\u001B[39m\u001B[38;5;124mvaleur\u001B[39m\u001B[38;5;124m'\u001B[39m] \u001B[38;5;241m>\u001B[39m VALEUR_LIMITE_ANNUELLE_PM10)\n",
      "File \u001B[0;32m~/PycharmProjects/indiceATMO/.venv/lib/python3.12/site-packages/pandas/core/frame.py:9183\u001B[0m, in \u001B[0;36mDataFrame.groupby\u001B[0;34m(self, by, axis, level, as_index, sort, group_keys, observed, dropna)\u001B[0m\n\u001B[1;32m   9180\u001B[0m \u001B[38;5;28;01mif\u001B[39;00m level \u001B[38;5;129;01mis\u001B[39;00m \u001B[38;5;28;01mNone\u001B[39;00m \u001B[38;5;129;01mand\u001B[39;00m by \u001B[38;5;129;01mis\u001B[39;00m \u001B[38;5;28;01mNone\u001B[39;00m:\n\u001B[1;32m   9181\u001B[0m     \u001B[38;5;28;01mraise\u001B[39;00m \u001B[38;5;167;01mTypeError\u001B[39;00m(\u001B[38;5;124m\"\u001B[39m\u001B[38;5;124mYou have to supply one of \u001B[39m\u001B[38;5;124m'\u001B[39m\u001B[38;5;124mby\u001B[39m\u001B[38;5;124m'\u001B[39m\u001B[38;5;124m and \u001B[39m\u001B[38;5;124m'\u001B[39m\u001B[38;5;124mlevel\u001B[39m\u001B[38;5;124m'\u001B[39m\u001B[38;5;124m\"\u001B[39m)\n\u001B[0;32m-> 9183\u001B[0m \u001B[38;5;28;01mreturn\u001B[39;00m \u001B[43mDataFrameGroupBy\u001B[49m\u001B[43m(\u001B[49m\n\u001B[1;32m   9184\u001B[0m \u001B[43m    \u001B[49m\u001B[43mobj\u001B[49m\u001B[38;5;241;43m=\u001B[39;49m\u001B[38;5;28;43mself\u001B[39;49m\u001B[43m,\u001B[49m\n\u001B[1;32m   9185\u001B[0m \u001B[43m    \u001B[49m\u001B[43mkeys\u001B[49m\u001B[38;5;241;43m=\u001B[39;49m\u001B[43mby\u001B[49m\u001B[43m,\u001B[49m\n\u001B[1;32m   9186\u001B[0m \u001B[43m    \u001B[49m\u001B[43maxis\u001B[49m\u001B[38;5;241;43m=\u001B[39;49m\u001B[43maxis\u001B[49m\u001B[43m,\u001B[49m\n\u001B[1;32m   9187\u001B[0m \u001B[43m    \u001B[49m\u001B[43mlevel\u001B[49m\u001B[38;5;241;43m=\u001B[39;49m\u001B[43mlevel\u001B[49m\u001B[43m,\u001B[49m\n\u001B[1;32m   9188\u001B[0m \u001B[43m    \u001B[49m\u001B[43mas_index\u001B[49m\u001B[38;5;241;43m=\u001B[39;49m\u001B[43mas_index\u001B[49m\u001B[43m,\u001B[49m\n\u001B[1;32m   9189\u001B[0m \u001B[43m    \u001B[49m\u001B[43msort\u001B[49m\u001B[38;5;241;43m=\u001B[39;49m\u001B[43msort\u001B[49m\u001B[43m,\u001B[49m\n\u001B[1;32m   9190\u001B[0m \u001B[43m    \u001B[49m\u001B[43mgroup_keys\u001B[49m\u001B[38;5;241;43m=\u001B[39;49m\u001B[43mgroup_keys\u001B[49m\u001B[43m,\u001B[49m\n\u001B[1;32m   9191\u001B[0m \u001B[43m    \u001B[49m\u001B[43mobserved\u001B[49m\u001B[38;5;241;43m=\u001B[39;49m\u001B[43mobserved\u001B[49m\u001B[43m,\u001B[49m\n\u001B[1;32m   9192\u001B[0m \u001B[43m    \u001B[49m\u001B[43mdropna\u001B[49m\u001B[38;5;241;43m=\u001B[39;49m\u001B[43mdropna\u001B[49m\u001B[43m,\u001B[49m\n\u001B[1;32m   9193\u001B[0m \u001B[43m\u001B[49m\u001B[43m)\u001B[49m\n",
      "File \u001B[0;32m~/PycharmProjects/indiceATMO/.venv/lib/python3.12/site-packages/pandas/core/groupby/groupby.py:1329\u001B[0m, in \u001B[0;36mGroupBy.__init__\u001B[0;34m(self, obj, keys, axis, level, grouper, exclusions, selection, as_index, sort, group_keys, observed, dropna)\u001B[0m\n\u001B[1;32m   1326\u001B[0m \u001B[38;5;28mself\u001B[39m\u001B[38;5;241m.\u001B[39mdropna \u001B[38;5;241m=\u001B[39m dropna\n\u001B[1;32m   1328\u001B[0m \u001B[38;5;28;01mif\u001B[39;00m grouper \u001B[38;5;129;01mis\u001B[39;00m \u001B[38;5;28;01mNone\u001B[39;00m:\n\u001B[0;32m-> 1329\u001B[0m     grouper, exclusions, obj \u001B[38;5;241m=\u001B[39m \u001B[43mget_grouper\u001B[49m\u001B[43m(\u001B[49m\n\u001B[1;32m   1330\u001B[0m \u001B[43m        \u001B[49m\u001B[43mobj\u001B[49m\u001B[43m,\u001B[49m\n\u001B[1;32m   1331\u001B[0m \u001B[43m        \u001B[49m\u001B[43mkeys\u001B[49m\u001B[43m,\u001B[49m\n\u001B[1;32m   1332\u001B[0m \u001B[43m        \u001B[49m\u001B[43maxis\u001B[49m\u001B[38;5;241;43m=\u001B[39;49m\u001B[43maxis\u001B[49m\u001B[43m,\u001B[49m\n\u001B[1;32m   1333\u001B[0m \u001B[43m        \u001B[49m\u001B[43mlevel\u001B[49m\u001B[38;5;241;43m=\u001B[39;49m\u001B[43mlevel\u001B[49m\u001B[43m,\u001B[49m\n\u001B[1;32m   1334\u001B[0m \u001B[43m        \u001B[49m\u001B[43msort\u001B[49m\u001B[38;5;241;43m=\u001B[39;49m\u001B[43msort\u001B[49m\u001B[43m,\u001B[49m\n\u001B[1;32m   1335\u001B[0m \u001B[43m        \u001B[49m\u001B[43mobserved\u001B[49m\u001B[38;5;241;43m=\u001B[39;49m\u001B[38;5;28;43;01mFalse\u001B[39;49;00m\u001B[43m \u001B[49m\u001B[38;5;28;43;01mif\u001B[39;49;00m\u001B[43m \u001B[49m\u001B[43mobserved\u001B[49m\u001B[43m \u001B[49m\u001B[38;5;129;43;01mis\u001B[39;49;00m\u001B[43m \u001B[49m\u001B[43mlib\u001B[49m\u001B[38;5;241;43m.\u001B[39;49m\u001B[43mno_default\u001B[49m\u001B[43m \u001B[49m\u001B[38;5;28;43;01melse\u001B[39;49;00m\u001B[43m \u001B[49m\u001B[43mobserved\u001B[49m\u001B[43m,\u001B[49m\n\u001B[1;32m   1336\u001B[0m \u001B[43m        \u001B[49m\u001B[43mdropna\u001B[49m\u001B[38;5;241;43m=\u001B[39;49m\u001B[38;5;28;43mself\u001B[39;49m\u001B[38;5;241;43m.\u001B[39;49m\u001B[43mdropna\u001B[49m\u001B[43m,\u001B[49m\n\u001B[1;32m   1337\u001B[0m \u001B[43m    \u001B[49m\u001B[43m)\u001B[49m\n\u001B[1;32m   1339\u001B[0m \u001B[38;5;28;01mif\u001B[39;00m observed \u001B[38;5;129;01mis\u001B[39;00m lib\u001B[38;5;241m.\u001B[39mno_default:\n\u001B[1;32m   1340\u001B[0m     \u001B[38;5;28;01mif\u001B[39;00m \u001B[38;5;28many\u001B[39m(ping\u001B[38;5;241m.\u001B[39m_passed_categorical \u001B[38;5;28;01mfor\u001B[39;00m ping \u001B[38;5;129;01min\u001B[39;00m grouper\u001B[38;5;241m.\u001B[39mgroupings):\n",
      "File \u001B[0;32m~/PycharmProjects/indiceATMO/.venv/lib/python3.12/site-packages/pandas/core/groupby/grouper.py:1043\u001B[0m, in \u001B[0;36mget_grouper\u001B[0;34m(obj, key, axis, level, sort, observed, validate, dropna)\u001B[0m\n\u001B[1;32m   1041\u001B[0m         in_axis, level, gpr \u001B[38;5;241m=\u001B[39m \u001B[38;5;28;01mFalse\u001B[39;00m, gpr, \u001B[38;5;28;01mNone\u001B[39;00m\n\u001B[1;32m   1042\u001B[0m     \u001B[38;5;28;01melse\u001B[39;00m:\n\u001B[0;32m-> 1043\u001B[0m         \u001B[38;5;28;01mraise\u001B[39;00m \u001B[38;5;167;01mKeyError\u001B[39;00m(gpr)\n\u001B[1;32m   1044\u001B[0m \u001B[38;5;28;01melif\u001B[39;00m \u001B[38;5;28misinstance\u001B[39m(gpr, Grouper) \u001B[38;5;129;01mand\u001B[39;00m gpr\u001B[38;5;241m.\u001B[39mkey \u001B[38;5;129;01mis\u001B[39;00m \u001B[38;5;129;01mnot\u001B[39;00m \u001B[38;5;28;01mNone\u001B[39;00m:\n\u001B[1;32m   1045\u001B[0m     \u001B[38;5;66;03m# Add key to exclusions\u001B[39;00m\n\u001B[1;32m   1046\u001B[0m     exclusions\u001B[38;5;241m.\u001B[39madd(gpr\u001B[38;5;241m.\u001B[39mkey)\n",
      "\u001B[0;31mKeyError\u001B[0m: 'année'"
     ]
    }
   ],
   "source": [
    "# Calculer la moyenne trimestrielle de PM10 pour chaque département et chaque année\n",
    "quarterly_means = dfPM10.groupby(['année', 'trimestre', 'departement_nom'])['valeur'].mean().reset_index()\n",
    "\n",
    "# Ajouter une colonne indiquant si la moyenne trimestrielle dépasse les seuils\n",
    "quarterly_means['depasse_seuil'] = (quarterly_means['valeur'] > OBJECTIF_QUALITE_PM10) | (quarterly_means['valeur'] > VALEUR_LIMITE_ANNUELLE_PM10)\n",
    "\n",
    "# Créer la palette de couleurs\n",
    "quarterly_means['color'] = ['red' if x else 'blue' for x in quarterly_means['depasse_seuil']]\n",
    "\n",
    "# Remplacer 'Q' par 'T' dans les trimestres pour l'affichage\n",
    "quarterly_means['trimestre'] = quarterly_means['trimestre'].astype(str).str.replace('Q', 'T')\n",
    "\n",
    "# Créer un graphique en bâtons pour chaque année\n",
    "years = quarterly_means['année'].unique()\n",
    "\n",
    "for year in years:\n",
    "    plt.figure(figsize=(15, 8))\n",
    "    annual_data = quarterly_means[quarterly_means['année'] == year]\n",
    "    \n",
    "    # Boucler sur les trimestres pour créer les groupes\n",
    "    for quarter in annual_data['trimestre'].unique():\n",
    "        quarterly_data = annual_data[annual_data['trimestre'] == quarter]\n",
    "        colors = quarterly_data['color']\n",
    "        plt.bar(quarterly_data['departement_nom'] + \" \" + quarterly_data['trimestre'], quarterly_data['valeur'], color=colors)\n",
    "\n",
    "    # Ajouter des lignes horizontales pour les seuils\n",
    "    plt.axhline(y=OBJECTIF_QUALITE_PM10, color='green', linestyle='--', linewidth=2, label=f'Seuil {OBJECTIF_QUALITE_PM10}')\n",
    "    plt.axhline(y=VALEUR_LIMITE_ANNUELLE_PM10, color='orange', linestyle='--', linewidth=2, label=f'Seuil {VALEUR_LIMITE_ANNUELLE_PM10}')\n",
    "\n",
    "    plt.xlabel('Département et Trimestre')\n",
    "    plt.ylabel('Moyenne trimestrielle PM10')\n",
    "    plt.title(f'Moyennes trimestrielles des valeurs PM10 par département pour l\\'année {year}')\n",
    "    plt.legend(title='Seuils')\n",
    "    plt.xticks(rotation=90)  # Rotation pour mieux afficher les noms des départements\n",
    "    plt.show()\n"
   ],
   "metadata": {
    "collapsed": false,
    "ExecuteTime": {
     "end_time": "2024-05-21T14:00:37.068634Z",
     "start_time": "2024-05-21T14:00:36.949806Z"
    }
   },
   "id": "3871ba36c264712f",
   "execution_count": 51
  },
  {
   "cell_type": "markdown",
   "source": [
    "Graphique pour voir par année et par mois, quand est-ce qu'on à dépassé le seuil de cible_objectif_qualité_PM10_mensuel (valeur de seuil = 18, en rouge quand depassé)"
   ],
   "metadata": {
    "collapsed": false
   },
   "id": "11c71890ee5e3e78"
  },
  {
   "cell_type": "code",
   "outputs": [],
   "source": [
    "import calendar\n",
    "\n",
    "# Grouper les données par année et mois\n",
    "dfPM10['année'] = dfPM10['date_heure_tu'].dt.year\n",
    "dfPM10['mois'] = dfPM10['date_heure_tu'].dt.month\n",
    "grouped = dfPM10.groupby(['année', 'mois'])[['valeur']].mean().reset_index()\n",
    "\n",
    "# Créer la colonne indiquant si la moyenne mensuelle dépasse le seuil\n",
    "grouped['depasse_seuil'] = (grouped['valeur'] > OBJECTIF_QUALITE_PM10_MENSUEL).astype(int)\n",
    "\n",
    "# Créer le diagramme en bâtons pour chaque année\n",
    "for year in grouped['année'].unique():\n",
    "    plt.figure(figsize=(10, 5))\n",
    "    subset = grouped[grouped['année'] == year]\n",
    "    colors = ['red' if x == 1 else 'blue' for x in subset['depasse_seuil']]\n",
    "    months = [calendar.month_name[m] for m in subset['mois']]\n",
    "    plt.bar(months, subset['valeur'], color=colors)\n",
    "    plt.axhline(y=OBJECTIF_QUALITE_PM10_MENSUEL, color='green', linestyle='--', linewidth=2, label=f'Seuil {OBJECTIF_QUALITE_PM10_MENSUEL}')\n",
    "    plt.xlabel('Mois')\n",
    "    plt.ylabel('Valeur moyenne mensuelle PM10')\n",
    "    plt.title(f'Valeurs moyennes mensuelles PM10 pour l\\'année {year}')\n",
    "    plt.xticks(rotation=45)\n",
    "    plt.show()\n"
   ],
   "metadata": {
    "collapsed": false,
    "ExecuteTime": {
     "start_time": "2024-05-21T14:00:32.887878Z"
    }
   },
   "id": "2e3356e0434a942d",
   "execution_count": null
  },
  {
   "cell_type": "markdown",
   "source": [
    "## Ajout d'alerte quand les variables de seuils sont dépassées"
   ],
   "metadata": {
    "collapsed": false
   },
   "id": "5961e6792628d96c"
  },
  {
   "cell_type": "markdown",
   "source": [
    "### Pour les valeurs de seuils annuels"
   ],
   "metadata": {
    "collapsed": false
   },
   "id": "34329f5ff50faa6c"
  },
  {
   "cell_type": "code",
   "outputs": [],
   "source": [
    "# Convertir les colonnes de date en format datetime si ce n'est pas déjà fait\n",
    "dfPM10['date_heure_tu'] = pd.to_datetime(dfPM10['date_heure_tu'])\n",
    "\n",
    "# Grouper les données par année et département\n",
    "dfPM10['année'] = dfPM10['date_heure_tu'].dt.year\n",
    "grouped = dfPM10.groupby(['année', 'departement_nom'])[['valeur']].mean().reset_index()\n",
    "\n",
    "# Arrondir les valeurs moyennes à un chiffre après la virgule\n",
    "grouped['valeur'] = grouped['valeur'].round(1)\n",
    "\n",
    "# Créer la colonne indiquant si la moyenne annuelle dépasse un des seuils\n",
    "grouped['depasse_objectif_qualite'] = grouped['valeur'] > OBJECTIF_QUALITE_PM10\n",
    "grouped['depasse_valeur_limite'] = grouped['valeur'] > VALEUR_LIMITE_ANNUELLE_PM10\n",
    "\n",
    "# Regrouper les alertes par type\n",
    "alertes_qualite = grouped[grouped['depasse_objectif_qualite']]\n",
    "alertes_limite = grouped[grouped['depasse_valeur_limite']]\n",
    "\n",
    "# Afficher les alertes par type pour les moyennes annuelles avec le département\n",
    "if not alertes_qualite.empty:\n",
    "    print(\"Alertes pour l'Objectif de Qualité annuel:\")\n",
    "    for index, row in alertes_qualite.iterrows():\n",
    "        print(f\"Alerte: Valeur moyenne annuelle {row['valeur']} dépasse l'Objectif de Qualité annuel ({OBJECTIF_QUALITE_PM10} µg/m3) en {row['année']} dans le département {row['departement_nom']}\")\n",
    "else:\n",
    "    print(\"Aucune alerte pour l'Objectif de Qualité annuel.\")\n",
    "\n",
    "if not alertes_limite.empty:\n",
    "    print(\"\\nAlertes pour la Valeur Limite annuelle:\")\n",
    "    for index, row in alertes_limite.iterrows():\n",
    "        print(f\"Alerte: Valeur moyenne annuelle {row['valeur']} dépasse la Valeur Limite annuelle ({VALEUR_LIMITE_ANNUELLE_PM10} µg/m3) en {row['année']} dans le département {row['departement_nom']}\")\n",
    "else:\n",
    "    print(\"Aucune alerte pour la Valeur Limite annuelle.\")\n",
    "\n"
   ],
   "metadata": {
    "collapsed": false,
    "ExecuteTime": {
     "start_time": "2024-05-21T14:00:32.888427Z"
    }
   },
   "id": "1c400ce6e78d96fc",
   "execution_count": null
  },
  {
   "cell_type": "markdown",
   "source": [
    "### Pour les valeurs de seuils mensuels"
   ],
   "metadata": {
    "collapsed": false
   },
   "id": "cb5f0062f0527697"
  },
  {
   "cell_type": "code",
   "outputs": [],
   "source": [
    "import pandas as pd\n",
    "import calendar\n",
    "\n",
    "# Convertir les colonnes de date en format datetime si ce n'est pas déjà fait\n",
    "dfPM10['date_heure_tu'] = pd.to_datetime(dfPM10['date_heure_tu'])\n",
    "\n",
    "# Grouper les données par année, mois et département\n",
    "dfPM10['année'] = dfPM10['date_heure_tu'].dt.year\n",
    "dfPM10['mois'] = dfPM10['date_heure_tu'].dt.month\n",
    "grouped = dfPM10.groupby(['année', 'mois', 'departement_nom'])[['valeur']].mean().reset_index()\n",
    "\n",
    "# Arrondir les valeurs moyennes à un chiffre après la virgule\n",
    "grouped['valeur'] = grouped['valeur'].round(1)\n",
    "\n",
    "# Créer la colonne indiquant si la moyenne mensuelle dépasse le seuil\n",
    "grouped['depasse_objectif_qualite'] = grouped['valeur'] > OBJECTIF_QUALITE_PM10_MENSUEL\n",
    "\n",
    "# Extraire les mois en lettres\n",
    "grouped['mois_lettres'] = grouped['mois'].apply(lambda x: calendar.month_name[x])\n",
    "\n",
    "# Regrouper les alertes par type\n",
    "alertes_qualite = grouped[grouped['depasse_objectif_qualite']]\n",
    "\n",
    "# Afficher les alertes par type pour les moyennes mensuelles avec le département\n",
    "if not alertes_qualite.empty:\n",
    "    print(\"Alertes pour l'Objectif de Qualité mensuel:\")\n",
    "    for index, row in alertes_qualite.iterrows():\n",
    "        print(f\"Alerte: Valeur moyenne {row['valeur']} dépasse l'Objectif de Qualité mensuel ({OBJECTIF_QUALITE_PM10_MENSUEL} µg/m3) en {row['mois_lettres']} {row['année']} dans le département {row['departement_nom']}\")\n",
    "else:\n",
    "    print(\"Aucune alerte pour l'Objectif de Qualité mensuel.\")\n"
   ],
   "metadata": {
    "collapsed": false,
    "ExecuteTime": {
     "start_time": "2024-05-21T14:00:32.889001Z"
    }
   },
   "id": "40ae6f395f0ae1cd",
   "execution_count": null
  },
  {
   "cell_type": "code",
   "outputs": [],
   "source": [],
   "metadata": {
    "collapsed": false
   },
   "id": "eaf47ab62f9ebbb"
  }
 ],
 "metadata": {
  "kernelspec": {
   "display_name": "Python 3",
   "language": "python",
   "name": "python3"
  },
  "language_info": {
   "codemirror_mode": {
    "name": "ipython",
    "version": 2
   },
   "file_extension": ".py",
   "mimetype": "text/x-python",
   "name": "python",
   "nbconvert_exporter": "python",
   "pygments_lexer": "ipython2",
   "version": "2.7.6"
  }
 },
 "nbformat": 4,
 "nbformat_minor": 5
}
