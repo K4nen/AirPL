{
 "cells": [
  {
   "cell_type": "markdown",
   "source": [
    "# Traitement pour le jeu de données Population"
   ],
   "metadata": {
    "collapsed": false
   },
   "id": "a4fd89c98e3540c4"
  },
  {
   "cell_type": "code",
   "outputs": [],
   "source": [
    "import requests\n",
    "import pandas as pd\n",
    "import matplotlib.pyplot as plt\n",
    "import seaborn as sns"
   ],
   "metadata": {
    "collapsed": false,
    "ExecuteTime": {
     "end_time": "2024-05-21T12:47:23.888669Z",
     "start_time": "2024-05-21T12:47:23.835200Z"
    }
   },
   "id": "20dfd5d45c105399",
   "execution_count": 2
  },
  {
   "cell_type": "markdown",
   "source": [
    "## Appel API"
   ],
   "metadata": {
    "collapsed": false
   },
   "id": "ac29a70069ef36e8"
  },
  {
   "cell_type": "code",
   "outputs": [
    {
     "name": "stdout",
     "output_type": "stream",
     "text": [
      "Total records retrieved: 1238\n"
     ]
    }
   ],
   "source": [
    "\n",
    "base_url = \"https://data.paysdelaloire.fr/api/explore/v2.1/catalog/datasets/12002701600563_population_pays_de_la_loire_2019_communes_epci/records\"\n",
    "limit = 100  # Nombre de résultats par page\n",
    "offset = 0  # Offset initial\n",
    "dfPopulation =  pd.DataFrame()  # Liste pour stocker tous les enregistrements\n",
    "\n",
    "while True:\n",
    "    # Construire l'URL avec le paramètre d'offset\n",
    "    url = f\"{base_url}?limit={limit}&offset={offset}\"\n",
    "\n",
    "#Appeler l'API\n",
    "    response = requests.get(url)\n",
    "\n",
    "#Vérifier si la requête a réussi\n",
    "    if response.status_code != 200:\n",
    "        print(f\"Erreur lors de l'appel de l'API: {response.status_code}\")\n",
    "        break\n",
    "\n",
    "    data = response.json()\n",
    "#Récupérer les enregistrements\n",
    "    results = data.get('results', [])\n",
    "    if results:\n",
    "        df_results = pd.json_normalize(results)\n",
    "        dfPopulation = pd.concat([dfPopulation, df_results], ignore_index=True)\n",
    "\n",
    "#Vérifier si le nombre d'enregistrements récupérés est inférieur au limite\n",
    "    if len(results) < limit:\n",
    "        break  # Arrêter la boucle si tous les enregistrements ont été récupérés\n",
    "\n",
    "#Mettre à jour l'offset pour la prochaine itération\n",
    "    offset += limit\n",
    "\n",
    "print(f\"Total records retrieved: {len(dfPopulation)}\")"
   ],
   "metadata": {
    "collapsed": false,
    "ExecuteTime": {
     "end_time": "2024-05-21T12:56:33.785600Z",
     "start_time": "2024-05-21T12:56:27.395557Z"
    }
   },
   "id": "6a270d19bc0e468d",
   "execution_count": 13
  },
  {
   "cell_type": "markdown",
   "source": [
    "## Analyse et correction du Dataset"
   ],
   "metadata": {
    "collapsed": false
   },
   "id": "831621760f7eddef"
  },
  {
   "cell_type": "code",
   "outputs": [
    {
     "name": "stdout",
     "output_type": "stream",
     "text": [
      "<class 'pandas.core.frame.DataFrame'>\n",
      "RangeIndex: 1238 entries, 0 to 1237\n",
      "Data columns (total 20 columns):\n",
      " #   Column                          Non-Null Count  Dtype  \n",
      "---  ------                          --------------  -----  \n",
      " 0   code_region                     1238 non-null   int64  \n",
      " 1   nom_de_la_region                1238 non-null   object \n",
      " 2   code_departement                1238 non-null   object \n",
      " 3   code_arrondissement             1238 non-null   object \n",
      " 4   code_canton                     1238 non-null   object \n",
      " 5   code_commune                    1238 non-null   object \n",
      " 6   nom_de_la_commune               1238 non-null   object \n",
      " 7   population_municipale           1238 non-null   float64\n",
      " 8   population_comptee_a_part       1238 non-null   float64\n",
      " 9   population_totale               1238 non-null   float64\n",
      " 10  epci                            1229 non-null   object \n",
      " 11  departement                     1238 non-null   object \n",
      " 12  tranche_population              1238 non-null   object \n",
      " 13  geo_shape.type                  1230 non-null   object \n",
      " 14  geo_shape.geometry.coordinates  1230 non-null   object \n",
      " 15  geo_shape.geometry.type         1230 non-null   object \n",
      " 16  geo_point_2d.lon                1230 non-null   float64\n",
      " 17  geo_point_2d.lat                1230 non-null   float64\n",
      " 18  geo_shape                       0 non-null      float64\n",
      " 19  geo_point_2d                    0 non-null      float64\n",
      "dtypes: float64(7), int64(1), object(12)\n",
      "memory usage: 193.6+ KB\n"
     ]
    }
   ],
   "source": [
    "dfPopulation.info()"
   ],
   "metadata": {
    "collapsed": false,
    "ExecuteTime": {
     "end_time": "2024-05-21T12:56:46.062056Z",
     "start_time": "2024-05-21T12:56:46.058429Z"
    }
   },
   "id": "fd79697aeffc87b1",
   "execution_count": 14
  },
  {
   "cell_type": "code",
   "outputs": [
    {
     "data": {
      "text/plain": "<bound method DataFrame.info of       code_region  nom_de_la_region code_departement code_arrondissement  \\\n0              52  Pays de la Loire               44                   3   \n1              52  Pays de la Loire               44                   2   \n2              52  Pays de la Loire               44                   3   \n3              52  Pays de la Loire               44                   2   \n4              52  Pays de la Loire               44                   3   \n...           ...               ...              ...                 ...   \n1233           52  Pays de la Loire               85                   1   \n1234           52  Pays de la Loire               85                   2   \n1235           52  Pays de la Loire               85                   1   \n1236           52  Pays de la Loire               85                   1   \n1237           52  Pays de la Loire               85                   1   \n\n     code_canton code_commune      nom_de_la_commune  population_municipale  \\\n0             09        44006                Assérac                 1790.0   \n1             21        44018                 Bouaye                 7844.0   \n2             89        44005        Chaumes-en-Retz                 6759.0   \n3             24        44047                Couëron                21372.0   \n4             02        44049             Le Croisic                 4093.0   \n...          ...          ...                    ...                    ...   \n1233          05        85265  Saint-Pierre-le-Vieux                  961.0   \n1234          03        85202          Sainte-Cécile                 1621.0   \n1235          04        85289            La Tardière                 1312.0   \n1236          04        85290                  Thiré                  570.0   \n1237          08        85297                Triaize                 1010.0   \n\n      population_comptee_a_part  population_totale  \\\n0                          32.0             1822.0   \n1                         153.0             7997.0   \n2                         109.0             6868.0   \n3                         243.0            21615.0   \n4                          54.0             4147.0   \n...                         ...                ...   \n1233                       23.0              984.0   \n1234                      106.0             1727.0   \n1235                       26.0             1338.0   \n1236                       12.0              582.0   \n1237                       15.0             1025.0   \n\n                                                   epci       departement  \\\n0     Communauté d'agglomération de la Presqu'île de...  Loire-Atlantique   \n1                Communauté Urbaine de Nantes Métropole  Loire-Atlantique   \n2                             Pornic Agglo Pays de Retz  Loire-Atlantique   \n3                Communauté Urbaine de Nantes Métropole  Loire-Atlantique   \n4     Communauté d'agglomération de la Presqu'île de...  Loire-Atlantique   \n...                                                 ...               ...   \n1233         Communauté de communes Vendée Sèvre Autise            Vendée   \n1234       Communauté de communes du Pays de Chantonnay            Vendée   \n1235  Communauté de communes du Pays de la Châtaigne...            Vendée   \n1236      Communauté de communes du Sud Vendée Littoral            Vendée   \n1237      Communauté de communes du Sud Vendée Littoral            Vendée   \n\n                  tranche_population geo_shape.type  \\\n0           Moins de 3 500 habitants        Feature   \n1            Plus de 5 000 habitants        Feature   \n2            Plus de 5 000 habitants        Feature   \n3            Plus de 5 000 habitants        Feature   \n4     Entre 3 500 et 5 000 habitants        Feature   \n...                              ...            ...   \n1233        Moins de 3 500 habitants        Feature   \n1234        Moins de 3 500 habitants        Feature   \n1235        Moins de 3 500 habitants        Feature   \n1236        Moins de 3 500 habitants        Feature   \n1237        Moins de 3 500 habitants        Feature   \n\n                         geo_shape.geometry.coordinates  \\\n0     [[[[-2.43439215, 47.41113676], [-2.43454725, 4...   \n1     [[[[-1.70367761, 47.1333299], [-1.70386036, 47...   \n2     [[[[-1.93604227, 47.10568678], [-1.93621177, 4...   \n3     [[[[-1.74771656, 47.2054141], [-1.75050718, 47...   \n4     [[[[-2.50381943, 47.28095169], [-2.50389151, 4...   \n...                                                 ...   \n1233  [[[[-0.78887016, 46.3858631], [-0.79072431, 46...   \n1234  [[[[-1.1496148, 46.71264303], [-1.14885105, 46...   \n1235  [[[[-0.73998662, 46.68778733], [-0.73900705, 4...   \n1236  [[[[-0.98067898, 46.52787515], [-0.98157778, 4...   \n1237  [[[[-1.24458099, 46.38572124], [-1.24384081, 4...   \n\n     geo_shape.geometry.type  geo_point_2d.lon  geo_point_2d.lat  geo_shape  \\\n0               MultiPolygon         -2.412810         47.438042        NaN   \n1               MultiPolygon         -1.673191         47.147637        NaN   \n2               MultiPolygon         -1.922085         47.149300        NaN   \n3               MultiPolygon         -1.730059         47.230669        NaN   \n4               MultiPolygon         -2.523454         47.292369        NaN   \n...                      ...               ...               ...        ...   \n1233            MultiPolygon         -0.743351         46.400639        NaN   \n1234            MultiPolygon         -1.121459         46.731464        NaN   \n1235            MultiPolygon         -0.690071         46.649992        NaN   \n1236            MultiPolygon         -1.007732         46.543736        NaN   \n1237            MultiPolygon         -1.199221         46.379104        NaN   \n\n      geo_point_2d  \n0              NaN  \n1              NaN  \n2              NaN  \n3              NaN  \n4              NaN  \n...            ...  \n1233           NaN  \n1234           NaN  \n1235           NaN  \n1236           NaN  \n1237           NaN  \n\n[1238 rows x 20 columns]>"
     },
     "execution_count": 15,
     "metadata": {},
     "output_type": "execute_result"
    }
   ],
   "source": [
    "dfPopulation.info"
   ],
   "metadata": {
    "collapsed": false,
    "ExecuteTime": {
     "end_time": "2024-05-21T12:56:46.726842Z",
     "start_time": "2024-05-21T12:56:46.700722Z"
    }
   },
   "id": "6689a895d8038542",
   "execution_count": 15
  },
  {
   "cell_type": "code",
   "outputs": [
    {
     "data": {
      "text/plain": "code_region                          0\nnom_de_la_region                     0\ncode_departement                     0\ncode_arrondissement                  0\ncode_canton                          0\ncode_commune                         0\nnom_de_la_commune                    0\npopulation_municipale                0\npopulation_comptee_a_part            0\npopulation_totale                    0\nepci                                 9\ndepartement                          0\ntranche_population                   0\ngeo_shape.type                       8\ngeo_shape.geometry.coordinates       8\ngeo_shape.geometry.type              8\ngeo_point_2d.lon                     8\ngeo_point_2d.lat                     8\ngeo_shape                         1238\ngeo_point_2d                      1238\ndtype: int64"
     },
     "execution_count": 16,
     "metadata": {},
     "output_type": "execute_result"
    }
   ],
   "source": [
    "dfPopulation.isnull().sum()"
   ],
   "metadata": {
    "collapsed": false,
    "ExecuteTime": {
     "end_time": "2024-05-21T12:56:47.388055Z",
     "start_time": "2024-05-21T12:56:47.376448Z"
    }
   },
   "id": "a7e358ecb6551532",
   "execution_count": 16
  },
  {
   "cell_type": "code",
   "outputs": [
    {
     "name": "stdout",
     "output_type": "stream",
     "text": [
      "population_municipale [1790. 7844. 6759. ... 1621. 1312. 1010.]\n",
      "population_comptee_a_part [3.200e+01 1.530e+02 1.090e+02 2.430e+02 5.400e+01 3.300e+01 4.900e+01\n",
      " 1.100e+01 8.100e+01 3.400e+01 1.330e+02 2.900e+01 5.900e+01 5.157e+03\n",
      " 5.300e+01 2.700e+01 2.600e+01 1.500e+01 4.500e+01 1.270e+02 5.600e+01\n",
      " 3.320e+02 1.000e+02 1.710e+02 5.900e+02 1.650e+02 1.000e+00 1.600e+01\n",
      " 2.650e+02 2.100e+01 2.300e+01 1.400e+01 1.900e+01 9.000e+00 1.300e+01\n",
      " 1.000e+01 2.000e+00 5.000e+00 6.000e+00 1.700e+01 6.200e+01 2.000e+01\n",
      " 5.100e+01 8.000e+00 0.000e+00 5.700e+01 3.000e+00 1.200e+01 3.500e+01\n",
      " 2.400e+01 3.350e+02 4.000e+00 1.800e+01 4.300e+01 2.200e+01 2.090e+02\n",
      " 4.800e+01 1.020e+02 6.700e+01 5.200e+01 3.100e+01 3.000e+01 2.500e+01\n",
      " 4.390e+02 2.800e+01 9.100e+01 1.790e+02 2.780e+02 4.600e+01 4.700e+01\n",
      " 3.380e+02 4.400e+01 2.960e+02 1.570e+02 3.800e+01 7.000e+00 9.400e+01\n",
      " 7.100e+01 5.800e+01 1.000e+03 7.300e+01 4.990e+02 3.600e+01 8.000e+01\n",
      " 1.550e+02 1.610e+02 3.700e+01 1.670e+02 2.120e+02 7.800e+01 3.900e+01\n",
      " 8.500e+01 5.180e+02 1.480e+02 4.200e+01 5.000e+01 1.560e+02 1.770e+02\n",
      " 1.140e+02 1.130e+02 1.190e+02 1.860e+02 7.700e+01 7.000e+01 2.510e+02\n",
      " 9.670e+02 6.000e+01 9.800e+01 6.100e+01 2.290e+02 6.400e+01 1.350e+02\n",
      " 9.900e+01 9.000e+01 2.170e+02 4.330e+02 9.200e+01 6.500e+01 2.930e+02\n",
      " 3.020e+02 6.900e+01 1.779e+03 1.920e+02 6.700e+02 1.870e+02 1.210e+02\n",
      " 7.200e+01 1.470e+02 5.500e+01 2.380e+02 4.000e+01 1.930e+02 1.780e+02\n",
      " 1.940e+02 2.830e+03 7.500e+01 6.960e+02 4.630e+02 6.180e+02 1.428e+03\n",
      " 1.630e+02 5.260e+02 1.740e+02 2.340e+02 4.270e+02 1.240e+02 1.120e+02\n",
      " 7.270e+02 1.590e+02 1.310e+02 3.890e+02 9.600e+01 1.580e+02 5.920e+02\n",
      " 1.680e+02 5.730e+02 5.690e+02 8.300e+01 1.910e+02 7.100e+02 1.080e+02\n",
      " 1.030e+02 1.810e+02 1.070e+02 4.350e+02 5.530e+02 1.100e+02 1.220e+02\n",
      " 2.190e+02 1.010e+02 7.430e+02 1.970e+02 9.700e+01 1.700e+02 3.077e+03\n",
      " 1.380e+02 2.490e+02 4.100e+01 2.920e+02 6.480e+02 7.900e+01 3.150e+02\n",
      " 1.950e+02 8.600e+01 3.880e+02 1.040e+02 2.240e+02 2.130e+02 3.820e+02\n",
      " 2.320e+02 8.200e+01 1.370e+02 7.300e+02 6.800e+01 2.560e+02 1.200e+02\n",
      " 6.490e+02 1.870e+03 1.880e+02 2.556e+03 2.410e+02 1.250e+02 4.140e+02\n",
      " 8.800e+01 1.750e+02 2.994e+03 6.600e+01 1.830e+02 1.280e+02 2.500e+02\n",
      " 7.120e+02 2.730e+02 4.460e+02 3.060e+02 8.900e+01 2.610e+02 8.260e+02\n",
      " 1.520e+02 1.150e+02 6.300e+01 6.800e+02 1.060e+02]\n",
      "population_totale--- [1822. 7997. 6868. ... 1338.  582. 1025.]\n",
      "geo_point_2d.lon---- [-2.41281035 -1.67319092 -1.92208451 ... -0.69007138 -1.00773192\n",
      " -1.19922116]\n",
      "geo_point_2d.lat---- [47.43804177 47.14763692 47.1492998  ... 46.64999172 46.54373587\n",
      " 46.37910447]\n"
     ]
    }
   ],
   "source": [
    "for col in dfPopulation.select_dtypes('float64'):\n",
    "    print(f'{col :-<20} {dfPopulation[col].unique()}')"
   ],
   "metadata": {
    "collapsed": false,
    "ExecuteTime": {
     "end_time": "2024-05-21T12:50:19.346987Z",
     "start_time": "2024-05-21T12:50:19.338569Z"
    }
   },
   "id": "69650671902e722f",
   "execution_count": 8
  },
  {
   "cell_type": "code",
   "outputs": [
    {
     "name": "stdout",
     "output_type": "stream",
     "text": [
      "code_region--------- [52]\n"
     ]
    }
   ],
   "source": [
    "for col in dfPopulation.select_dtypes('int64'):\n",
    "    print(f'{col :-<20} {dfPopulation[col].unique()}')"
   ],
   "metadata": {
    "collapsed": false,
    "ExecuteTime": {
     "end_time": "2024-05-21T12:51:16.911264Z",
     "start_time": "2024-05-21T12:51:16.904421Z"
    }
   },
   "id": "74c596516d1512a8",
   "execution_count": 11
  },
  {
   "cell_type": "code",
   "outputs": [
    {
     "name": "stdout",
     "output_type": "stream",
     "text": [
      "nom_de_la_region---- ['Pays de la Loire']\n",
      "code_departement---- ['44' '49' '53' '72' '85']\n",
      "code_arrondissement- ['3' '2' '5' '1' '4']\n",
      "code_canton--------- ['09' '21' '89' '24' '02' '19' '06' '05' '08' '18' '30' '96' '10' '07'\n",
      " '04' '03' '11' '14' '85' '15' '16' '13' '01' '17' '20' '28' '23' '12'\n",
      " '27' '99' '29' '86' '31' '25' '88' '97' '98' '84' '87']\n",
      "code_commune-------- ['44006' '44018' '44005' ... '85289' '85290' '85297']\n",
      "nom_de_la_commune--- ['Assérac' 'Bouaye' 'Chaumes-en-Retz' ... 'La Tardière' 'Thiré' 'Triaize']\n",
      "epci---------------- [\"Communauté d'agglomération de la Presqu'île de Guérande - Atlantique (CAP Atlantique)\"\n",
      " 'Communauté Urbaine de Nantes Métropole' 'Pornic Agglo Pays de Retz'\n",
      " 'Communauté de communes du Pays de Pont-Château - Saint-Gildas-des-Bois'\n",
      " 'Redon agglomération' 'Communauté de communes de Châteaubriant-Derval'\n",
      " \"Communauté de communes d'Erdre et Gesvres\"\n",
      " \"Communauté de communes du Pays d'Ancenis\"\n",
      " 'Communauté de communes Sèvre et Loire'\n",
      " 'Communauté de communes Sud Retz Atlantique'\n",
      " 'Clisson Sèvre et Maine Agglo'\n",
      " \"Communauté Urbaine d'Angers Loire Métropole\"\n",
      " 'Communauté de communes Loire Layon Aubance' 'Mauges Communauté'\n",
      " \"Communauté d'Agglomération Saumur Val de Loire\"\n",
      " 'Communauté de communes Anjou Loir et Sarthe' 'Mayenne Communauté'\n",
      " 'Communauté de communes des Coëvrons'\n",
      " 'Communauté de communes du Pays de Craon'\n",
      " 'Communauté de communes du Pays de Meslay-Grez'\n",
      " 'Communauté de communes du Pays de Loiron'\n",
      " \"Communauté de communes de l'Ernée\"\n",
      " 'Communauté de communes du Bocage Mayennais'\n",
      " 'Communauté de communes du Pays de Château-Gontier'\n",
      " 'Communauté de communes du Mont des  Avaloirs' 'Laval Agglomération'\n",
      " 'Communauté de communes du Pays Fléchois'\n",
      " 'Communauté de communes Maine Saosnois'\n",
      " \"Communauté de communes du Pays de l'Huisne Sarthoise\"\n",
      " 'Communauté de communesHaute Sarthe Alpes Mancelles'\n",
      " 'Communauté de communes du Val de Sarthe'\n",
      " 'Communauté de communes Loir-Lucé-Bercé'\n",
      " 'Communauté de communes de Loué-Brûlon-Noyen'\n",
      " 'Communauté de communes de la Champagne Conlinoise et du Pays de Sillé'\n",
      " \"Communauté de communes des Vallées de la Braye et de l'Anille\"\n",
      " 'Communauté de communes \"Le Gesnois Bilurien\"'\n",
      " 'Communauté de communes Sud Sarthe'\n",
      " 'Communauté Urbaine Le Mans Métropole'\n",
      " 'Communauté de communes du Pays Belinois'\n",
      " 'Communauté de communes du Pays Sabolien'\n",
      " 'Communauté de communes Maine Coeur de Sarthe'\n",
      " \"Communauté Urbaine d'Alençon\"\n",
      " 'Communauté de communes du Sud Vendée Littoral'\n",
      " 'Communauté de communes de Vie et Boulogne'\n",
      " 'Communauté de communes Vendée Grand Littoral'\n",
      " 'Communauté de communes Océan Marais de Monts'\n",
      " 'Communauté de communes du Pays de Saint-Fulgent – Les Essarts'\n",
      " 'Communauté de communes du Pays des Herbiers'\n",
      " 'Communauté de communes du Pays de Mortagne'\n",
      " 'Communauté de communes du Pays de Saint Gilles Croix de Vie'\n",
      " 'Communauté de communes Vendée Sèvre Autise'\n",
      " 'Communauté de communes du Pays de la Châtaigneraie'\n",
      " 'Communauté de communes du Pays de Fontenay Vendée'\n",
      " 'Communauté de communes du Pays de Chantonnay'\n",
      " 'Les Sables d’Olonnes Agglomération'\n",
      " 'Communauté de communes du Pays de Pouzauges'\n",
      " 'Communauté de communes de la région de Nozay'\n",
      " 'Communauté de communes de la région de Blain'\n",
      " 'Communauté de communes de Grand Lieu'\n",
      " 'Communauté de communes Estuaire et Sillon'\n",
      " 'Communauté de communes Beaugeois Vallée' 'Agglomération du Choletais'\n",
      " \"Communauté de communes de l'Orée de Bercé Bélinois\"\n",
      " 'Communauté de communes du Sud Est du Pays Manceau'\n",
      " 'La Roche sur Yon Agglomération' 'Terres-de-Montaigu'\n",
      " 'Challans Gois Communauté'\n",
      " \"Communauté d'agglomération Région Nazairienne et de l'Estuaire (la CARENE)\"\n",
      " 'Communauté de communes du Sud Estuaire'\n",
      " 'Communauté de communes Vallées du Haut-Anjou' 'Anjou Bleu Communauté'\n",
      " 'Communauté de communes Pays des Achards' None\n",
      " \"Communauté de communes de l'Ile de Noirmoutier\"]\n",
      "departement--------- ['Loire-Atlantique' 'Maine-et-Loire' 'Mayenne' 'Sarthe' 'Vendée']\n",
      "tranche_population-- ['Moins de 3 500 habitants' 'Plus de 5 000 habitants'\n",
      " 'Entre 3 500 et 5 000 habitants']\n",
      "geo_shape.type------ ['Feature' nan]\n"
     ]
    },
    {
     "ename": "TypeError",
     "evalue": "unhashable type: 'list'",
     "output_type": "error",
     "traceback": [
      "\u001B[0;31m---------------------------------------------------------------------------\u001B[0m",
      "\u001B[0;31mTypeError\u001B[0m                                 Traceback (most recent call last)",
      "Cell \u001B[0;32mIn[12], line 2\u001B[0m\n\u001B[1;32m      1\u001B[0m \u001B[38;5;28;01mfor\u001B[39;00m col \u001B[38;5;129;01min\u001B[39;00m dfPopulation\u001B[38;5;241m.\u001B[39mselect_dtypes(\u001B[38;5;124m'\u001B[39m\u001B[38;5;124mobject\u001B[39m\u001B[38;5;124m'\u001B[39m):\n\u001B[0;32m----> 2\u001B[0m     \u001B[38;5;28mprint\u001B[39m(\u001B[38;5;124mf\u001B[39m\u001B[38;5;124m'\u001B[39m\u001B[38;5;132;01m{\u001B[39;00mcol\u001B[38;5;250m \u001B[39m\u001B[38;5;132;01m:\u001B[39;00m\u001B[38;5;124m-<20\u001B[39m\u001B[38;5;132;01m}\u001B[39;00m\u001B[38;5;124m \u001B[39m\u001B[38;5;132;01m{\u001B[39;00m\u001B[43mdfPopulation\u001B[49m\u001B[43m[\u001B[49m\u001B[43mcol\u001B[49m\u001B[43m]\u001B[49m\u001B[38;5;241;43m.\u001B[39;49m\u001B[43munique\u001B[49m\u001B[43m(\u001B[49m\u001B[43m)\u001B[49m\u001B[38;5;132;01m}\u001B[39;00m\u001B[38;5;124m'\u001B[39m)\n",
      "File \u001B[0;32m~/PycharmProjects/indiceATMO/.venv/lib/python3.12/site-packages/pandas/core/series.py:2407\u001B[0m, in \u001B[0;36mSeries.unique\u001B[0;34m(self)\u001B[0m\n\u001B[1;32m   2344\u001B[0m \u001B[38;5;28;01mdef\u001B[39;00m \u001B[38;5;21munique\u001B[39m(\u001B[38;5;28mself\u001B[39m) \u001B[38;5;241m-\u001B[39m\u001B[38;5;241m>\u001B[39m ArrayLike:  \u001B[38;5;66;03m# pylint: disable=useless-parent-delegation\u001B[39;00m\n\u001B[1;32m   2345\u001B[0m \u001B[38;5;250m    \u001B[39m\u001B[38;5;124;03m\"\"\"\u001B[39;00m\n\u001B[1;32m   2346\u001B[0m \u001B[38;5;124;03m    Return unique values of Series object.\u001B[39;00m\n\u001B[1;32m   2347\u001B[0m \n\u001B[0;32m   (...)\u001B[0m\n\u001B[1;32m   2405\u001B[0m \u001B[38;5;124;03m    Categories (3, object): ['a' < 'b' < 'c']\u001B[39;00m\n\u001B[1;32m   2406\u001B[0m \u001B[38;5;124;03m    \"\"\"\u001B[39;00m\n\u001B[0;32m-> 2407\u001B[0m     \u001B[38;5;28;01mreturn\u001B[39;00m \u001B[38;5;28;43msuper\u001B[39;49m\u001B[43m(\u001B[49m\u001B[43m)\u001B[49m\u001B[38;5;241;43m.\u001B[39;49m\u001B[43munique\u001B[49m\u001B[43m(\u001B[49m\u001B[43m)\u001B[49m\n",
      "File \u001B[0;32m~/PycharmProjects/indiceATMO/.venv/lib/python3.12/site-packages/pandas/core/base.py:1025\u001B[0m, in \u001B[0;36mIndexOpsMixin.unique\u001B[0;34m(self)\u001B[0m\n\u001B[1;32m   1023\u001B[0m     result \u001B[38;5;241m=\u001B[39m values\u001B[38;5;241m.\u001B[39munique()\n\u001B[1;32m   1024\u001B[0m \u001B[38;5;28;01melse\u001B[39;00m:\n\u001B[0;32m-> 1025\u001B[0m     result \u001B[38;5;241m=\u001B[39m \u001B[43malgorithms\u001B[49m\u001B[38;5;241;43m.\u001B[39;49m\u001B[43munique1d\u001B[49m\u001B[43m(\u001B[49m\u001B[43mvalues\u001B[49m\u001B[43m)\u001B[49m\n\u001B[1;32m   1026\u001B[0m \u001B[38;5;28;01mreturn\u001B[39;00m result\n",
      "File \u001B[0;32m~/PycharmProjects/indiceATMO/.venv/lib/python3.12/site-packages/pandas/core/algorithms.py:401\u001B[0m, in \u001B[0;36munique\u001B[0;34m(values)\u001B[0m\n\u001B[1;32m    307\u001B[0m \u001B[38;5;28;01mdef\u001B[39;00m \u001B[38;5;21munique\u001B[39m(values):\n\u001B[1;32m    308\u001B[0m \u001B[38;5;250m    \u001B[39m\u001B[38;5;124;03m\"\"\"\u001B[39;00m\n\u001B[1;32m    309\u001B[0m \u001B[38;5;124;03m    Return unique values based on a hash table.\u001B[39;00m\n\u001B[1;32m    310\u001B[0m \n\u001B[0;32m   (...)\u001B[0m\n\u001B[1;32m    399\u001B[0m \u001B[38;5;124;03m    array([('a', 'b'), ('b', 'a'), ('a', 'c')], dtype=object)\u001B[39;00m\n\u001B[1;32m    400\u001B[0m \u001B[38;5;124;03m    \"\"\"\u001B[39;00m\n\u001B[0;32m--> 401\u001B[0m     \u001B[38;5;28;01mreturn\u001B[39;00m \u001B[43munique_with_mask\u001B[49m\u001B[43m(\u001B[49m\u001B[43mvalues\u001B[49m\u001B[43m)\u001B[49m\n",
      "File \u001B[0;32m~/PycharmProjects/indiceATMO/.venv/lib/python3.12/site-packages/pandas/core/algorithms.py:440\u001B[0m, in \u001B[0;36munique_with_mask\u001B[0;34m(values, mask)\u001B[0m\n\u001B[1;32m    438\u001B[0m table \u001B[38;5;241m=\u001B[39m hashtable(\u001B[38;5;28mlen\u001B[39m(values))\n\u001B[1;32m    439\u001B[0m \u001B[38;5;28;01mif\u001B[39;00m mask \u001B[38;5;129;01mis\u001B[39;00m \u001B[38;5;28;01mNone\u001B[39;00m:\n\u001B[0;32m--> 440\u001B[0m     uniques \u001B[38;5;241m=\u001B[39m \u001B[43mtable\u001B[49m\u001B[38;5;241;43m.\u001B[39;49m\u001B[43munique\u001B[49m\u001B[43m(\u001B[49m\u001B[43mvalues\u001B[49m\u001B[43m)\u001B[49m\n\u001B[1;32m    441\u001B[0m     uniques \u001B[38;5;241m=\u001B[39m _reconstruct_data(uniques, original\u001B[38;5;241m.\u001B[39mdtype, original)\n\u001B[1;32m    442\u001B[0m     \u001B[38;5;28;01mreturn\u001B[39;00m uniques\n",
      "File \u001B[0;32mpandas/_libs/hashtable_class_helper.pxi:7248\u001B[0m, in \u001B[0;36mpandas._libs.hashtable.PyObjectHashTable.unique\u001B[0;34m()\u001B[0m\n",
      "File \u001B[0;32mpandas/_libs/hashtable_class_helper.pxi:7195\u001B[0m, in \u001B[0;36mpandas._libs.hashtable.PyObjectHashTable._unique\u001B[0;34m()\u001B[0m\n",
      "\u001B[0;31mTypeError\u001B[0m: unhashable type: 'list'"
     ]
    }
   ],
   "source": [
    "for col in dfPopulation.select_dtypes('object'):\n",
    "    print(f'{col :-<20} {dfPopulation[col].unique()}')"
   ],
   "metadata": {
    "collapsed": false,
    "ExecuteTime": {
     "end_time": "2024-05-21T12:51:35.507944Z",
     "start_time": "2024-05-21T12:51:35.376937Z"
    }
   },
   "id": "d09dd41c2d5e71e9",
   "execution_count": 12
  },
  {
   "cell_type": "markdown",
   "source": [
    "Observations : \n",
    "\n",
    "On remarque ici que les colonnes geo_shape et geo_point_2d sont vides. En effet ces deux colonnes ont des sous ensembles qui sont récuperées en étant préfixé par le nom de ces colonnes. On peut donc supprimer ces 2 colonnes qui sont entièrement vides.\n",
    "On remarque également que quelques colonnes sont vides sur une dizaine de lignes, dependant sur un total de 1238 lignes ce n'est pas significatif, on garde donc ces lignes ici.\n",
    "De plus on remarque que certaines colonnes ne sont pas du bon type, il faut donc les changer : \n",
    "- code_departement : object --> int64\n",
    "- code_arrondissement : object --> int64\n",
    "- code_canton : object --> int64\n",
    "- code_commune : object --> int64"
   ],
   "metadata": {
    "collapsed": false
   },
   "id": "b2e99bbb9ea7bbba"
  },
  {
   "cell_type": "code",
   "outputs": [
    {
     "name": "stdout",
     "output_type": "stream",
     "text": [
      "Premières lignes de la colonne 'departement' :\n",
      "0      Loire-Atlantique\n",
      "1      Loire-Atlantique\n",
      "2      Loire-Atlantique\n",
      "3      Loire-Atlantique\n",
      "4      Loire-Atlantique\n",
      "             ...       \n",
      "195             Mayenne\n",
      "196             Mayenne\n",
      "197             Mayenne\n",
      "198             Mayenne\n",
      "199             Mayenne\n",
      "Name: departement, Length: 200, dtype: object\n"
     ]
    }
   ],
   "source": [
    "# Afficher les premières lignes de la colonne 'departement'\n",
    "print(\"Premières lignes de la colonne 'departement' :\")\n",
    "print(dfPopulation['departement'].head(200))"
   ],
   "metadata": {
    "collapsed": false,
    "ExecuteTime": {
     "end_time": "2024-05-21T12:48:09.126686Z",
     "start_time": "2024-05-21T12:48:09.124167Z"
    }
   },
   "id": "2c69754e60037e6a",
   "execution_count": 6
  },
  {
   "cell_type": "markdown",
   "source": [
    "### Suppression des colonnes geo_shape et geo_point_2d"
   ],
   "metadata": {
    "collapsed": false
   },
   "id": "80a8ed3186480f3e"
  },
  {
   "cell_type": "code",
   "outputs": [
    {
     "name": "stdout",
     "output_type": "stream",
     "text": [
      "   code_region  nom_de_la_region code_departement code_arrondissement  \\\n",
      "0           52  Pays de la Loire               44                   3   \n",
      "1           52  Pays de la Loire               44                   2   \n",
      "2           52  Pays de la Loire               44                   3   \n",
      "3           52  Pays de la Loire               44                   2   \n",
      "4           52  Pays de la Loire               44                   3   \n",
      "\n",
      "  code_canton code_commune nom_de_la_commune  population_municipale  \\\n",
      "0          09        44006           Assérac                 1790.0   \n",
      "1          21        44018            Bouaye                 7844.0   \n",
      "2          89        44005   Chaumes-en-Retz                 6759.0   \n",
      "3          24        44047           Couëron                21372.0   \n",
      "4          02        44049        Le Croisic                 4093.0   \n",
      "\n",
      "   population_comptee_a_part  population_totale  \\\n",
      "0                       32.0             1822.0   \n",
      "1                      153.0             7997.0   \n",
      "2                      109.0             6868.0   \n",
      "3                      243.0            21615.0   \n",
      "4                       54.0             4147.0   \n",
      "\n",
      "                                                epci       departement  \\\n",
      "0  Communauté d'agglomération de la Presqu'île de...  Loire-Atlantique   \n",
      "1             Communauté Urbaine de Nantes Métropole  Loire-Atlantique   \n",
      "2                          Pornic Agglo Pays de Retz  Loire-Atlantique   \n",
      "3             Communauté Urbaine de Nantes Métropole  Loire-Atlantique   \n",
      "4  Communauté d'agglomération de la Presqu'île de...  Loire-Atlantique   \n",
      "\n",
      "               tranche_population geo_shape.type  \\\n",
      "0        Moins de 3 500 habitants        Feature   \n",
      "1         Plus de 5 000 habitants        Feature   \n",
      "2         Plus de 5 000 habitants        Feature   \n",
      "3         Plus de 5 000 habitants        Feature   \n",
      "4  Entre 3 500 et 5 000 habitants        Feature   \n",
      "\n",
      "                      geo_shape.geometry.coordinates geo_shape.geometry.type  \\\n",
      "0  [[[[-2.43439215, 47.41113676], [-2.43454725, 4...            MultiPolygon   \n",
      "1  [[[[-1.70367761, 47.1333299], [-1.70386036, 47...            MultiPolygon   \n",
      "2  [[[[-1.93604227, 47.10568678], [-1.93621177, 4...            MultiPolygon   \n",
      "3  [[[[-1.74771656, 47.2054141], [-1.75050718, 47...            MultiPolygon   \n",
      "4  [[[[-2.50381943, 47.28095169], [-2.50389151, 4...            MultiPolygon   \n",
      "\n",
      "   geo_point_2d.lon  geo_point_2d.lat  \n",
      "0         -2.412810         47.438042  \n",
      "1         -1.673191         47.147637  \n",
      "2         -1.922085         47.149300  \n",
      "3         -1.730059         47.230669  \n",
      "4         -2.523454         47.292369  \n"
     ]
    }
   ],
   "source": [
    "# Suppression des colonnes 'geo_shape' et 'geo_point_2d' de dfPopulation\n",
    "dfPopulation = dfPopulation.drop(columns=['geo_shape', 'geo_point_2d'], errors='ignore')\n",
    "\n",
    "# Afficher les premières lignes du DataFrame dfPopulation pour vérifier les modifications\n",
    "print(dfPopulation.head())\n"
   ],
   "metadata": {
    "collapsed": false,
    "ExecuteTime": {
     "end_time": "2024-05-21T12:57:17.115243Z",
     "start_time": "2024-05-21T12:57:17.082399Z"
    }
   },
   "id": "c3a33d4033b7f61d",
   "execution_count": 17
  },
  {
   "cell_type": "markdown",
   "source": [
    "### Changement de types pour les colonnes : \n",
    "- code_departement : object --> int64\n",
    "- code_arrondissement : object --> int64\n",
    "- code_canton : object --> int64\n",
    "- code_commune : object --> int64"
   ],
   "metadata": {
    "collapsed": false
   },
   "id": "259470d971ae9059"
  },
  {
   "cell_type": "code",
   "outputs": [
    {
     "name": "stdout",
     "output_type": "stream",
     "text": [
      "code_region                         int64\n",
      "nom_de_la_region                   object\n",
      "code_departement                    int64\n",
      "code_arrondissement                 int64\n",
      "code_canton                         int64\n",
      "code_commune                        int64\n",
      "nom_de_la_commune                  object\n",
      "population_municipale             float64\n",
      "population_comptee_a_part         float64\n",
      "population_totale                 float64\n",
      "epci                               object\n",
      "departement                        object\n",
      "tranche_population                 object\n",
      "geo_shape.type                     object\n",
      "geo_shape.geometry.coordinates     object\n",
      "geo_shape.geometry.type            object\n",
      "geo_point_2d.lon                  float64\n",
      "geo_point_2d.lat                  float64\n",
      "dtype: object\n"
     ]
    }
   ],
   "source": [
    "# Vérifier si les colonnes existent dans le DataFrame\n",
    "colonnes_a_convertir = ['code_departement', 'code_arrondissement', 'code_canton', 'code_commune']\n",
    "\n",
    "# Convertir les colonnes en int64\n",
    "for col in colonnes_a_convertir:\n",
    "    if col in dfPopulation.columns:\n",
    "        dfPopulation[col] = dfPopulation[col].astype('int64')\n",
    "\n",
    "# Afficher les types de colonnes pour vérifier les conversions\n",
    "print(dfPopulation.dtypes)\n"
   ],
   "metadata": {
    "collapsed": false,
    "ExecuteTime": {
     "end_time": "2024-05-21T12:58:59.533966Z",
     "start_time": "2024-05-21T12:58:59.521379Z"
    }
   },
   "id": "a77ead6174bc721f",
   "execution_count": 18
  },
  {
   "cell_type": "code",
   "outputs": [],
   "source": [],
   "metadata": {
    "collapsed": false
   },
   "id": "f2487a4acb503632"
  }
 ],
 "metadata": {
  "kernelspec": {
   "display_name": "Python 3",
   "language": "python",
   "name": "python3"
  },
  "language_info": {
   "codemirror_mode": {
    "name": "ipython",
    "version": 2
   },
   "file_extension": ".py",
   "mimetype": "text/x-python",
   "name": "python",
   "nbconvert_exporter": "python",
   "pygments_lexer": "ipython2",
   "version": "2.7.6"
  }
 },
 "nbformat": 4,
 "nbformat_minor": 5
}
